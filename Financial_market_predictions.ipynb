{
  "nbformat": 4,
  "nbformat_minor": 0,
  "metadata": {
    "colab": {
      "provenance": [],
      "gpuType": "T4",
      "toc_visible": true,
      "authorship_tag": "ABX9TyOjz94L8CHwS5Kc+MshElf4",
      "include_colab_link": true
    },
    "kernelspec": {
      "name": "python3",
      "display_name": "Python 3"
    },
    "language_info": {
      "name": "python"
    },
    "accelerator": "GPU",
    "widgets": {
      "application/vnd.jupyter.widget-state+json": {
        "ff98e3027e334f86bb51f4e90f978713": {
          "model_module": "@jupyter-widgets/controls",
          "model_name": "HBoxModel",
          "model_module_version": "1.5.0",
          "state": {
            "_dom_classes": [],
            "_model_module": "@jupyter-widgets/controls",
            "_model_module_version": "1.5.0",
            "_model_name": "HBoxModel",
            "_view_count": null,
            "_view_module": "@jupyter-widgets/controls",
            "_view_module_version": "1.5.0",
            "_view_name": "HBoxView",
            "box_style": "",
            "children": [
              "IPY_MODEL_f87339eb2fa64a5397fcad2f34d08c3c",
              "IPY_MODEL_da5e22685c03430a92b9ade0771b25aa",
              "IPY_MODEL_bdc37d7e9d144bccb8906c4dc575f282"
            ],
            "layout": "IPY_MODEL_c23cb556e9bc40e1aa285f3f10844b9b"
          }
        },
        "f87339eb2fa64a5397fcad2f34d08c3c": {
          "model_module": "@jupyter-widgets/controls",
          "model_name": "HTMLModel",
          "model_module_version": "1.5.0",
          "state": {
            "_dom_classes": [],
            "_model_module": "@jupyter-widgets/controls",
            "_model_module_version": "1.5.0",
            "_model_name": "HTMLModel",
            "_view_count": null,
            "_view_module": "@jupyter-widgets/controls",
            "_view_module_version": "1.5.0",
            "_view_name": "HTMLView",
            "description": "",
            "description_tooltip": null,
            "layout": "IPY_MODEL_1d634abac58547c9b2239203b05618bf",
            "placeholder": "​",
            "style": "IPY_MODEL_3f632980878b4767842db122579ecba2",
            "value": "Downloading model.safetensors: 100%"
          }
        },
        "da5e22685c03430a92b9ade0771b25aa": {
          "model_module": "@jupyter-widgets/controls",
          "model_name": "FloatProgressModel",
          "model_module_version": "1.5.0",
          "state": {
            "_dom_classes": [],
            "_model_module": "@jupyter-widgets/controls",
            "_model_module_version": "1.5.0",
            "_model_name": "FloatProgressModel",
            "_view_count": null,
            "_view_module": "@jupyter-widgets/controls",
            "_view_module_version": "1.5.0",
            "_view_name": "ProgressView",
            "bar_style": "success",
            "description": "",
            "description_tooltip": null,
            "layout": "IPY_MODEL_aae4a908c2074f12a40258a493877cf2",
            "max": 435755784,
            "min": 0,
            "orientation": "horizontal",
            "style": "IPY_MODEL_b64fdcdb9ae34622a0170b6d644eb55c",
            "value": 435755784
          }
        },
        "bdc37d7e9d144bccb8906c4dc575f282": {
          "model_module": "@jupyter-widgets/controls",
          "model_name": "HTMLModel",
          "model_module_version": "1.5.0",
          "state": {
            "_dom_classes": [],
            "_model_module": "@jupyter-widgets/controls",
            "_model_module_version": "1.5.0",
            "_model_name": "HTMLModel",
            "_view_count": null,
            "_view_module": "@jupyter-widgets/controls",
            "_view_module_version": "1.5.0",
            "_view_name": "HTMLView",
            "description": "",
            "description_tooltip": null,
            "layout": "IPY_MODEL_5806b1181fe640dfb389258ab2d87c85",
            "placeholder": "​",
            "style": "IPY_MODEL_14c5cbf3a3ea4048bb9d32488b618cce",
            "value": " 436M/436M [00:05&lt;00:00, 85.9MB/s]"
          }
        },
        "c23cb556e9bc40e1aa285f3f10844b9b": {
          "model_module": "@jupyter-widgets/base",
          "model_name": "LayoutModel",
          "model_module_version": "1.2.0",
          "state": {
            "_model_module": "@jupyter-widgets/base",
            "_model_module_version": "1.2.0",
            "_model_name": "LayoutModel",
            "_view_count": null,
            "_view_module": "@jupyter-widgets/base",
            "_view_module_version": "1.2.0",
            "_view_name": "LayoutView",
            "align_content": null,
            "align_items": null,
            "align_self": null,
            "border": null,
            "bottom": null,
            "display": null,
            "flex": null,
            "flex_flow": null,
            "grid_area": null,
            "grid_auto_columns": null,
            "grid_auto_flow": null,
            "grid_auto_rows": null,
            "grid_column": null,
            "grid_gap": null,
            "grid_row": null,
            "grid_template_areas": null,
            "grid_template_columns": null,
            "grid_template_rows": null,
            "height": null,
            "justify_content": null,
            "justify_items": null,
            "left": null,
            "margin": null,
            "max_height": null,
            "max_width": null,
            "min_height": null,
            "min_width": null,
            "object_fit": null,
            "object_position": null,
            "order": null,
            "overflow": null,
            "overflow_x": null,
            "overflow_y": null,
            "padding": null,
            "right": null,
            "top": null,
            "visibility": null,
            "width": null
          }
        },
        "1d634abac58547c9b2239203b05618bf": {
          "model_module": "@jupyter-widgets/base",
          "model_name": "LayoutModel",
          "model_module_version": "1.2.0",
          "state": {
            "_model_module": "@jupyter-widgets/base",
            "_model_module_version": "1.2.0",
            "_model_name": "LayoutModel",
            "_view_count": null,
            "_view_module": "@jupyter-widgets/base",
            "_view_module_version": "1.2.0",
            "_view_name": "LayoutView",
            "align_content": null,
            "align_items": null,
            "align_self": null,
            "border": null,
            "bottom": null,
            "display": null,
            "flex": null,
            "flex_flow": null,
            "grid_area": null,
            "grid_auto_columns": null,
            "grid_auto_flow": null,
            "grid_auto_rows": null,
            "grid_column": null,
            "grid_gap": null,
            "grid_row": null,
            "grid_template_areas": null,
            "grid_template_columns": null,
            "grid_template_rows": null,
            "height": null,
            "justify_content": null,
            "justify_items": null,
            "left": null,
            "margin": null,
            "max_height": null,
            "max_width": null,
            "min_height": null,
            "min_width": null,
            "object_fit": null,
            "object_position": null,
            "order": null,
            "overflow": null,
            "overflow_x": null,
            "overflow_y": null,
            "padding": null,
            "right": null,
            "top": null,
            "visibility": null,
            "width": null
          }
        },
        "3f632980878b4767842db122579ecba2": {
          "model_module": "@jupyter-widgets/controls",
          "model_name": "DescriptionStyleModel",
          "model_module_version": "1.5.0",
          "state": {
            "_model_module": "@jupyter-widgets/controls",
            "_model_module_version": "1.5.0",
            "_model_name": "DescriptionStyleModel",
            "_view_count": null,
            "_view_module": "@jupyter-widgets/base",
            "_view_module_version": "1.2.0",
            "_view_name": "StyleView",
            "description_width": ""
          }
        },
        "aae4a908c2074f12a40258a493877cf2": {
          "model_module": "@jupyter-widgets/base",
          "model_name": "LayoutModel",
          "model_module_version": "1.2.0",
          "state": {
            "_model_module": "@jupyter-widgets/base",
            "_model_module_version": "1.2.0",
            "_model_name": "LayoutModel",
            "_view_count": null,
            "_view_module": "@jupyter-widgets/base",
            "_view_module_version": "1.2.0",
            "_view_name": "LayoutView",
            "align_content": null,
            "align_items": null,
            "align_self": null,
            "border": null,
            "bottom": null,
            "display": null,
            "flex": null,
            "flex_flow": null,
            "grid_area": null,
            "grid_auto_columns": null,
            "grid_auto_flow": null,
            "grid_auto_rows": null,
            "grid_column": null,
            "grid_gap": null,
            "grid_row": null,
            "grid_template_areas": null,
            "grid_template_columns": null,
            "grid_template_rows": null,
            "height": null,
            "justify_content": null,
            "justify_items": null,
            "left": null,
            "margin": null,
            "max_height": null,
            "max_width": null,
            "min_height": null,
            "min_width": null,
            "object_fit": null,
            "object_position": null,
            "order": null,
            "overflow": null,
            "overflow_x": null,
            "overflow_y": null,
            "padding": null,
            "right": null,
            "top": null,
            "visibility": null,
            "width": null
          }
        },
        "b64fdcdb9ae34622a0170b6d644eb55c": {
          "model_module": "@jupyter-widgets/controls",
          "model_name": "ProgressStyleModel",
          "model_module_version": "1.5.0",
          "state": {
            "_model_module": "@jupyter-widgets/controls",
            "_model_module_version": "1.5.0",
            "_model_name": "ProgressStyleModel",
            "_view_count": null,
            "_view_module": "@jupyter-widgets/base",
            "_view_module_version": "1.2.0",
            "_view_name": "StyleView",
            "bar_color": null,
            "description_width": ""
          }
        },
        "5806b1181fe640dfb389258ab2d87c85": {
          "model_module": "@jupyter-widgets/base",
          "model_name": "LayoutModel",
          "model_module_version": "1.2.0",
          "state": {
            "_model_module": "@jupyter-widgets/base",
            "_model_module_version": "1.2.0",
            "_model_name": "LayoutModel",
            "_view_count": null,
            "_view_module": "@jupyter-widgets/base",
            "_view_module_version": "1.2.0",
            "_view_name": "LayoutView",
            "align_content": null,
            "align_items": null,
            "align_self": null,
            "border": null,
            "bottom": null,
            "display": null,
            "flex": null,
            "flex_flow": null,
            "grid_area": null,
            "grid_auto_columns": null,
            "grid_auto_flow": null,
            "grid_auto_rows": null,
            "grid_column": null,
            "grid_gap": null,
            "grid_row": null,
            "grid_template_areas": null,
            "grid_template_columns": null,
            "grid_template_rows": null,
            "height": null,
            "justify_content": null,
            "justify_items": null,
            "left": null,
            "margin": null,
            "max_height": null,
            "max_width": null,
            "min_height": null,
            "min_width": null,
            "object_fit": null,
            "object_position": null,
            "order": null,
            "overflow": null,
            "overflow_x": null,
            "overflow_y": null,
            "padding": null,
            "right": null,
            "top": null,
            "visibility": null,
            "width": null
          }
        },
        "14c5cbf3a3ea4048bb9d32488b618cce": {
          "model_module": "@jupyter-widgets/controls",
          "model_name": "DescriptionStyleModel",
          "model_module_version": "1.5.0",
          "state": {
            "_model_module": "@jupyter-widgets/controls",
            "_model_module_version": "1.5.0",
            "_model_name": "DescriptionStyleModel",
            "_view_count": null,
            "_view_module": "@jupyter-widgets/base",
            "_view_module_version": "1.2.0",
            "_view_name": "StyleView",
            "description_width": ""
          }
        }
      }
    }
  },
  "cells": [
    {
      "cell_type": "markdown",
      "metadata": {
        "id": "view-in-github",
        "colab_type": "text"
      },
      "source": [
        "<a href=\"https://colab.research.google.com/github/ChrisFugl/data_science_workshop_2023/blob/main/Financial_market_predictions.ipynb\" target=\"_parent\"><img src=\"https://colab.research.google.com/assets/colab-badge.svg\" alt=\"Open In Colab\"/></a>"
      ]
    },
    {
      "cell_type": "markdown",
      "source": [
        "# Hi!\n",
        "\n",
        "This is a notebook. It is an easy way to mix text and Python code. For example, you can just execute the cell below to print out \"Hello world!\"."
      ],
      "metadata": {
        "id": "1B0CgZipK9sa"
      }
    },
    {
      "cell_type": "code",
      "source": [
        "print(\"Hello world!\")"
      ],
      "metadata": {
        "id": "-dxd-ScMLV2h",
        "collapsed": true
      },
      "execution_count": null,
      "outputs": []
    },
    {
      "cell_type": "markdown",
      "source": [
        "You can of course also do something more complicated if you like:"
      ],
      "metadata": {
        "id": "DO6DChGFL9AC"
      }
    },
    {
      "cell_type": "code",
      "source": [
        "ten = 10\n",
        "hundred = ten * ten\n",
        "thousand = ten * hundred\n",
        "thousand"
      ],
      "metadata": {
        "id": "cc7c0sOBL77L"
      },
      "execution_count": null,
      "outputs": []
    },
    {
      "cell_type": "markdown",
      "source": [
        "We will be using this notebook for all of the workshop. You can save your own copy of this notebook in your Google Drive and use it for future reference."
      ],
      "metadata": {
        "id": "qmkSwtVCL96M"
      }
    },
    {
      "cell_type": "markdown",
      "source": [
        "# Tools\n",
        "\n",
        "Let's start by getting familiar with the tools that we will be using."
      ],
      "metadata": {
        "id": "PdP4LUt6Lhv0"
      }
    },
    {
      "cell_type": "markdown",
      "source": [
        "## Pandas\n",
        "\n",
        "Pandas is a Python library to help us work with tabular data.\n",
        "\n",
        "It is a very popular library, which means there is a lot of people who can help you on sites like Stack Overflow if you get stuck.\n",
        "\n",
        "The [Pandas documentation](https://pandas.pydata.org/pandas-docs/version/1.5/index.html) is also a great ressource for how to do things.\n",
        "\n",
        "Let's start by importing pandas:"
      ],
      "metadata": {
        "id": "ubApOGlBLow9"
      }
    },
    {
      "cell_type": "code",
      "source": [
        "import pandas as pd"
      ],
      "metadata": {
        "id": "hhrpGjeoMmIb"
      },
      "execution_count": 4,
      "outputs": []
    },
    {
      "cell_type": "markdown",
      "source": [
        "The first thing we need to do is to load some data.\n",
        "\n",
        "I have prepared a dataset of books that we can use.\n",
        "\n",
        "We load it by providing a location (URL in this case) to a comma-separated-values (CSV) file and using the read_csv function:"
      ],
      "metadata": {
        "id": "_lCKEt3lMoO1"
      }
    },
    {
      "cell_type": "code",
      "source": [
        "url = \"https://raw.githubusercontent.com/ChrisFugl/data_science_workshop_2023/main/data/books.csv\"\n",
        "books = pd.read_csv(url, parse_dates=[\"publication_date\"])"
      ],
      "metadata": {
        "id": "8hbpveRIMnYB"
      },
      "execution_count": 5,
      "outputs": []
    },
    {
      "cell_type": "markdown",
      "source": [
        "Pandas has some simple ways of inspecting the dataset.\n",
        "\n",
        "First, let's see how many rows and columns are in our dataset, using the shape property:"
      ],
      "metadata": {
        "id": "MGIRDUPQT1VN"
      }
    },
    {
      "cell_type": "code",
      "source": [
        "books.shape"
      ],
      "metadata": {
        "id": "ZdN-fQNSUPlc"
      },
      "execution_count": null,
      "outputs": []
    },
    {
      "cell_type": "markdown",
      "source": [
        "11,123 rows and 12 columns.\n",
        "\n",
        "Next, let's see the first five rows of the dataset, using the head method:"
      ],
      "metadata": {
        "id": "lijIfelPUa-4"
      }
    },
    {
      "cell_type": "code",
      "source": [
        "books.head(5)"
      ],
      "metadata": {
        "id": "9rZewmW9T_Wv"
      },
      "execution_count": null,
      "outputs": []
    },
    {
      "cell_type": "markdown",
      "source": [
        "This gives us an idea of what the dataset contains.\n",
        "\n",
        "Pandas also let's us look at different slices of the dataset. For example, we can choose to only look at the title and authors columns."
      ],
      "metadata": {
        "id": "zUHmxWZ4UNx0"
      }
    },
    {
      "cell_type": "code",
      "source": [
        "selected_columns = [\"title\", \"authors\"]\n",
        "books_selected = books[selected_columns]\n",
        "books_selected.head(5)"
      ],
      "metadata": {
        "id": "YDBE2TrkXJsU"
      },
      "execution_count": null,
      "outputs": []
    },
    {
      "cell_type": "markdown",
      "source": [
        "We can also use Pandas to select specific rows. Let us only look at books written by William Shakespeare."
      ],
      "metadata": {
        "id": "20EqfMrHXd3l"
      }
    },
    {
      "cell_type": "code",
      "source": [
        "author = \"William Shakespeare\"\n",
        "mask = books[\"authors\"] == author\n",
        "books[mask]"
      ],
      "metadata": {
        "id": "dM7_1KqFXl2-"
      },
      "execution_count": null,
      "outputs": []
    },
    {
      "cell_type": "markdown",
      "source": [
        "We can combine the two ways of slicing to only see the titles of books written by William Shakespeare:"
      ],
      "metadata": {
        "id": "NdYo6vAKYGEs"
      }
    },
    {
      "cell_type": "code",
      "source": [
        "author = \"William Shakespeare\"\n",
        "mask = books[\"authors\"] == author\n",
        "selected_books = books[mask]\n",
        "selected_books[\"title\"]"
      ],
      "metadata": {
        "id": "854S_FbtYNKg"
      },
      "execution_count": null,
      "outputs": []
    },
    {
      "cell_type": "markdown",
      "source": [
        "Pandas also many methods to help us get statistics about our data. Let's get some statistics about the ratings."
      ],
      "metadata": {
        "id": "BoHFYx6vZoCH"
      }
    },
    {
      "cell_type": "code",
      "source": [
        "min_rating = books[\"average_rating\"].min()\n",
        "max_rating = books[\"average_rating\"].max()\n",
        "mean_rating = books[\"average_rating\"].mean()\n",
        "print(f\"min average rating = {min_rating}\")\n",
        "print(f\"max average rating = {max_rating}\")\n",
        "print(f\"mean average rating = {mean_rating}\")"
      ],
      "metadata": {
        "id": "snfwg1MKZ3vX"
      },
      "execution_count": null,
      "outputs": []
    },
    {
      "cell_type": "markdown",
      "source": [
        "Sometimes, we are interested in knowing which unique categories are available in a column of our data. For example, in our books example, we would like to know which languages are in the dataset. We can use the `unique` method to figure that out:"
      ],
      "metadata": {
        "id": "veKEHdl2bFyy"
      }
    },
    {
      "cell_type": "code",
      "source": [
        "books[\"language_code\"].unique()"
      ],
      "metadata": {
        "id": "XVvPDgP1bhKi"
      },
      "execution_count": null,
      "outputs": []
    },
    {
      "cell_type": "markdown",
      "source": [
        "We are often interested in statistics on a per-category basis. For example, we may want to know what the average rating is for each language.\n",
        "\n",
        "Pandas provides a method called `groupby` to help us do this. `groupby` will find all values in a column that are the same and put their rows into groups.\n",
        "\n",
        "Let's start by creating groups based on languages:"
      ],
      "metadata": {
        "id": "T4mIdMTKcZ0A"
      }
    },
    {
      "cell_type": "code",
      "source": [
        "books_by_language = books.groupby(\"language_code\")"
      ],
      "metadata": {
        "id": "g-N0NLJ9jEa5"
      },
      "execution_count": 13,
      "outputs": []
    },
    {
      "cell_type": "markdown",
      "source": [
        "We can now use the group to find statistics on each language. For example, let's see how many books are written in each language. We can do this by using the `count` method on any of the columns in the groups:"
      ],
      "metadata": {
        "id": "x46qHXtsjlHr"
      }
    },
    {
      "cell_type": "code",
      "source": [
        "books_by_language[\"bookID\"].count()"
      ],
      "metadata": {
        "id": "zVzjDxmuj1Ul"
      },
      "execution_count": null,
      "outputs": []
    },
    {
      "cell_type": "markdown",
      "source": [
        "It is worth mentioning that Pandas has a `Grouper` object to help with creating more advanced kinds of groups.\n",
        "\n",
        "An example of an advanced group could be that we want to see how many books were published in each year. We can use the publication_date column to figure this out, but we also need to pick the year part of the date in order for it to work. `Grouper` can do it for us like this:"
      ],
      "metadata": {
        "id": "tqdVgKynlctY"
      }
    },
    {
      "cell_type": "code",
      "source": [
        "# We only focus on books after 1999 because the list would be very long otherwise\n",
        "mask = books[\"publication_date\"].dt.year > 1999  # We get the publication year by accessing .dt.year\n",
        "books_after_1999 = books[mask]\n",
        "\n",
        "grouper = pd.Grouper(key=\"publication_date\", freq=\"Y\")  # freq=\"Y\" means that we group by year\n",
        "books_after_1999.groupby(grouper)[\"bookID\"].count()"
      ],
      "metadata": {
        "id": "_7XYiitVlbOC"
      },
      "execution_count": null,
      "outputs": []
    },
    {
      "cell_type": "markdown",
      "source": [
        "The vast majority of our books are from before 2008. That is probably because this dataset only includes books that are in the goodreads list, and it likely takes some years before a book is added to the list."
      ],
      "metadata": {
        "id": "pRvWcjaSrUHh"
      }
    },
    {
      "cell_type": "markdown",
      "source": [
        "You can see more about how to use `Grouper` [here](https://pandas.pydata.org/pandas-docs/version/1.5/reference/api/pandas.Grouper.html?highlight=grouper#pandas.Grouper)."
      ],
      "metadata": {
        "id": "wJGQma5-lpSJ"
      }
    },
    {
      "cell_type": "markdown",
      "source": [
        "### Exercise\n",
        "Use what you have learned about Pandas to find the mean rating for each language:\n",
        "\n",
        "Tips:\n",
        "\n",
        "* The `books_by_language` variable that we created above is useful.\n",
        "* The ratings can be found in the \"average_rating\" column.\n",
        "* You may want to use the `mean()` method."
      ],
      "metadata": {
        "id": "Unl6TPZ0j3sI"
      }
    },
    {
      "cell_type": "code",
      "source": [
        "# Do exercise here\n"
      ],
      "metadata": {
        "id": "9E2HrkODcswu"
      },
      "execution_count": 16,
      "outputs": []
    },
    {
      "cell_type": "markdown",
      "source": [
        "## Matplotlib\n",
        "\n",
        "Pandas is great for analysing our dataset, but tables are often not the most compelling way of presenting the findings of your analysis.\n",
        "\n",
        "That is where matplotlib shines. It helps you create beautiful visualisations of your dataset.\n",
        "\n",
        "Both Pandas as Matplotlib are very popular libaries. You will be able to find plenty of help on question/answering sites like Stack Overflow, and you can also consult the Matplotlib documentation [here](https://matplotlib.org/stable/).\n",
        "\n",
        "We will start by importing it, like this:"
      ],
      "metadata": {
        "id": "QFOEqwzCLmkW"
      }
    },
    {
      "cell_type": "code",
      "source": [
        "import matplotlib.pyplot as plt"
      ],
      "metadata": {
        "id": "yCvD1U3vlQaR"
      },
      "execution_count": 17,
      "outputs": []
    },
    {
      "cell_type": "markdown",
      "source": [
        "Now let's create our first ever plot using matplotlib:"
      ],
      "metadata": {
        "id": "mslRIZZ_SBfW"
      }
    },
    {
      "cell_type": "code",
      "source": [
        "plt.figure()\n",
        "x_values = [1, 5, 10]\n",
        "y_values = [1, 50, 100]\n",
        "plt.plot(x_values, y_values)\n",
        "plt.show()"
      ],
      "metadata": {
        "id": "-yS1i1fFtSm0"
      },
      "execution_count": null,
      "outputs": []
    },
    {
      "cell_type": "markdown",
      "source": [
        "The plot is simply three lines drawn between the points at:\n",
        "\n",
        "* (1, 1)\n",
        "* (5, 50)\n",
        "* (10, 100)\n",
        "\n",
        "We defined the points ourselves for demonstration purposes, but the points will usually come from a dataset, as we will see in a little bit.\n",
        "\n",
        "First, it is worth noting some basics about matplotlib.\n",
        "\n",
        "For example, you can choose how to style your plots by setting a style. I like how `ggplot` looks, but you can choose from a large number of built-in styles [here](https://matplotlib.org/stable/gallery/style_sheets/style_sheets_reference.html)."
      ],
      "metadata": {
        "id": "zHakIjs4TMSX"
      }
    },
    {
      "cell_type": "code",
      "source": [
        "plt.style.use(\"ggplot\")"
      ],
      "metadata": {
        "id": "sXNqH0sxTqvF"
      },
      "execution_count": 19,
      "outputs": []
    },
    {
      "cell_type": "markdown",
      "source": [
        "We can see how the previous plot changes its style after choosing to use the `ggplot` style:"
      ],
      "metadata": {
        "id": "UyyhK1T2TtVY"
      }
    },
    {
      "cell_type": "code",
      "source": [
        "plt.figure()\n",
        "x_values = [1, 5, 10]\n",
        "y_values = [1, 50, 100]\n",
        "plt.plot(x_values, y_values)\n",
        "plt.show()"
      ],
      "metadata": {
        "id": "sBCv4JKdTyCR"
      },
      "execution_count": null,
      "outputs": []
    },
    {
      "cell_type": "markdown",
      "source": [
        "We can also add text to our plot like this:"
      ],
      "metadata": {
        "id": "_N2lBuLkUD8f"
      }
    },
    {
      "cell_type": "code",
      "source": [
        "plt.figure()\n",
        "x_values = [1, 5, 10]\n",
        "y_values = [1, 50, 100]\n",
        "plt.plot(x_values, y_values)\n",
        "plt.xlabel(\"X-axis\")\n",
        "plt.ylabel(\"Y-axis\")\n",
        "plt.title(\"My first plot\")\n",
        "plt.show()"
      ],
      "metadata": {
        "id": "hDy_MdZaUlgx"
      },
      "execution_count": null,
      "outputs": []
    },
    {
      "cell_type": "markdown",
      "source": [
        "We can create different types of plots.\n",
        "\n",
        "The matplotlib documentation has a create overview of examples of different kinds of plots that you can create. This is a great place for inspiration and code for how to create similar plots when needed. Check it out [here](https://matplotlib.org/stable/gallery/index.html).\n",
        "\n",
        "Let's create a bar plot using the `plt.bar` method:"
      ],
      "metadata": {
        "id": "jYdYIfGMU8_d"
      }
    },
    {
      "cell_type": "code",
      "source": [
        "plt.figure()\n",
        "x_values = [1, 2, 3]\n",
        "y_values = [1, 50, 100]\n",
        "plt.bar(x_values, y_values)\n",
        "plt.show()"
      ],
      "metadata": {
        "id": "I1apN2tFU8AS"
      },
      "execution_count": null,
      "outputs": []
    },
    {
      "cell_type": "markdown",
      "source": [
        "We can also create more advanced plots like histograms. (A histogram is a plot that shows the distribution of values.) Let's create a histogram of average book ratings using the `plt.hist` command:"
      ],
      "metadata": {
        "id": "tsP6Fe1MVt4m"
      }
    },
    {
      "cell_type": "code",
      "source": [
        "plt.figure()\n",
        "ratings = books[\"average_rating\"]\n",
        "plt.hist(ratings)\n",
        "plt.show()"
      ],
      "metadata": {
        "id": "qbvI461eWTle"
      },
      "execution_count": null,
      "outputs": []
    },
    {
      "cell_type": "markdown",
      "source": [
        "This shows us that most of the books have an average rating around 4. The histogram bins are quite coarse though. Let us make a bit more fine-grained by increasing the number of bins:"
      ],
      "metadata": {
        "id": "-eFRSuNTWia5"
      }
    },
    {
      "cell_type": "code",
      "source": [
        "plt.figure()\n",
        "ratings = books[\"average_rating\"]\n",
        "plt.hist(ratings, bins=50)\n",
        "plt.show()"
      ],
      "metadata": {
        "id": "b9SrTbbYWvdq"
      },
      "execution_count": null,
      "outputs": []
    },
    {
      "cell_type": "markdown",
      "source": [
        "Feel free to experiment and see what happens when you change the number of bins and run the command again."
      ],
      "metadata": {
        "id": "g8shbHE3W5V3"
      }
    },
    {
      "cell_type": "markdown",
      "source": [
        "We can also make the histogram a bit nicer to look at. I personnally tend to like to add a black edge to the bins, so it is easier to distinguish them. It is also nicer to the ones we present our analysis to if we add some text to the histogram. Let's do this:"
      ],
      "metadata": {
        "id": "6Djv1uu-XDgJ"
      }
    },
    {
      "cell_type": "code",
      "source": [
        "plt.figure()\n",
        "ratings = books[\"average_rating\"]\n",
        "plt.hist(ratings, bins=50, edgecolor=\"black\")\n",
        "plt.xlabel(\"Average rating\")\n",
        "plt.ylabel(\"Number of books\")\n",
        "plt.title(\"Histogram of average book ratings\")\n",
        "plt.show()"
      ],
      "metadata": {
        "id": "OuW6Ru27XSDT"
      },
      "execution_count": null,
      "outputs": []
    },
    {
      "cell_type": "markdown",
      "source": [
        "Lastly, it is possible to add several different series to your plot.\n",
        "\n",
        "Let's illustrate this with an example. Let's say that we are interested in knowing how many books are published each year and compare that with how many reviews books get on average during the same years.\n",
        "\n",
        "We can get find the right data by using `groupby`, `count`, and `mean` in Pandas as we saw earlier:"
      ],
      "metadata": {
        "id": "cedzpOR4YhYU"
      }
    },
    {
      "cell_type": "code",
      "source": [
        "group_by_year = pd.Grouper(key=\"publication_date\", freq=\"Y\")\n",
        "group = books_after_1999.groupby(group_by_year)\n",
        "\n",
        "num_books = group[\"bookID\"].count()\n",
        "average_num_reviews = group[\"text_reviews_count\"].mean()"
      ],
      "metadata": {
        "id": "LYM1LygpZXoa"
      },
      "execution_count": 26,
      "outputs": []
    },
    {
      "cell_type": "markdown",
      "source": [
        "We can now plot both the \"number of published books\"-series and the \"average number of reviews\"-series in the same plot by:\n",
        "\n",
        "1. Calling `plt.plot` twice (once per series)\n",
        "2. Calling `plt.legend` to add a legend to the plot\n",
        "\n",
        "Notice that we add `label` arguments to the `plt.plot` calls. This is necessary and it is used by `plt.legend`."
      ],
      "metadata": {
        "id": "_3nZ4UFBcpyH"
      }
    },
    {
      "cell_type": "code",
      "source": [
        "plt.figure()\n",
        "plt.plot(num_books.index, num_books, label=\"Published books\")\n",
        "plt.plot(average_num_reviews.index, average_num_reviews, label=\"Average number of reviews\")\n",
        "plt.legend()\n",
        "plt.show()"
      ],
      "metadata": {
        "id": "9DYd8HX3cpGa"
      },
      "execution_count": null,
      "outputs": []
    },
    {
      "cell_type": "markdown",
      "source": [
        "### Exercises"
      ],
      "metadata": {
        "id": "E8tZildBeIpt"
      }
    },
    {
      "cell_type": "markdown",
      "source": [
        "**Exercise 1**\n",
        "\n",
        "Create a bar plot of the number of books published every year (after 1999).\n",
        "\n",
        "Tips:\n",
        "\n",
        "* Use the `num_books` variable that we created a few cells above.\n",
        "* `num_books` has an `index` property, which can be useful when defining the values on the x-axis.\n",
        "* Use `plt.bar(..., width=300)` instead of `plt.bar(...)`. The width argument is necessary because the distance between the bars will be 365 days, so we need to have wide bars in order to have them be visible to the human eye."
      ],
      "metadata": {
        "id": "kMsTRcNQeStx"
      }
    },
    {
      "cell_type": "code",
      "source": [
        "# Do exercise 1 here\n"
      ],
      "metadata": {
        "id": "IqGvNZMYfFxn"
      },
      "execution_count": 28,
      "outputs": []
    },
    {
      "cell_type": "markdown",
      "source": [
        "**Exercise 2**\n",
        "\n",
        "Create a bar plot of the number of books published for each language.\n",
        "\n",
        "Tips:\n",
        "\n",
        "* We know the book language from the \"language_code\" column.\n",
        "* The pandas methods `groupby` and `count` are your friends.\n",
        "* Use `plt.figure(figsize=(20, 5))` instead of `plt.figure()`. The `figsize` arguments tells matplotlib that the plot should be 20 inches wide and 5 inches tall. This is useful because there are a lot of languages, so we need more width to show them all.\n",
        "\n",
        "(Most languages will have bars that are too low to be visible. That is okay.)"
      ],
      "metadata": {
        "id": "btw-sJaWfJN2"
      }
    },
    {
      "cell_type": "code",
      "source": [
        "# Do exercise 2 here\n"
      ],
      "metadata": {
        "id": "xqeuZZiAfHbP"
      },
      "execution_count": 29,
      "outputs": []
    },
    {
      "cell_type": "markdown",
      "source": [
        "# Financial Market Predictions"
      ],
      "metadata": {
        "id": "ebPn9FuJQaI4"
      }
    },
    {
      "cell_type": "markdown",
      "source": [
        "Now we have a grasp of the tools that we will be using, great!\n",
        "\n",
        "Let's turn our attention towards what we came for: Financial market predictions (with AI).\n",
        "\n",
        "(The AI part is at the end 😉 )\n",
        "\n",
        "In this part we are going to also be using a library called tabulate. It provides a nice little method to display tables, and that is all we are going to use it for.\n",
        "\n",
        "You can install libraries in notebooks using `!pip install library-name`. If you are from the JavaScript world, then this is the Python equivalent of `!npm install package-name`.\n",
        "\n",
        "Run the cell below to install:"
      ],
      "metadata": {
        "id": "XdLMPH-Gn3Bb"
      }
    },
    {
      "cell_type": "code",
      "source": [
        "!pip install tabulate"
      ],
      "metadata": {
        "id": "1cEQccpg2Fna"
      },
      "execution_count": null,
      "outputs": []
    },
    {
      "cell_type": "markdown",
      "source": [
        "Let's make sure that we have imported everything that we are going to be needing:"
      ],
      "metadata": {
        "id": "Juq1vNPapR1x"
      }
    },
    {
      "cell_type": "code",
      "source": [
        "import matplotlib.pyplot as plt\n",
        "import pandas as pd\n",
        "from tabulate import tabulate"
      ],
      "metadata": {
        "id": "NJVVPl4axZpu"
      },
      "execution_count": 31,
      "outputs": []
    },
    {
      "cell_type": "markdown",
      "source": [
        "We are going to explore two datasets for our analysis and predictions. Both datasets are obtained from [this Kaggle page](https://www.kaggle.com/datasets/johnsmith44/dogecoin-price-data-elon-musks-tweets-2021).\n",
        "\n",
        "The first is a dataset of all the tweets written by Elon Musk in 2021.\n",
        "\n",
        "Let's start by loading the tweets dataset. Don't mind that I have added some extra arguments to the Pandas `read_csv` method. This is just to ensure that the columns in the dataset are interpreted correctly by Pandas.\n"
      ],
      "metadata": {
        "id": "-5cWHY8npXCD"
      }
    },
    {
      "cell_type": "code",
      "source": [
        "url = \"https://raw.githubusercontent.com/ChrisFugl/data_science_workshop_2023/main/data/musk_2021_tweets.csv\"\n",
        "tweets = pd.read_csv(\n",
        "    url,\n",
        "    parse_dates=[\"Datetime\"],\n",
        "    dayfirst=True,\n",
        "    dtype={\n",
        "        \"Tweet Id\": pd.Int64Dtype(),\n",
        "        \"Text\": str,\n",
        "    },\n",
        ")"
      ],
      "metadata": {
        "id": "ZZGZxT72jegP"
      },
      "execution_count": 32,
      "outputs": []
    },
    {
      "cell_type": "markdown",
      "source": [
        "Let's see what the tweets dataset looks like."
      ],
      "metadata": {
        "id": "mi8tu3tJqHK7"
      }
    },
    {
      "cell_type": "code",
      "source": [
        "tweets.shape"
      ],
      "metadata": {
        "id": "vVuhAM_eqKzc"
      },
      "execution_count": null,
      "outputs": []
    },
    {
      "cell_type": "markdown",
      "source": [
        "We have 2993 tweets (he sure does tweet a lot) and the table looks like this:"
      ],
      "metadata": {
        "id": "AngV69GnqNdU"
      }
    },
    {
      "cell_type": "code",
      "source": [
        "tweets.head(5)"
      ],
      "metadata": {
        "id": "zIvMiczuvHgd"
      },
      "execution_count": null,
      "outputs": []
    },
    {
      "cell_type": "markdown",
      "source": [
        "You can see that the way Pandas dataframes (tables) are printed in notebooks doesn't work too well for text, because the text gets cut off rather early. That is why we will be using tabulate to show tables. Let's display the same using tabulate:"
      ],
      "metadata": {
        "id": "BngqHbTWsYs1"
      }
    },
    {
      "cell_type": "code",
      "source": [
        "selected_tweets = tweets.head(5)\n",
        "selected_tweets = selected_tweets[[\"Datetime\", \"Text\"]]\n",
        "table = tabulate(selected_tweets, headers=[\"Datetime\", \"Tweet\"], showindex=False)\n",
        "print(table)"
      ],
      "metadata": {
        "id": "PyzoAyhisrXQ"
      },
      "execution_count": null,
      "outputs": []
    },
    {
      "cell_type": "markdown",
      "source": [
        "Now we get all of the tweets and can see them in their full extent.\n",
        "\n",
        "The second dataset is about the price of [DOGEcoin](https://en.wikipedia.org/wiki/Dogecoin) in 2021. DOGEcoin is a cryptocurrency coin that was originally made as a joke, but turned out to gain some real worth in time.\n",
        "\n",
        "The DOGEcoin logo:\n",
        "\n",
        "![DOGEcoin logo](https://upload.wikimedia.org/wikipedia/en/thumb/d/d0/Dogecoin_Logo.png/150px-Dogecoin_Logo.png)\n",
        "\n",
        "We know that Musk has tweeted about DOGEcoin on several occasions. When we consider that, his fame, and large amount of Twitter followers, then it stands to reason that his tweets may affect the price of DOGEcoin to some extent.\n",
        "\n",
        "**Note**\n",
        "\n",
        "We will be comparing Musk tweets and DOGEcoin prices as an example of how to do financial market predictions, but you could apply the same kind of analysis and predictions to a lot of other financial data. For example, you could analyse whether company press statements can be used to predict their stock price.\n",
        "\n",
        "Now, let's load the DOGEcoin dataset:"
      ],
      "metadata": {
        "id": "dhgo3oi5s_x9"
      }
    },
    {
      "cell_type": "code",
      "source": [
        "dogecoin = pd.read_csv(\n",
        "    \"https://raw.githubusercontent.com/ChrisFugl/data_science_workshop_2023/main/data/dogecoin.csv\",\n",
        "    parse_dates=[\"open_time\"],\n",
        "    dayfirst=True,\n",
        "    dtype={\n",
        "        \"price\": pd.Float64Dtype(),\n",
        "    },\n",
        ")"
      ],
      "metadata": {
        "id": "AaApoAxzwX9k"
      },
      "execution_count": 36,
      "outputs": []
    },
    {
      "cell_type": "markdown",
      "source": [
        "What does the DOGEcoin dataset look like?"
      ],
      "metadata": {
        "id": "h7ZiwN2IvHZf"
      }
    },
    {
      "cell_type": "code",
      "source": [
        "dogecoin.shape"
      ],
      "metadata": {
        "id": "3BxfZ3yjvE-B"
      },
      "execution_count": null,
      "outputs": []
    },
    {
      "cell_type": "markdown",
      "source": [
        "It has 523,168 rows of information about the DOGEcoin price in 2021. Here is what the first 5 rows look like:"
      ],
      "metadata": {
        "id": "rSNGjLaNvLqt"
      }
    },
    {
      "cell_type": "code",
      "source": [
        "dogecoin.head(5)"
      ],
      "metadata": {
        "id": "0fzlgoW2wo0s"
      },
      "execution_count": null,
      "outputs": []
    },
    {
      "cell_type": "markdown",
      "source": [
        "We know from a description of the dataset that the price column is the price of a single DOGEcoin in USD."
      ],
      "metadata": {
        "id": "x7BOydy5xA4O"
      }
    },
    {
      "cell_type": "markdown",
      "source": [
        "### Exercise\n",
        "\n",
        "Plot the price of DOGEcoin.\n",
        "\n",
        "Below is a reference of what your plot should look like. Do not worry if it doesn't look exactly the same. The important part is that the curve looks the same.\n",
        "\n",
        "Tips:\n",
        "\n",
        "* We know the time from the \"open_time\" column.\n",
        "* We know the price from the \"price\" column."
      ],
      "metadata": {
        "id": "U8_RVgE3v8Lj"
      }
    },
    {
      "cell_type": "markdown",
      "source": [
        "![dogecoin_price.png](data:image/png;base64,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)"
      ],
      "metadata": {
        "id": "B7wNVFySwMYX"
      }
    },
    {
      "cell_type": "code",
      "source": [
        "# Do exercise here\n"
      ],
      "metadata": {
        "id": "hK0XVcV-w1KQ"
      },
      "execution_count": 39,
      "outputs": []
    },
    {
      "cell_type": "markdown",
      "source": [
        "## Data Analysis\n",
        "\n",
        "Before we make an AI to try and predict the price of DOGEcoin from Musk tweets, then let's see if we can find any patterns ourselves.\n",
        "\n",
        "The first step here is to notice that the DOGEcoin price specifies the price on a per-minute basis. That is probably more fine-grained and noisy than we would like it to be.\n",
        "\n",
        "Let's make it less noisy by averaging the price of a day:"
      ],
      "metadata": {
        "id": "zglnN-FqxaSK"
      }
    },
    {
      "cell_type": "code",
      "source": [
        "plt.figure()\n",
        "group_by_day = pd.Grouper(key=\"open_time\", freq=\"D\")\n",
        "mean_day_price = dogecoin.groupby(group_by_day)[\"price\"].mean()\n",
        "plt.plot(mean_day_price.index, mean_day_price)\n",
        "plt.xlabel(\"Date\")\n",
        "plt.ylabel(\"Price (USD)\")\n",
        "plt.title(\"Average daily price\")\n",
        "plt.show()"
      ],
      "metadata": {
        "id": "LkBHSI3uxfrX"
      },
      "execution_count": null,
      "outputs": []
    },
    {
      "cell_type": "markdown",
      "source": [
        "Now let's use what we have to answer some interesting questions.\n",
        "\n",
        "For example, which days do prices change the most?"
      ],
      "metadata": {
        "id": "Dke2K6bL00Lz"
      }
    },
    {
      "cell_type": "code",
      "source": [
        "plt.figure()\n",
        "daily_change = mean_day_price.iloc[1:].values - mean_day_price.iloc[:-1].values\n",
        "daily_change = pd.Series(daily_change, index=mean_day_price.index[1:])\n",
        "plt.bar(daily_change.index, daily_change, width=1)\n",
        "plt.xlabel(\"Date\")\n",
        "plt.ylabel(\"Price change (USD)\")\n",
        "plt.title(\"Daily price change\")\n",
        "plt.show()"
      ],
      "metadata": {
        "id": "OZIANO32zk7Y"
      },
      "execution_count": null,
      "outputs": []
    },
    {
      "cell_type": "markdown",
      "source": [
        "It seems that big changes in price are around 0.10 USD. Let's find the days when that happens:"
      ],
      "metadata": {
        "id": "o640i6rh1Lpo"
      }
    },
    {
      "cell_type": "code",
      "source": [
        "mask = daily_change.abs() >= 0.10\n",
        "big_changes = daily_change[mask]\n",
        "big_changes"
      ],
      "metadata": {
        "id": "yxDMJrpE1Tfc"
      },
      "execution_count": null,
      "outputs": []
    },
    {
      "cell_type": "markdown",
      "source": [
        "This only happens on four days in 2021.\n",
        "\n",
        "Let's now start looking at what Elon Musk tweeted on the days prior to these.\n",
        "\n",
        "You can change the index from 0 to 3 to see what he tweeted up to a day prior to the increase on the four days above."
      ],
      "metadata": {
        "id": "2oHaNdAl1YTV"
      }
    },
    {
      "cell_type": "code",
      "source": [
        "index = 0\n",
        "\n",
        "days_offset = pd.Timedelta(days=1)\n",
        "start_date = big_changes.index[index] - days_offset\n",
        "end_date = big_changes.index[index]\n",
        "mask = tweets[\"Datetime\"].between(start_date, end_date)\n",
        "selected_tweets = tweets[mask]\n",
        "\n",
        "print(f\"Tweets between {start_date.date()} and {end_date.date()}:\\n\")\n",
        "\n",
        "selected_tweets = selected_tweets[[\"Datetime\", \"Text\"]]\n",
        "table = tabulate(selected_tweets, headers=[\"Datetime\", \"Tweet\"], showindex=False)\n",
        "print(table)"
      ],
      "metadata": {
        "id": "mx1VzeQu1gI-",
        "collapsed": true
      },
      "execution_count": null,
      "outputs": []
    },
    {
      "cell_type": "markdown",
      "source": [
        "We see that there is a sign of Musk affecting the price of DOGEcoin, since he was mentioning DOGEcoin on the day before in 2 out of 4 cases where the price changed a lot.\n",
        "\n",
        "Let's now dig deeper and inspect when Musk is mentioning \"doge\".\n",
        "\n",
        "Pandas has (as usual) a nice method to help us with this: [`str.contains`](https://pandas.pydata.org/pandas-docs/version/1.5/reference/api/pandas.Series.str.contains.html). This method lets us ask if a text column contains a string. It also lets us specify that we don't care about the casing. That is, we consider it a mention regardless of whether he mentions \"doge\" or \"DOGE\"."
      ],
      "metadata": {
        "id": "QUtPWAGW0ly_"
      }
    },
    {
      "cell_type": "code",
      "source": [
        "plt.figure(figsize=(10, 4))\n",
        "mask = tweets[\"Text\"].str.contains(\"doge\", case=False)\n",
        "doge_tweets = tweets[mask]\n",
        "group_by_day = pd.Grouper(key=\"Datetime\", freq=\"D\")\n",
        "daily_doge_tweets = doge_tweets.groupby(group_by_day)[\"Text\"].count()\n",
        "daily_doge_tweets = daily_doge_tweets[daily_doge_tweets > 0]\n",
        "plt.bar(daily_doge_tweets.index, daily_doge_tweets, width=1)\n",
        "plt.xlabel(\"Date\")\n",
        "plt.ylabel(\"Daily mentions\")\n",
        "plt.title(\"Musk tweets mentioning 'doge'\")\n",
        "plt.show()"
      ],
      "metadata": {
        "id": "6l3wElRD3-nb"
      },
      "execution_count": null,
      "outputs": []
    },
    {
      "cell_type": "markdown",
      "source": [
        "Now let's see what happens when we overlap his mentions with the DOGEcoin price.\n",
        "\n",
        "We are going to use matplotlib's method `plt.axvline` to draw vertical lines on specific places on the x-axis. These lines will indicate whether Musk mentioned \"doge\" in his tweets on that day."
      ],
      "metadata": {
        "id": "ocvS0lQ44VKL"
      }
    },
    {
      "cell_type": "code",
      "source": [
        "plt.figure(figsize=(10, 5))\n",
        "plt.plot(mean_day_price.index, mean_day_price)\n",
        "for date in daily_doge_tweets.index:\n",
        "    plt.axvline(date, color=\"black\", linestyle=\"--\", linewidth=0.5)\n",
        "plt.xlabel(\"Date\")\n",
        "plt.ylabel(\"Price (USD)\")\n",
        "plt.title(\"Dogecoin price vs. Musk Tweets mentioning 'doge'\")\n",
        "plt.show()"
      ],
      "metadata": {
        "id": "4QDU73E93_Vy"
      },
      "execution_count": null,
      "outputs": []
    },
    {
      "cell_type": "markdown",
      "source": [
        "### Exercise\n",
        "\n",
        "Something interesting is happening around April to July. Let's take our plot from above and zoom in on our region of interest.\n",
        "\n",
        "Tips:\n",
        "\n",
        "* You can use `plt.xlim` to tell matplotlib what interval of the x-axis it should show.\n",
        "* `plt.xlim` accepts timestamps as inputs and is called as `plt.xlim(start, end)`.\n",
        "* Use `pd.Timestamp` to create a timestamp. For example, `pd.Timestamp(\"1970-01-31\")` is a timestamp for January 31st, 1970.\n",
        "\n",
        "Here is a reference of what your plot should look like:"
      ],
      "metadata": {
        "id": "1A2DpJ993DcU"
      }
    },
    {
      "cell_type": "markdown",
      "source": [
        "![image.png](data:image/png;base64,iVBORw0KGgoAAAANSUhEUgAAA1IAAAHbCAYAAADBBqs+AAAEDmlDQ1BrQ0dDb2xvclNwYWNlR2VuZXJpY1JHQgAAOI2NVV1oHFUUPpu5syskzoPUpqaSDv41lLRsUtGE2uj+ZbNt3CyTbLRBkMns3Z1pJjPj/KRpKT4UQRDBqOCT4P9bwSchaqvtiy2itFCiBIMo+ND6R6HSFwnruTOzu5O4a73L3PnmnO9+595z7t4LkLgsW5beJQIsGq4t5dPis8fmxMQ6dMF90A190C0rjpUqlSYBG+PCv9rt7yDG3tf2t/f/Z+uuUEcBiN2F2Kw4yiLiZQD+FcWyXYAEQfvICddi+AnEO2ycIOISw7UAVxieD/Cyz5mRMohfRSwoqoz+xNuIB+cj9loEB3Pw2448NaitKSLLRck2q5pOI9O9g/t/tkXda8Tbg0+PszB9FN8DuPaXKnKW4YcQn1Xk3HSIry5ps8UQ/2W5aQnxIwBdu7yFcgrxPsRjVXu8HOh0qao30cArp9SZZxDfg3h1wTzKxu5E/LUxX5wKdX5SnAzmDx4A4OIqLbB69yMesE1pKojLjVdoNsfyiPi45hZmAn3uLWdpOtfQOaVmikEs7ovj8hFWpz7EV6mel0L9Xy23FMYlPYZenAx0yDB1/PX6dledmQjikjkXCxqMJS9WtfFCyH9XtSekEF+2dH+P4tzITduTygGfv58a5VCTH5PtXD7EFZiNyUDBhHnsFTBgE0SQIA9pfFtgo6cKGuhooeilaKH41eDs38Ip+f4At1Rq/sjr6NEwQqb/I/DQqsLvaFUjvAx+eWirddAJZnAj1DFJL0mSg/gcIpPkMBkhoyCSJ8lTZIxk0TpKDjXHliJzZPO50dR5ASNSnzeLvIvod0HG/mdkmOC0z8VKnzcQ2M/Yz2vKldduXjp9bleLu0ZWn7vWc+l0JGcaai10yNrUnXLP/8Jf59ewX+c3Wgz+B34Df+vbVrc16zTMVgp9um9bxEfzPU5kPqUtVWxhs6OiWTVW+gIfywB9uXi7CGcGW/zk98k/kmvJ95IfJn/j3uQ+4c5zn3Kfcd+AyF3gLnJfcl9xH3OfR2rUee80a+6vo7EK5mmXUdyfQlrYLTwoZIU9wsPCZEtP6BWGhAlhL3p2N6sTjRdduwbHsG9kq32sgBepc+xurLPW4T9URpYGJ3ym4+8zA05u44QjST8ZIoVtu3qE7fWmdn5LPdqvgcZz8Ww8BWJ8X3w0PhQ/wnCDGd+LvlHs8dRy6bLLDuKMaZ20tZrqisPJ5ONiCq8yKhYM5cCgKOu66Lsc0aYOtZdo5QCwezI4wm9J/v0X23mlZXOfBjj8Jzv3WrY5D+CsA9D7aMs2gGfjve8ArD6mePZSeCfEYt8CONWDw8FXTxrPqx/r9Vt4biXeANh8vV7/+/16ffMD1N8AuKD/A/8leAvFY9bLAAAAXGVYSWZNTQAqAAAACAAEAQYAAwAAAAEAAgAAARIAAwAAAAEAAQAAASgAAwAAAAEAAgAAh2kABAAAAAEAAAA+AAAAAAACoAIABAAAAAEAAANSoAMABAAAAAEAAAHbAAAAANBe/GUAAAILaVRYdFhNTDpjb20uYWRvYmUueG1wAAAAAAA8eDp4bXBtZXRhIHhtbG5zOng9ImFkb2JlOm5zOm1ldGEvIiB4OnhtcHRrPSJYTVAgQ29yZSA2LjAuMCI+CiAgIDxyZGY6UkRGIHhtbG5zOnJkZj0iaHR0cDovL3d3dy53My5vcmcvMTk5OS8wMi8yMi1yZGYtc3ludGF4LW5zIyI+CiAgICAgIDxyZGY6RGVzY3JpcHRpb24gcmRmOmFib3V0PSIiCiAgICAgICAgICAgIHhtbG5zOnRpZmY9Imh0dHA6Ly9ucy5hZG9iZS5jb20vdGlmZi8xLjAvIj4KICAgICAgICAgPHRpZmY6UmVzb2x1dGlvblVuaXQ+MjwvdGlmZjpSZXNvbHV0aW9uVW5pdD4KICAgICAgICAgPHRpZmY6T3JpZW50YXRpb24+MTwvdGlmZjpPcmllbnRhdGlvbj4KICAgICAgICAgPHRpZmY6Q29tcHJlc3Npb24+MTwvdGlmZjpDb21wcmVzc2lvbj4KICAgICAgICAgPHRpZmY6UGhvdG9tZXRyaWNJbnRlcnByZXRhdGlvbj4yPC90aWZmOlBob3RvbWV0cmljSW50ZXJwcmV0YXRpb24+CiAgICAgIDwvcmRmOkRlc2NyaXB0aW9uPgogICA8L3JkZjpSREY+CjwveDp4bXBtZXRhPgqWqErQAABAAElEQVR4Aex9CZxcRbX+6ZkECMkkZDVhz8Iiq6CggCAgiiLy4Kn4FBSXhygqCgoK+leeLMITFH2AiqgsioIgKouggIiCKCCIoICA7AkkQMhKCJn7r+/2VOd29z11u07X3Kk7c+r3m+nuU3XO+eqr07dv3dpqiUmkSRlQBpQBZUAZUAaUAWVAGVAGlAFloGMGejouqQWVAWVAGVAGlAFlQBlQBpQBZUAZUAZSBrQjpYGgDCgDyoAyoAwoA8qAMqAMKAPKgCcD2pHyJEyLKwPKgDKgDCgDyoAyoAwoA8qAMqAdKY0BZUAZUAaUAWVAGVAGlAFlQBlQBjwZ0I6UJ2FaXBlQBpQBZUAZUAaUAWVAGVAGlAHtSGkMKAPKgDKgDCgDyoAyoAwoA8qAMuDJgHakPAnT4sqAMqAMKAPKgDKgDCgDyoAyoAxoR0pjQBlQBpQBZUAZUAaUAWVAGVAGlAFPBrQj5UmYFlcGlAFlQBlQBpQBZUAZUAaUAWVAO1IaA8qAMhCMgUceeYRqtRp94AMfCGazDEPnnXdeihuvmqrFwO677562XbVQK9qYGLjxxhvTGDr++ONLhzVc4ne41KP0AFCHlWdAO1KVb0KtwGAzgI5B9m/NNdekqVOn0vbbb0///d//Tb/+9a9p1apVgw1D7SsDpTNgO8aI/3HjxtHixYtzMSRJQrNnz258T3BjWpWETn/2+130HjeMMSd0BlCHKrXBYPNp47hqD3gGmxfOvn2wNFxjaOONN6bYv8dc26g8PgZGxQdJESkDcTLw5S9/OQWGTtPChQvp3nvvpQsvvJC+//3v02te8xr68Y9/TJtuummc4EtCtd5669E///lPmjBhQkkew7g54IAD6HWvex3NmDEjjMFhZmXUqFG0dOlS+slPfkIf+chH2mp3/fXX08MPP0wo9/LLL7flxyzYf//9CTdW2YQbyN///vf0hje8oe2Gq7VsVk/fV5OBHXfcMb1uTZkypfQKXHDBBbRs2bLS/apDZUAZCMOAdqTC8KhWRgADedM+nn76afrkJz9JP/vZz2ivvfai22+/naZNmzYC2Miv4ujRo2nzzTfPz4xYio5f1Tp/ZdL56le/mh599FH63ve+l9uRghwjtXvuuWc6Qlsmtm59oSOFv2zCdx0dKTy1zvveZ8vq++ozsPbaaw/ZdWvDDTesPoFaA2VgBDOgU/tGcONr1btn4BWveAX99Kc/TW+4Hn/8cTr55JPbjP7rX/+i97///YTRmjXWWIPWXXfd9DPkeWnu3Ln0wQ9+MO2QjRkzhl71qlfR+eefT3hKjik7eTd2zz33HB177LH0yle+kqCDTsEb3/hG+s1vfpPnIpVdfPHFaZlJkybRWmutlT6Vf8973pN2BrNKK1asoFNOOYW23nprwg3H+PHjadddd6VLLrkkWyx9z02hsdOnkP/d7343tQWf4A8jHC+88EKbLU6A+tupS+Blu+22S+uMDuyHPvQhmjdvXpsqboih89JLL9FXvvIV2myzzdIbfzvVx05lyVsj9cQTT9ARRxxBm2yySeoHfOEJ9gknnNDmB2U/8YlP0KxZs1L7kydPpv32249uu+22trJ5gltvvTXFiREyLqGN0WlBmyNhWh142HnnndMpp+B1gw02oL333pvQxiESRpoQk3hQ8Le//a3J5IIFC+gXv/gFveMd7yBwk5fAPdogL2VjI5v/q1/9Ko1PjBKivvjeYITo7LPPzhZj399www3p9wB6d911F1uu0wx8v1CP3/72t00qGKmGHFMbW9P06dMp70b52muvpX322YcwAoK6Qffoo49OR7pbbeBzp3G1sRlZ+5//+Z/UxB577JHiAjb82YSHP5/97GfT78DYsWNpnXXWSd+jHTCq2EmCH/wtWbKEjjzyyDTe7LUKsYCEkcmTTjop/d4gJlHHM888kzXvw4n1j1FS8AaOweOcOXPo1FNPTb8T1hGuFzNnzkw/4nti+cCr/b67rq0+1+/stenSSy9NrxO4ZuJ78V//9V/05JNPWliNV3ttagjMmywexO7b3va2tJ1gC9+BW265JVu88V7y29FQ7vANfu/wYAXtjWvu+973PnrqqadY7f7+fvrOd75DO+ywQzo9GDGH99/+9rcJeXkJszswdb7VRx5XVt8nfqyOvioDQRgwP8KalAFlwMGA+aIl+HOl6667Li1jflgS8+PQKPqXv/wlMR2PxPxoJ//xH/+RmJuxxNwkp58hR342mZucZKONNkpt7bbbbsnnP//5xNzgJOYHNDFPzVO5uXHLqiSPPPJIYm4s0jzTwUk+/elPJ4ceemhibkBTP+ecc05TeeA75JBD0vLmRi758Ic/nPo5+OCDE9PZS7L2TScqMT/caVkz0pSYG7Dk8MMPT1BPcIL6ZNO///3vVA772WT9vetd70r5OOigg5KjjjoqMZ2gtLy56csWd74HPvg2HZTE3KCldQFPr3/961O5uWlKnnnmmSYbtg777rtvYjpvKafHHHNMctppp6XlfvjDH6a6eM0m0wFKzE1Qmof2gI7pKCVm5CXp6enJFk3uuOOOxHScUs7f8pa3JJ/5zGdSbKZTm5gOdHLVVVc1lec+mE5eWt50UNqK/PnPf06xmE5LIw9tAD5Qb7QNPiNmttxyyyRbrqHg8ca25y677JI89NBDad0+/vGPN1kAh/D/u9/9LkG72vfZQpChDfKSjQ34ssl0tlM7piOSxjLqhDg1N2CJmUZri6Wvtm2zwh/96Ecph4hZfD98k42x7HfBdKBSTJ/73OeazIEb1A9/2Tr8/e9/T2Voi2wyN9upHHFlHrCk36k3v/nNqWyLLbZIzEOFbHGvuPrGN76R8gws4BX47R+Mmo5HYjo0qa83velNaYzie4g4MR2q5IorrmjyzX3ANcp0UBMzHTYx05kTxASuOWYdXfq9wPXwP//zP9PriVlHmubba4a5EW8z68uJ9Q/uEffmYUwa+8CEusOeTYjLT33qU6l82223bfABXu688860GMpAD7Js8r1+Qx92cJ0zHbv0FddMXJchRzy++OKLWReN9soKLR7TgUpMZyK93uB6Aru47uC6d99992VVEslvR5OBzAd7PQSObPr617+e1gOxAs5xPQSnaI9tttkmzcuWx/v3vve9qdw83EnbAb9PKA8+kNeaTEc4zZs4cWJy2GGHpT7wO4HfOPiCXmuSxA93PWq1rZ+VgSIG2iOySEPzlYERxgAu3HkX7ywN+HE0T+3TcuapbpqFDgt+OKGLG7tsws0E5LhpNmuuGllmRCWV4wcqm8xTyfTGEDqtP/b4QUBHzaxfyaokzz//fPrDgx9dM0rTyLM3qbgpNWu9GnK8MU+RE/N0sSEzI2wpnre+9a3JypUrG/Lsj/bNN9/ckONGEhhxE5dN+Aw5fkzNFLFGFmzamwx0EjpJqD9smWmEyV//+tcmFfxIIw88ZhM4gtyMqiXz58/PZqXv7Y1DtiOFTqTtoJonpG06ZgSyIUM9cIOKmyfzNLkhxxvzFDq96USnoPUmqqngwAfL+f/93/+1ZaOjhHqY0ZpGHm7I0QHGTXJryqtraxnXZ9ueuGFFMqOc6Q23WdPRUEOMm9G69HOojpR5Gp3GO+KsNbXWybatLWdGT9PvAzrWzz77rBV7vdoYw6tNqDPaN9uRM5tvpHGITgna5dxzz7XFkzPOOCOVmTUwDZkZJUtlO+20U/r9bGSYNzYGEcM2SeLKYm+9CYZNxA1wZn1YX4j3RYsW2Y/OV3sjjAcT2Zi+6aabUvu4CQZPuAbZhI44vrNmhN2K0ldfTqBk/eO6lI1FxAseXODPjD43/Ng4br0u2QK245Jtb8n123Lf19eX3H333dZ8+mpG+1NuzChxk7w1fpFp8aCtstck5JnRndTOxz72MXxsJMlvR0O5gzfgEO2HtsV7m/D7hU4zsOIvmy666KJUho4Qvis2mZHMxIxqpXnZaytiBL+jeMD32GOP2eLpw0kzopfrQxI/DcP6RhkIwEBz1AcwqCaUgeHGQN4PRF4dMdKBsrZD8Mc//jH9jJumvGRHUMxajDQbNzJ4+oibgLwbGjzZhf3sjz06WJC9853vzHORmGk2af5ZZ53VyN9qq61SWWsnpFEg88ZMlUlvSs0GEhlp/S1uGuHbTPlq5HE3LLYjZdbSNMraNz/4wQ9SO3kdB1sm+2pvVlo7SyiDjiH4Q+cxe4Nnb1bAR16yN7HZmxYzNSfFhZGvomR5xtPnvGRvqjsZlUIHDU+dszfssIn4QKcJT/aznVrI0OHL1jcPg0Rm29N2pOwDADNFKjVnb5zxFBkpZEcKo7Bm+mJq1/XPti1u6DAygpjEjd3y5ctdas48G2PZ7xoUzNSitG0sLrQn/OHV7OSZ4GbZpre//e1pHjrSNtlR5XvuuceKml7RyYAdmyRxZbHjZrw12Y5U60hya7miz7Yj8+CDD7YVxQgRODEbkLTlgT/cKOOBjU2+nEDP+jfT7qyZxitG+eAfI4I22Tj26Uj5Xr/hy3L/hS98wbpuvNobfowsZZON36zMdqTs9y6bhw4iOERHxCbJb4fV7fT1xBNPTHn90pe+1KaCDhCuWeA9m8y64VRmpt1lxel7O4sjOxvBTJdOy5vpqW3lMbLc29vb5kMSP23GVaAMdMGAbjZhvvmalIEQDJjvYWoGc++RTEclfcUC/LwEufmxJjO9hMy0Mbr//vvJ3PylOwCaJ5ptKqbjRabz0iT/05/+lH7GGiMzvaEpDx/M0/tUhp30kLCmwNzEpWuTsLbIlbDVtblRStd2mVGHtqK2XsDfaTKdg7aiWM+DZJ5et+W5BOYGpC3bdKLSNWXYKAB1xvqybMLapk4T1ishmafehSq2HbAhQ1472PVwwIS1Ma60/vrrp2uDsBbnH//4B5npXmlxM+0qXReFNSnmRqphwnReyHRC03IHHnhguobCdN4HZfMMrN3Cuh5sLoF1f2baKGGDETN9rYEnxBvUydxwpnXC2hK0tbmpTNeAcfaxRst0PNLNX0zHlcyNHVdULEfMY/0K/sCFuTlO6w98WJOEz0jY2dN0MtO1R1ijZRPiBHxhcxr8tSas4cN31oykEdbXhYwr+AJOrNXEmkdcnxCL4BXfE3OT2grH+Rlrq7DuqTWhvqbjkq6jac2Db6ydwjpGvEfy5cTaxHcda6Jak/R60mrH9/qd1Q91ncuzg/jB2tLs9VLy25HF28l7y0fedRdrQsE7rn/ZBB18D3fPWR8JO4i57O+HfY/futZkOs+pD9OhasqSxk+TEf2gDHTBwOpf4y6MqKoyMNIZMKMBjcX/OGMKyW6gwG2pbeXYSj1bHj+SeSlPjhsuJNx0ty6Cz9rAonAk68vexGTLtL73xd+qn/cZN1+tyXYKcPPpk/L4gD4W+CNZ/OmHgX82Lyvj3vtwZdsh7+Y4a9+2Q1aW9x4dE7QnFsdj8TwS3iOZp+rpq/1n1sWkm1uY0bT0Bhk3yeAUN8mnn3567s2m1fV9xWYp6ECZtRLpDTAW1GMzDTNK5mvKWd6s20k7bNhY4lvf+hahY4QHFLj5+trXvpY+bGg1gI4L6m1GggalEwV/2MDFPJEnbPeOjhReX/va1xIW0CMPG7DgQQUeWCD+0CHMJsQJOhJ2Q4hsXvY94gQdqdBxhY1i8IDAjJwQNvPAAn0kdI7NtFH64he/mHb0sli49+jI5CX7fc7Lt3lmRLWh6suJVcy7liDP+vC9nli79tVeP+x12srtq5Xb64SV4zUPmwRXnh3Yh61s/SxW7prIyWGr01TkA9fW1o4UdMyIebrJUqsf1AFxZ9azNrKKfKAerR0pafw0nOobZaBLBsI/susSkKorA1VkACNLuEHChd5Ms0qrYG8k8naRQwHssIRky+EmB8nM809fW//lya3uN7/5TcypYP9wk41kf5jzdo9q9Wdtd4q/VX+wP+fxAZ8Wr8WfxWFHC7My7r2Eq1/+8pdsG6B9cAPbScJNOuLBrK1Lb5hws4GDn81i6/QvawNPdc2al3Q3PXBy2WWXpTf5uFE2m16QmfaTLd71e7OpQGoDo194gJB3rlSrE/CO70deyrsRRTl02HDTjxslM3WOzGYT6SgPdiO0I61Ze2Y6FJn1G2nH7uqrr85mBXuPEU0cTGymJaW4sIMhOlBIdoQWeehgZWXpB/MPMQmMru8q8vD0HcnGcKi4gk2MeOLsO8QUOn3oqKLTht0s8Vd28uWkLHyWe3s9afXbev1uzS/zs+S3wxef5aPoupu1Cx3sLprtONt8XA+w46fFDrl9z/nIk8caP7ae+jr8GdCO1PBvY63hIDNgFiWn2/zCjdmFqOHNTp3DNKC8hBs/JGzzioTpc9ju1SxSJkyra03orLUmHCKL9Ic//KE1K/cznpybNVJpZ81Oo8gtaISYXoipO+h02alp2bKt+LN5ZbzH9L3WhCea2C7YrJFKt4Jvzff5bLlFB6Yo2bKdtkORPcQBOirYVhg35mbRdtoRaR2NarWDkSGzPigdGcGNvVm7kN4st5br5jPiFNvfY0tuPDQwGy0UmkPnAccDtCY8VUd7uRI6tBhdw3RCjNThxgyjT63J7BqWnv0EX+iIYppf6ISn6HYaLg7jRqfHdqQwzQzbcKMThSl+mNKE6X7ZhDjBlCwc5t1JksSVnaKXHbHI84XOrdnZMZ0KaUezB4OzPN9ZmS8nWd1O33fKSdae7/U7q1v2e8lvhy9G+zuVd93Ftvl5329wiN/HvO8rZIhRaxd4LOd5v3UY7crzUUb8+HKl5UcWA9qRGlntrbUNzACe6mINBzpLuIk67rjjGh6w9gDnFeFHAVOgsgmfcdNttg4mOx8c06be/e53p1OCzMLebPF0tMHs/tUkwwfMocdN7c9//nMymza05UNgFl03TZ/AmUhIZmvZtulv+NGzT1pRxmzokN4s4qyW7I0ZniTac5RQZigSbmRbO4PHH398Wiech4VzZbpJmCKGjgJGdsyOiG2m0JGwyWxtn3Y6zaYexI2GYC6/2WHMqhS+otOAhHbHH27iW6eKYbTJ7JqYlsv+wxNgdDiQcPaMTWhbs21yW7vb/E5fsTbq8ssvT+Ouk1E+jOSYXbjazjVDnLdOBwIGdNLRSWlNdhpQtk7ZMjhjCzdoGBk2W0UHO0cr68OOPH31q19Np/TZzg7KIA83mmgTjB5iWlM2YX0bEkb18s7ewZRAuzYP5SRxhdElJPDdmtCBy3uqb2Ucr612Qn725UTiG51rxGkeJ5w93+s3Z6cMueS3wxcXrj1Yn4X1mNnpdfjNwO8DXluT/W0wm5s0XftwHTRHVqTFMdJsEx5E4joHH9lOE64FsJH9DbI6ZcSP9aWvykAeA6PyhCpTBpSBdgZwk46EHwxMR8JNCTpJWCCOG0UcIog53zbhhxvrWvDEHh0k3BThySEWBuPJL0Z8cIOcXRSP9S14mv2///u/ZHb/Sw9Zxc0v1l7gqTz0suXhC6MVuIHDDxKm6WDNBp7i40Yfo1uYvoObeLuOxez+l3bi0BHBIbPAhXVduLGDb/z42bri4E6MyGBqEW4MgQE/glgLhJtas017oyNo613WKzaBwM0ORm6wXgFtgT90fsBjtwk3J6inOeMnHWnEQcK4acZ0NmwagZEHO10NNxjozGLaGQ7PxOG4WMCPG1PcEOBAXjy1RVt2erOKumGUAxjQMULHzrahrRs2J0FHHOVwSCamhAEfRhiAEeuX0LmwCTcjiElM9bQdNZvn84o4xl+nCXGE9TiINXwX0MHAoaLYlAAL0fEgIpswooQpdOAb7YkbKTx4AI+op9kNLFu86T24QFl8J3Dzh84mpgmGSnYECvGPqZNoe5uQd95556UfbTmbh1fIEJtoB3z38H0yu9ylB9uiQ4lOGNrzmmuuSdUkcYVRMFwj4APffXQikLD+CXGBm15sRoKHOIgnXCfw/YYO8spOvpxI8CGWcF1EXCAmUHeMUuH7gZHMvCS5fufZKUsm+e3wwWavq9gEBiNH+B5jWh2+1/g9BI/4vckmdIwQW/j9wuin2WEv7dDidwzffdjIPhzCDAhML8UDSfzeWB+IWzwYgqzVRxnxk62TvlcG2hgwP1CalAFlwMGA+dLg0Xjjz9xgpwev4qwbbEluOhpNZ0G1msLBiTjsFucImadt6av58Wg7UNHqmRub9KBO0ylLt/E2Px6JuTlLzA11igGHbrYmbJd+0kknJcBkpu+leuaHLzE3agnOjcK5Ha0JZ1vhkFkzLz09HwflcUAiDpbNJmwjDds44BXbiuPQTXOTn+CMkNbEbTOMbYfBIfJbkxl9SPOwdXAnyW4xDD3TIWiclQW+TOeg6Rwsa89sUpD6sJ9bX2EH+PDamswNboIzW8CPubFNtyA3HeeUk9ay5sl+ggNbwRW2skdbmBv79MBT03Ft2ra8VTfvs90OGNiwHXtrwlbI2HocBwDjjC6ccwQezE1j8u1vfzvdMj2rY9shr57Zcva9bU+0dycJcQ2saJvWZG6o0i2bgRFbtpubpPSwXIspGxvAjm2NsZU2eDSdgfT8IdS19WgArm3xPcI5baaDkLQeSt2KrfWzjbG8mDQPUlKOUU/zwKNJFVudQ44/MzLZlJf9YG7o08NVzQOANKbQZviem6frCQ6Bbk2+cYVYgz18Xy0e2DS7QKY+sHU2fOJaZjrfaXxmz4Nr9d/6GTr4y0tce6BsXltbGz6cuPzbtmuNQWyVjnOvEHumk5TyYr8HKAue8trb5/rN+UYd7XcJHGRTHl8uPNDl6i/57chi6eQ9rvumI9W41uA7j7jPqwfsmVGkBMdvIObwXcYffqfOPPNM9nfTPGBMv+/2emZ94LpqOm+5MH3iJ9eACpUBIQM16JkLiCZlQBmInAFzNgmZw1rTp9UY+RipCaNl2PXM3GykoxkjlQettzKgDCgDnTAwHH47zAOUdMouRvoxw0KTMhALAz2xAFEcyoAyUGcgb+0E1jlh2h6mRJknf0qVMqAMKAPKgDLQxMBw+O3Ajpytu/xhCjWmFGLaMqb9alIGYmJA10jF1BqKRRkwDGADCazzwO562GUPO+Zh+2eszcI6HexIp0kZUAaUAWVAGcgyMBx+O3B8A85qwzpIHPJrd+l84IEH0nWnn/zkJ7NV1vfKwJAzoB2pIW8CBaAMNDOA3fSwGBc7xWEbdGwcgal8WLC/u1mYr0kZUAaUAWVAGWhlYDj8dmBTEGy4gt037YHU2JAF0xPN+tP0iJDWeutnZWAoGdA1UkPJvvpWBpQBZUAZUAaUAWVAGVAGlIFKMqBrpCrZbApaGVAGlAFlQBlQBpQBZUAZUAaGkgHtSA0l++pbGVAGlAFlQBlQBpQBZUAZUAYqyYB2pCrZbApaGVAGlAFlQBlQBpQBZUAZUAaGkgHtSA0l++pbGVAGlAFlQBlQBpQBZUAZUAYqyYDu2jfQbM8//zzhrIKqJHOCenooaYx4OWwnnXRSuvNOjJirhonjWFKPqVOnEs7uGC7Jlxvf8uBJouPiWWLPt70kPkLqSGxxdZTYkuiEvGa5/LvyOA585WX48MVky7u+G7bMcH6NtW1c8R8rZg4XJw8dV5wfTg7/kvh32Qtdp5Fob9SoUTRx4sSOqq4dqQGa0IlqPQSuIwaHqBDOEooVbx62Wq1GEyZMSDurSZIMEWvDx20ex5LaoV2QEP/DpV18ufEtD758dYp49rUHDL5J4iOkjsQWV0eJLV+d0Ncsl39XHseBr7wMH76YUL7ouyGxWTWdGNumKP5jxIx253Bx8tCxwvnh5NL45+yFro/aK2ag93iTiosN/xLLli1LDzytSk032mgjGj9+fJRw87DhYrHttttSb29vlJirBiqPY0kd0C59fX20ZMkSiXqUOr7c+JZHpX11inj2tSchXuIjpI7EFldPiS1fndDXLJd/Vx7Hga+8DB++mFC+6LshsVk1nRjbpij+Y8SMdudwcfLQscL54eTS+Ofsha7PSLWHe9WxY8d2VH1dI9URTfEVwuF0sSYO2yc+8YlYIVcOF8dx5SoyCIB9ufEtD8gSHVdVQ9vL8yXxEVJHYiuvHpBJbEl0Ql6zXP5deRwHvvIyfPhi0vJ1BmJtG1f8x4qZw8XJQ8cg54eTS/2HtifFoXpE2pHSKFAGlAFlQBlQBpQBZUAZUAaUAWXAkwGd2jdAWNWm9mG90cyZMz2bu5ziedgwfL3hhhvS9OnTywExzL3kcSypsnRagcRXWTq+3PiWRz18dYp49rUn4VLiI6SOxBZXT4ktX53Q1yyXf1cex4GvvAwfvphQvui7IbFZNZ0Y26Yo/mPEjHbncHHy0LHC+eHk0vjn7IWuz0i1p1P7RkDLL1q0KNpactheeOGFaDFXDRjHcdXqMRh4fbnxLQ/MEh1XXUPby/Ml8RFSR2Irrx6QSWxJdEJes1z+XXkcB77yMnz4YtLydQZibRtX/MeKmcPFyUPHIOeHk0v9h7YnxaF6kU7tu+aaa+jjH/84HXTQQXTcccfRgw8+yLYV9so48MAD2/6++tWvsjrDIePyyy+Pthocth//+MfRYq4aMI7jqtVjMPD6cuNbHpglOq66hraX50viI6SOxFZePSCT2JLohLxmufy78jgOfOVl+PDFpOXrDMTaNq74jxUzh4uTh45Bzg8nl/oPbU+KQ/WIotv+/JZbbqELLriADj30UNpkk03oqquuIpxlcMYZZ6RDtq2N9tnPfrbp/KfFixfT0UcfTTvttFNrUf2sDCgDyoAyoAwoA8qAMqAMKAPKQBAGaubsmKgO9cEI1OzZs+nDH/5wWsH+/n762Mc+Rm9961tp//33L6w0Ol6XXHIJffe7303PEyhUGCiAA0ljPZcprw4Y1o11+/M8bJgHvPbaaxPWokUWcnn0Ri/L41gCGu0yY8YMmjt37rBpF19ufMuDZ1+dIp597UnaWuIjpI7EFldPiS1fndDXLJd/Vx7Hga+8DB++mFC+6LshsVk1nRjbpij+Y8SMdudwcfLQscL54eTS+Ofsha7PSLU3evTo9KDkTuof1a59OBT04Ycfpq233rqBvaenJ/38wAMPNGSuNzfccAPtvPPObCcKnSXczNu/5cuXp+YQzFX6O/3006PFy2HDSdxV4jhmrBzHEsz4Akj0YtXx5ca3POot0XHxLLHny7/ER0gdiS2ujhJbEp2Q1yyXf1cex4GvvAwfvphsedd3w5YZzq+xto0r/mPFzOHi5KHjivPDyeFfEv8ue6HrNBLtpY3S4b+opvahh40RqHXWWacJPj4/9dRTTbK8D1hL9fjjj6cjWHn5kGFe6aWXXtrIxs53p556Kk2ZMqUhq8Kbp59+Oh1JiBErhw2dZN21L0yLcRxLrQ+ndvHlxrc8OJboQI/jWWoPNjtNEh8hdSS2uLpJbEl0Ql6zXP5deRwHvvIyfPhiypbnvhvZMsP1faxt44r/WDFzuDh56Jji/HBy6983/ovsWbv6OvgMRNWR6ra6GI3CFttz5sxhTR1wwAG07777NvLt04AFCxZUamrfBhtskE7HalQkojd52MDzK1/5Spo3b96wmUI2lJTncSzBg3bBBXw4tYsvN77lwbOvThHPvvYkbS3xEVJHYourp8SWr07oa5bLvyuP48BXXoYPX0woX/TdkNismk6MbVMU/zFiRrtzuDh56Fjh/HByafxz9kLXZ6TaGzVqVMdT+6JaI4WpfQcffDAdddRRtOOOOzba78wzz0yn4h1zzDENWeubF198kQ477DB697vfTfvss09rduHnqq2RAt6pU6cW1msoCuRhw8UC0zQx4qhrpLpvlTyOJVbRLsNtjZQvN77lwbOvThHPvvYkbS3xEVJHYourp8SWr07oa5bLvyuP48BXXoYPX0woX/TdkNismk6MbVMU/zFiRrtzuDh56Fjh/HByafxz9kLXZ6Taq+waKfQAZ82aRffcc0+j7XDjjc+bbrppQ5b35tZbb01379t1113zsoedDDsTxpo4bNiJUVMYBjiOw1ivthVfbnzLgx2JjovV0PbyfEl8hNSR2MqrB2QSWxKdkNcsl39XHseBr7wMH76YtHydgVjbxhX/sWLmcHHy0DHI+eHkUv+h7UlxqF6E50hh2t31119PN954Iz3xxBN07rnn0ooVK2j33XdP2wujUxdddFFb22Fa3w477EB9fX1teSpQBpSB4cNA/62/o1Xf+goly5YOn0ppTZQBZUAZUAaUAWWgcgz0mgNtj48JNeZ9jh07ln7+85/TFVdckUI74ogjaL311kvfX3311ekUsezUP2xE8aMf/YgOOeQQesUrXiGqDnbxw+hXVdJaa63lXAs2lPXIw4bh62nTptH6668/lNCGje88jiWVQ7vg4cOSJUsk6kOi0//drxE9fB/VNppNtXU3bMPgy41veTj01Sni2ddeW6U7EEh8hNSR2OKqJbHlqxP6muXy78rjOPCVl+HDFxPKF303JDarphNj2xTFf4yY0e4cLk4eOlY4P5xcGv+cvdD1Gan2ent7075IJ/WPcrOJt7zlLYS/vJTX71t33XXTs6PyyqtMGVAGhg8DiVlHSfPnphVKFr9A9Y1jh0/9tCbKgDKgDCgDyoAyUB0GojpHqjq0DT3Sn/70p0MPgkHAYfvBD37AaKjYlwGOY187lSs/fx7RqlV12KYjlZd8ufEtD58SnTysVhbanrWbfZX4CKkjsZXFn30vsSXRCXnNcvl35WXr3c37Mnx0g28k68baNq74jxUzh4uTh447zg8nl/oPbU+KQ/UiXCOljaIMKAPKAMvA3MdXZzEdqdUF9J0yoAwoA8qAMqAMKAODx0BU258PXjWLLWMryZUrVxYXjKREzFtf5mHDPGDd/jxc8ORxLLGOdqnS9uf9V11CyS9+VK/q9jtT78c+31ZtX258y8Ohr04Rz7722irdgUDiI6SOxBZXLYktX53Q1yyXf1cex4GvvAwfvphQvui7IbFZNZ0Y26Yo/mPEjHbncHHy0LHC+eHk0vjn7IWuz0i1V9ntz0dqg0nqfc4550jUStHhsH39618vxf9IcMJxPOzrPu+J1VVcvHD1+8w7X258y8OVRCcDse1taHttDoSYJbg4HU6eh7VIJrEl0Ql5zXL5d+UVcdFpfhk+OsWi5ZoZiLVtXPEfK2YOFydvbonuP3F+OLnUY2h7Uhyqp1P7KhsD//rXv6LFzmH75z//GS3mqgHjOK5aPXzxJnOzHan8NVK+3PiWB2aJjquuoe3l+ZL4CKkjsZVXD8gktiQ6Ia9ZLv+uPI4DX3kZPnwxafk6A7G2jSv+Y8XM4eLkoWOQ88PJpf5D25PiUD3tSFU2BjbcsH3b51gqw2HDYcuawjDAcRzGepxWkiQhmvfkanCL8jtSvtz4lgcAic5q4O3vQttr9yDDLMHF6XDyPKxFMoktiU7Ia5bLvyuviItO88vw0SkWLdfMQKxt44r/WDFzuDh5c0t0/4nzw8mlHkPbk+JQPTM92dycmLsTTZhvWqU1UosWLaLx48dH2XB52DAPeO211yac16Uh132z5XEssSqdny3x1a1O8tx86v/ch5vM9Hz7MqqNGt0k8+XGtzyc+eoU8exrr6nCHX6Q+AipI7HFVU1iy1cn9DXL5d+Vx3HgKy/Dhy8mlC/6bkhsVk0nxrYpiv8YMaPdOVycPHSscH44uTT+OXuh6zNS7ekaqRHQ8jikONbEYXvf+94XK+TK4eI4rlxFfADbaX3TzeHctYGTG5YsarPgy41veTiU6LQBzQhC28uYbryV+AipI7HVAN/yRmJLohPymuXy78prqbr4Yxk+xOBGuGKsbeOK/1gxc7g4eejQ4/xwcqn/0PakOFRPp/ZpDCgDykBFGEjsRhMzNiDqGxiNZab3VaRKClMZUAaUAWVAGVAGKsxA7/EmVRh/MOiYctbf3x/M3mAbwnDw5ptvPthuRPbzsEE2YcIE2mijjUQ2VamZgTyOm0t09gl2+vr6aMmSJZ0pDGGp5JbriR59kGrb70T0/LNE5hwpvK9Nm9GEypcb3/Jw5qtTxLOvvaYKd/hB4iOkjsQWVzWJLV8dlA95zXL5d+VxHPjKy/Dhiwnlgasq1yBJ/TrRibFtgMkV/zFitvGUd29UFl7Oj0suiX/OXifxpmWKGejt7aWxY8cWFzQlBubHdFRWC0XEQKzro0ARhw0XZU1hGOA4DmM9TiuNHftmrG+CbJ0UZJKzBbovN77l4Vii42I1tL08XxIfIXUktvLqAZnElkQn5DXL5d+Vx3HgKy/Dhy8mLV9nINa2ccV/rJg5XJw8dAxyfji51H9oe1IcqqcdqcrGwPnnnx8tdg7b2WefHS3mqgHjOK5aPbzwzn08LV6bvj7V+gY65Yvb10j5cuNbHiAkOq66hraX50viI6SOxFZePSCT2JLohLxmufy78jgOfOVl+PDFpOXrDMTaNq74jxUzh4uTh45Bzg8nl/oPbU+KQ/W0I6UxoAwoAxVgIFm6OJ3Kl0I1HSlqdKTyD+WtQJUUojKgDCgDyoAyoAxUnAHd/nygAau2/fmTTz5J661ndi+LMOVhw3xebC+PLSV1+/PuGy2PY4lVtMuMGTNo7ty5UbdL8uA/qf/UzxFNmkK9p/6A+q+6hJJf/Ihqu+xFPR9o3sHSlxvf8uDZV6eIZ197kraW+AipI7HF1VNiy1cn9DXL5d+Vx3HgKy/Dhy8mlC/6bkhsVk0nxrYpiv8YMaPdOVycPHSscH44uTT+OXuh6zNS7en25yOg5X/yk59EW0sO2/e///1oMVcNGMdx1erRKd5kYFofTTc79iENjEglZsOJ1uTLjW95+JPotOLMfg5tL2vbvpf4CKkjsWWxt75KbEl0Ql6zXP5dea11l34uw4cU20jXi7VtXPEfK2YOFycPHXucH04u9R/anhSH6unUvsrGwD333BMtdg7bnXfeGS3mqgHjOK5aPTrGO7D1eQ0bTZhUG2/XSLV3pHy58S0P/xId6HEptL08PxIfIXUktvLqAZnElkQn5DXL5d+Vx3HgKy/Dhy8mLV9nINa2ccV/rJg5XJw8dAxyfji51H9oe1IcqqcdqcrGwPTp06PFzmGLdSpitEQ6gHEcO1QqndXYsQ/ro5D66rv20aL2NVK+3PiWh3uJDvS4FNpenh+Jj5A6Elt59YBMYkuiE/Ka5fLvyuM48JWX4cMXk5avMxBr27jiP1bMHC5OHjoGOT+cXOo/tD0pDtUzD3bNepVEiSCq2hqpF198kdZaa60omy4PG+YBT5w4kZ5//vmo1+JESWgOqDyOc4oViqTzswsNBy6w6riPmC/pPOr57MlU22wrSp6ZS/1fOIxojTWp96yfNXnz5ca3PJz56hTx7GuvqcIdfpD4CKkjscVVTWLLVyf0Ncvl35XHceArL8OHLyaUL/puSGxWTSfGtimK/xgxo905XJw8dKxwfji5NP45e6HrM1Lt6RqpEdDyH/3oR6OtJYftwAMPjBZz1YBxHFetHp3gTV5aQbTg6XrRgal9ZKf2mbxkxYtNZny58S0PZxKdJpAtH0LbazGffpT4CKkjsZVXD8gktiQ6Ia9ZLv+uPI4DX3kZPnwxafk6A7G2jSv+Y8XM4eLkoWOQ88PJpf5D25PiUD2d2qcxoAwoA7Ez8PRTZIYxidYe19hkgtYcQzR6jTrynOl9sVdJ8SkDyoAyoAwoA8pA9RnoPd6k6lej+xosW7aM+vv7uzdUkgVsJb7llluW5M3PTR42DF9jKuLs2bP9jGnpXAbyOM4tWCBEu/T19dGSJUsKSg5ddnL/34n+egvRhrOoZ9c3p0CAO7npWqLly6i2425UmzilAdCXG9/ycOSrU8Szr71GZT3eSHyE1JHY4qonseWrE/qa5fLvyuM48JWX4cMXE8oXfTckNqumE2PbFMV/jJjR7hwuTh46Vjg/nFwa/5y90PUZqfZ6e3tp7NixHVW/p6NSWig6BlyLQIcaLIdtww03HGpow8Y/x/GwqWC2Io0d+wa2Prd5jUN5m3fu8+XGtzzcS3Qs7LzX0PZC+ZDg4nQ4eR7WIpnElkQn5DXL5d+VV8RFp/ll+OgUi5ZrZiDWtnHFf6yYOVycvLkluv/E+eHkUo+h7UlxqJ5O7atsDJxzzjnRYuewff3rX48Wc9WAcRxXrR4d4Z37RL2Y3bHPKo2v79zXepaULze+5eFeomNh572GthfKhwQXp8PJ87AWySS2JDohr1ku/668Ii46zS/DR6dYtFwzA7G2jSv+Y8XM4eLkzS3R/SfODyeXegxtT4pD9bQjpTGgDCgDkTNgD+O1Z0hZuDVmRMrm66syoAwoA8qAMqAMKAODyYCukRpgt2prpLbZZpt0O/HBDA6p7TxsmAe8xx570BprDGwQIDWueikDeRxLqJHOz5b4kugk/asoueQHZBYwUm3/g6k21mw4MZCSh+4jeuifVFtvY6pttb0Vky83vuXhyFeniGdfe43KeryR+AipI7HFVU9iy1cn9DXL5d+Vx3HgKy/Dhy8mlC/6bkhsVk0nxrYpiv8YMaPdOVycPHSscH44uTT+OXuh6zNS7ekaqRHQ8ldddVW0teSwXXrppdFirhowjuNY65HcfRv1/+Umf3gLniF6eWV9h77JU5v1GyNSzYfy+nLjWx4gJDrN4Js/hbbXbL3+SeIjpI7EVl49IJPYkuiEvGa5/LvyOA585WX48MWk5esMxNo2rviPFTOHi5OHjkHODyeX+g9tT4pD9XRqX2Vj4I477ogWO4ftT3/6U7SYqwaM4zjGeiSrVlH/d0+l5HunUfLog34Q7fqoV6xLtZ7eZt2BjlTrGilfbnzLA4REpxl886fQ9pqt1z9JfITUkdjKqwdkElsSnZDXLJd/Vx7Hga+8DB++mLR8nYFY28YV/7Fi5nBx8tAxyPnh5FL/oe1JcaiedqQqGwMTJ06MFjuHbfLkydFirhowjuMo67HYjBi99FIKLbn+Si+IybzH0/K1GS079hlpzR7Ku6h51z5fbnzLA5BEJ60I8y+0vTw3Eh8hdSS28uoBmcSWRCfkNcvl35XHceArL8OHLyYtX2cg1rZxxX+smDlcnDx0DHJ+OLnUf2h7UhyqZ+5FEpOUCKL58+en5w8oF4PDAOYBz5gxg+bOnWvOVtWQGxyW/a2W0S7JYw9R/wlH1sGNGk09//sDamwUUQC5/7xvUnLz9VR7+3uoZ7/3NJVOHjV2TzR2J0yi3tPOa8qL7UMZPMdW56rj0TYrpwWV53J49vWi7eLLmKy88izjbbC1Ro8eTVOntiwnYJzqOVIMMbGLP/CBD0QLkcO23377RYu5asA4jqOsx6LMGiaz3ik9SLdDoMm8J+slZ6zfrmHXSC15gZLMYdq+3PiWBxCJTnsFVktC21ttefU7iY+QOhJbq9E3v5PYkuiEvGa5/Lvymmsu/1SGDzm6ka0Za9u44j9WzBwuTh468jg/nFzqP7Q9KQ7V06l9GgPKgDIwyAwkLwx0pEaNSj0lN/6akpdfLvSajlzOtVP7HB0pswaLli8ttKcFlAFlQBlQBpQBZUAZCMmAjkiFZLNEW3vttVeJ3vxccdj23XdfP0NammWA45hVGMqMgRGp2nY7EWEUaeGzRHfdWowIestMB6lmLlOvWK+tfM0MvdOYsXV5Zp2ULze+5eFQotNWgYwgtL2M6cZbiY+QOhJbDfAtbyS2JDohr1ku/668lqqLP5bhQwxuhCvG2jau+I8VM4eLk4cOPc4PJ5f6D21PikP1dESqsjGw2WabRYudw7bVVltFi7lqwDiOo6zHoufrsCZNodob3pK+7+9k04mB0SiaMo1qo5nzx+z0PmxoMZB8ufEtDzcSHYsv7zW0vVA+JLg4HU6eh7VIJrEl0Ql5zXL5d+UVcdFpfhk+OsWi5ZoZiLVtXPEfK2YOFydvbonuP3F+OLnUY2h7Uhyqpx2pysbAWWedFS12Dtspp5wSLeaqAeM4jrIedo3U+In1jlSv2cb8wX9Q8tjDTrjJvCfq+dNzpvVZTbtz3+JFVkK+3PiWhyOJTgNgzpvQ9nJciDBLcHE6nDwPa5FMYkuiE/Ka5fLvyiviotP8Mnx0ikXLNTMQa9u44j9WzBwuTt7cEt1/4vxwcqnH0PakOFRPO1IaA8qAMjDIDCQvDIxIjV+HautMptr2O6cekxsKtkIfOEMqb+vzBuTGWVKrR6QaefpGGVAGlAFlQBlQBpSBQWSg93iTBtF+ZUwvW7aM+jM7f8UOHMO6nW7NWHZd8rBhi8+ddtqJ1l577bLhDEt/eRxLKop26evroyVLlkjUO9JJrvk50ZJF1LPHPlSbOj3drjy5+ToiM3Wv9oa3Um3NNXPt9P/2F0QLnqba699EtQ1n55ah+/5OZA75rW28CdU22zot48uNb3k48dUp4tnXXlpRz38SHyF1JLa4Kkps+eqEvma5/LvyOA585WX48MWE8kXfDYnNqunE2DZF8R8jZrQ7h4uTh44Vzg8nl8Y/Zy90fUaqvV4zc2bs2IE12AUk6GYTBQTFmv373/8+VmjEYfvNb34TLeaqAeM4jrIejal969Thzd6cCB0jbIX+R0dM2BGpjqb2rT6U15cb3/KohETH1Tah7eX5kvgIqSOxlVcPyCS2JDohr1ku/648jgNfeRk+fDFp+ToDsbaNK/5jxczh4uShY5Dzw8ml/kPbk+JQPZ3aV9kYuPXWDnY9G6Lacdj0ix+uQTiOw3kIYykxnSVaurhuzKyRQsITuNqe9R0ckxuvpgTbl7ek5LkF9d39IJ+xQUtu5mPO1D5fbnzLw7tEJ4O67W1oe20OhJgluDgdTp6HtUgmsSXRCXnNcvl35RVx0Wl+GT46xaLlmhmItW1c8R8rZg4XJ29uie4/cX44udRjaHtSHKqnHanKxkCnQ45DUUEO27hx44YCzrD0yXEcXWXttuQ9ZvB77Or2r+24K9G48UToMN315wbsZP486v/xt6n/ix+ty7CmKqPXKGjf9A2Mci1ePSLly41vebiW6FjIea+h7YXyIcHF6XDyPKxFMoktiU7Ia5bLvyuviItO88vw0SkWLdfMQKxt44r/WDFzuDh5c0t0/4nzw8mlHkPbk+JQPfNw2Bx6mSgRRPPnz6eVK83Tc02DwgBGIWbMmEFz584lDblBoVhkdLDbJTHrl/pPPIponUnU+7XzmjD2X34hJVf/jGjTrajn3f9NyTWXUXL7zURJf73czE2p5x0fMGuftmrSy35I7rub+k//IpGZ/td7wtnZrKjeDzbPUVV2mIDRNiunIZXncnj29aLt4suYrLzyLONtsLVGm3MqO92HILo1Utdccw19/OMfp4MOOoiOO+44evDBB518LV26lM4991z6yEc+Qu9973vpU5/6FP31r3916gyHTNQ31sRhe9e73hUr5Mrh4jiOriKt66MyALHRBGGk6oF7qP+ET1Ny2x/qnaitXk09nz2Zeo79mrMTlZrKGZHy5ca3PPxKdDJVb3sb2l6bAyFmCS5Oh5PnYS2SSWxJdEJes1z+XXlFXHSaX4aPTrFouWYGYm0bV/zHipnDxcmbW6L7T5wfTi71GNqeFIfqEY2KiYRbbrmFLrjgAjr00ENpk002oauuuopOOukkOuOMM2jChAltUF9++WU68cQTafz48XTUUUfRpEmTaMGCBSNiZ7iXXnqpjY9YBBy2FStWxAKx8jg4jmOr2Oqtz+vro7L4ajig99W71DtQpkNVe82uVHvLf1Jtg5nZYu739hwpsw4rMdeD2qhR5MuNb3kAkui4KhLaXp4viY+QOhJbefWATGJLohPymuXy78rjOPCVl+HDF5OWrzMQa9u44j9WzBwuTh46Bjk/nFzqP7Q9KQ7Vi6wjdeWVV9Ib3/hG2mOPPdK2QYcKo0u/+93vaP/9929rrxtuuCHdtvmEE06gUeYGCmnatGlt5YajYLfddou2Why2N73pTdFirhowjuPo6jEwIlUzZ0jlpdpBH0un9tW22p5qU16RV8Qtw/qpmhnVwnRAs8U6phD6cuNbHoAkOq6KhLaX50viI6SOxFZePSCT2JLohLxmufy78jgOfOVl+PDFpOXrDMTaNq74jxUzh4uTh45Bzg8nl/oPbU+KQ/Ui6khhdOnhhx9u6jD1mKfUW2+9NT3wwAO5bXXHHXekI1ff//736fbbb09HpnbZZZfUBnTzEtZBZddCYX7qmDFj6juJmfdVSTvssEOKOUa8edjAM9oGr5q6ZyCPY4lV2x72VWLDqWOn9k2YmNv2tXF9ROZ8KWmq9Y6ifmxasXgh1UxHqjZxMvly41seWH11LL/2tbW+vvZa9Tv5LPERUkdii6uXxJavDtoq5DXL5d+Vx3HgKy/Dhy8mlLffCfsqsVF1nRjbpij+Y8SMOOBwcfLQscP54eQ27u1rp3g4e53qa7mADGCziRjSs88+m5j5uMn999/fBOfCCy9Mjj322CaZ/WDWQyVmXVRy9tlnJw899FBy8803Jx/84AeTSy65xBZpe7344otTP/CFv2OOOaatTBUEb3/726OFyWHj5NFWJGJgVeFy/imfTx7b59XJost/PGhszv3YgamP5X+9NfXhy41veTiR6LgICG0vz5fER0gdia28ekAmsVWWjgSzBBvnh5OX4YPzrXI3A7G2jQuXK89d28HN5XBx8tBoOD+cXOo/tD0pDtVLkqjWSPn2D00DpqNQhx12mFmz3kOzZs2i5557jn71q18Rt0jygAMOoH333bfhyj4FwNqq7EhVo0Ckb1588cV0B7wY4eVhszzPmzdPd+0L0Gh5HEvMol2mT59Og9UuL8+bm8JaRD20xOzYOBhp1Zj66ePPPvow9UzfkHy58S2POvjqFPHsa0/Co8RHSB2JLa6eElu+OqGvWS7/rjyOA195GT58MaF80XdDYrNqOjG2TVH8x4gZ7c7h4uShY4Xzw8ml8c/ZC12fkWoPy4U63bWv93iTYiAKWw1efvnltN1229F6663XgHTTTTdRb29vOsWiIRx4gwPJsAnF7rvv3sjCLn7XXXcdocOUN70PtuAr+wdl6K3KORi0YTiyNxtvvHF6AxwZrBQOhw1ti41B0AHW1B0DHMcSq319fbR4sdmsYRDaBVuaY+1SDdP3JGugOqhQcs8dRE89RrTJFlSbtRn5cuNbHpAkOi6eJfY6oKapiMRHSB2JraYKZD5IbEl0Ql6zXP5deZlqd/W2DB9SgK7vhtRmlfRibRtX/MeKmcPFyUPHCeeHk8O/JP5d9kLXaSTaQ1+h07O68hcSDQFr6P1hROmee+5peO/v708/b7rppg1Z9s1mm22WPklHOZtwTtHEiRMbm09Y+XB7veuuu6KtEoftL3/5S7SYqwaM4zi6eix6vg6J2WwiCF5re+DwX19ufMsDs0THVdfQ9vJ8SXyE1JHYyqsHZBJbEp2Q1yyXf1cex4GvvAwfvpi0fJ2BWNvGFf+xYuZwcfLQMcj54eRS/6HtSXGonjnFJSYSMOXu+uuvpxtvvJGeeOKJ9HwobL9pR5zOPPNMuuiiixqQ3/zmN6e79p133nn01FNPpTv8YVRr7733bpQZrm/AUayJw3bttdfGCrlyuDiOY6pIggOuly2tQzKbTQxa6hs4GmHxC6kLX258y8OJRMdV/9D28nxJfITUkdjKqwdkElsSnZDXLJd/Vx7Hga+8DB++mLR8nYFY28YV/7Fi5nBx8tAxyPnh5FL/oe1JcaheRLv2oTF23nlnWrRoEZnNImjhwoWEoUscyrvOOvWtk7GOyc7bRfkpU6bQF77wBTr//PPp6KOPTs+Reutb39q08x/KDcdkt3uPsW4cNk4eYx1ix1QJLu2OfWZnPVrbbFM+WGmgI5UMdKR8ufEtj2pIdFzVD20vz5fER0gdia28ekAmsVWWjgSzBBvnh5OX4YPzrXI3A7G2AHmY3QAAQABJREFUjQuXK89d28HN5XBx8tBoOD+cXOo/tD0pDtUz6zyx44YSQTR//vxKbTZRtTZDB3jGjBnpBhkacvG03mC2S/Lvf1H/yZ8hmjiFev/3B4NW6eSuW6n/rJOJZm5KvcedNmh+ujE8mDx3g0t1eQa0zXhuQuYozyHZDGdL2yUcly5LyrOLnaHLwz4KnW42EdXUvqGjrHqeP/nJT0YLmsN28MEHR4u5asA4jqOqhx2RsmuYBgtc38BhvwMjUr7c+JZHNSQ6ruqHtpfnS+IjpI7EVl49IJPYkuiEvGa5/LvyOA585WX48MWk5esMxNo2rviPFTOHi5OHjkHODyeX+g9tT4pD9SJbI6UN0jkD2GUt1sRhw7RNTWEY4DgOYz2MlaSMjSYAtc8cyIs00JHy5ca3fOoq8PdPgiGts8c/iY+QOhJbXPUktiQ6Ia9ZLv+uPI4DX3kZPnwxafk6A7G2jSv+Y8XM4eLkoWOQ88PJpf5D25PiUD3tSFU2Bl772tdGi53Dtuuuu0aLuWrAOI6jqsfAiFStrBGpFS9SYv58ufEtD44lOq62CW0vz5fER0gdia28ekAmsSXRCXnNcvl35XEc+MrL8OGLScvXGYi1bVzxHytmDhcnDx2DnB9OLvUf2p4Uh+oRRXOO1FA3xrJlyyi7jfpQ4ynyj/OzJk+eXFRsSPLzsGEe8AYbbEBjxowZEkzDzWkex5I6ol1whsWSJUsk6k6d5PY/Ej3yL6pt/WqqvXJbZ9muMs3RCcmvzXlV5hiE2q5vpgkz1vX6bki49NUp4tnXnoQviY+QOhJbXD0ltnx1Ql+zXP5deRwHvvIyfPhiQvmi74bEZtV0YmyboviPETPancPFyUPHCueHk0vjn7MXuj4j1V4lz5EaqY0lrffJJ5vF9ZEmDtvnP//5SBFXDxbHcVQ1KWmNFH6IaLzdAn0R+XLjWx4cS3RcbRPaXp4viY+QOhJbefWATGJLohPymuXy78rjOPCVl+HDF5OWrzMQa9u44j9WzBwuTh46Bjk/nFzqP7Q9KQ7V06l9GgPKgDIwSAysXiM1iGdIWeyNDScWWom+KgPKgDKgDCgDyoAyMKgM6NS+AXqrNrVv3XXXpfXWW29Qg0NqPA8bRg222GKL9KwvqV3VW81AHserczt/J51W0ImHdLrd0sXUs8fbqDZlWicq4jLJnbcSPTOXaItX0Xqve73Xd0PCpa9OEc++9iRESXyE1JHY4uopseWrE/qa5fLvyuM48JWX4cMXE8oXfTckNqumE2PbFMV/jJjR7hwuTh46Vjg/nFwa/5y90PUZqfZ0at8IaPmHHnoo2lpy2O6///5oMVcNGMdxVPWwu/ZNGNiefBDB1QYO5aVFL5AvN77lUQ2Jjqv6oe3l+ZL4CKkjsZVXD8gktiQ6Ia9ZLv+uPI4DX3kZPnwxafk6A7G2jSv+Y8XM4eLkoWOQ88PJpf5D25PiUD2d2lfZGLj22mujxc5h++Uvfxkt5qoB4ziOpR7JSyuIli+rwxnsXfvgpbFGaiH5cuNbHu4kOtDjUmh7eX4kPkLqSGzl1QMyiS2JTshrlsu/K4/jwFdehg9fTFq+zkCsbeOK/1gxc7g4eegY5Pxwcqn/0PakOFRPO1IaA8qAMjAYDNiNJsyOejRm7GB4aLbZWCP1QrNcPykDyoAyoAwoA8qAMjBIDNQSkwbJdqXMzp8/n1auXFkZzKtWrSLM4Ywx5WHDPOBp06bRM888Qxpy3bdaHscSq2iXGTNm0Ny5c4O2S/Lw/dT/1aOJJk2l3lO/L4HmpdN/yw2U/PAMs0ZqO6IjvuT13ZBw6atTxLOvPS9yBgpLfITUkdji6imx5asT+prl8u/K4zjwlZfhwxcTyhd9NyQ2q6YTY9sUxX+MmNHuHC5OHjpWOD+cXBr/nL3Q9Rmp9kaPHk1Tp07tqPo9HZXSQtEx8LnPfS46TBYQh+2www6zRfS1SwY4jrs0G07djkiVMa3PoK5lpvb5cuNbHiRJdFzkhraX50viI6SOxFZePSCT2JLohLxmufy78jgOfOVl+PDFpOXrDMTaNq74jxUzh4uTh45Bzg8nl/oPbU+KQ/WIzLwbTVVkYMGCBdHC5rBhNEpTGAY4jsNY795KY+vzCSVsfQ64mal9vl8NCZcSHReroe3l+ZL4CKkjsZVXD8gktiQ6Ia9ZLv+uPI4DX3kZPnwxafk6A7G2jSv+Y8XM4eLkoWOQ88PJpf5D25PiUD1dI1XZGHjVq14VLXYO24477hgt5qoB4ziOph4DI1K1kkakyO7at/gF8uXGtzw4lui42ia0vTxfEh8hdSS28uoBmcSWRCfkNcvl35XHceArL8OHLyYtX2cg1rZxxX+smDlcnDx0DHJ+OLnUf2h7UhyqR6TnSA1EQdXOkZo+fTqts87gbyst+ZLkYcM84M0335ww71RT9wzkcSyxinbp6+ujJUuWSNRZneS2PxI98i+qbf1qqm2+DVsuWMao0ZRcdQmZhV40432H0cQO5zbDv4RLX50inn3tSXiT+AipI7HF1VNiy1cn9DXL5d+Vx3HgKy/Dhy8mlC/6bkhsVk0nxrYpiv8YMaPdOVycPHSscH44uTT+OXuh6zNS7ek5UiOg5Y8//vhoa8lhO/LII6PFXDVgHMex1CMpe40UOuhj1k6r/z9f+YoXDRIuJTouUKHt5fmS+AipI7GVVw/IJLYkOiGvWS7/rjyOA195GT58MWn5OgOxto0r/mPFzOHi5KFjkPPDyaX+Q9uT4lA9ndqnMaAMKAODwcDAYby1stZIoQ52et/L1dl9czCoV5vKgDKgDCgDyoAyUA4DOrVvgOeqTe2bPHkybbTRRuVEiaeXPGwYvp49e3bH20l6uhxxxfM4lpAgnVZQ5Cv59aVES5dQbY99qTZ5WlHxIPnJbX8gen4BTd3zrbTRdq/p2KaES1+dIp597XVcuUxBiY+QOhJbGfhNbyW2fHVCX7Nc/l15TRXv4kMZPiTwir4bEptV04mxbYriP0bMaHcOFycPHSucH04ujX/OXuj6jFR7OrVvBLS8azedoa4+hw1nFWkKwwDHcRjrAay8sLBupNQRqfqawaeffNKrAhIuJTouUKHt5fmS+AipI7GVVw/IJLYkOiGvWS7/rjyOA195GT58MWn5OgOxto0r/mPFzOHi5KFjkPPDyaX+Q9uT4lA9ndpX2Ri44oorosXOYbvkErMZgKYgDHAcBzHepZFkxYtEK5bXrZS1a5/xZs+SuuLmP3nVQMKlRMcFKrS9PF8SHyF1JLby6gGZxJZEJ+Q1y+Xflcdx4Csvw4cvJi1fZyDWtnHFf6yYOVycPHQMcn44udR/aHtSHKqnHSmNAWVAGQjNgN1oYo01iNYaE9o6b0/XSPHcaI4yoAwoA8qAMqAMBGeglpgU3GoFDc6fP59WrqzOIvXly5fTmDEl3qR6tGkeNswDnjBhAr3wwgtmh2oNOQ86c4vmcZxbsECIdpkxYwZhCkeodkkeuo/6TznGTFafRr2nnFuAIFx2//VXUvLTc2j51jvQuCP+X8eGJVz66hTx7Guv48plCkp8hNSR2MrAb3orseWrE/qa5fLvymuqeBcfyvAhgVf03ZDYrJpOjG1TFP8xYka7c7g4eehY4fxwcmn8c/ZC12ek2sNRPVM7PEalZ6SSVPV6n3DCCdFWgcN29NFHR4u5asA4jqOohx2RKnFaH+pdW3eDtPonXforSl5+uWMqJFxKdFyAQtvL8yXxEVJHYiuvHpBJbEl0Ql6zXP5deRwHvvIyfPhi0vJ1BmJtG1f8x4qZw8XJQ8cg54eTS/2HtifFoXo6ta+yMfDUU09Fi53D9vjjj0eLuWrAOI5jqEfywvN1GGVuNAGPm25FZDpvTy1eSnTvnR1TIeFSouMCFNpeni+Jj5A6Elt59YBMYkuiE/Ka5fLvyuM48JWX4cMXk5avMxBr27jiP1bMHC5OHjoGOT+cXOo/tD0pDtXTjlRlY2CLLbaIFjuHbdttt40Wc9WAcRxHUY+BEala2SNSvb1U23E32mL8GEr+fGPHVEi4lOi4AIW2l+dL4iOkjsRWXj0gk9iS6IS8Zrn8u/I4DnzlZfjwxaTl6wzE2jau+I8VM4eLk4eOQc4PJ5f6D21PikP1iPQcqYEoqNo5UjNnzqS+vr4oYzgPG+YBb7/99tTTo7NJQzRaHscSu2gXxNGSJUsk6rk66XlOjz5INbNWqbb51rllBk04ro82vuP3NO75+VTb05xhZeY5FyUJl746RTz72iuqU16+xEdIHYmtvHpAJrHlqxP6muXy78rjOPCVl+HDFxPKF303JDarphNj2xTFf4yY0e4cLk4eOlY4P5xcGv+cvdD1Gan29BypEdDyxx13XLS15LAdfvjh0WKuGjCO4xjqkQzRGqm07hvNoS88+AzRypcoubOzbdAlXHI60g07OHsh21PiI6SOxBZXf4ktiU7Ia5bLvyuP48BXXoYPX0xavs5ArG3jiv9YMXO4OHnoGOT8cHKp/9D2pDhUT6f2aQwoA8pAaAbs1L4J9QNyQ5t32cPTPZo4OS2S/Pn3rqLB85J5T1D/Z95P/eeeTsmLA+doBfeiBpUBZUAZUAaUAWUgFgZ0at9AS1Rtat+4ceNo1qxZscRRE448bLjBXW+99dKttpsK6wcRA3kcSwxJpxW4fCVX/4xo2RKqvdFMrZs01VV0UPL6zLEAMx+8m2jBM1Tb9U1UW2ttpx8Jl3k6yW1/JLrjZqInH6Xk7tuotuX2VBs7LvVdxHOePSdoQabER0gdiS2umhJbvjqhr1ku/648jgNfeRk+fDGhfNF3Q2Kzajoxtk1R/MeIGe3O4eLkoWOF88PJpfHP2Qtdn5FqT6f2jYCWxxkCsSYOGzqrmsIwwHEcxnqXVuyufeMndmlIpr58jbWIZm9OlPRT8pc/FBqRcJmr8/yC1b5MZ6r/xKMo6XD3wFx7q60FeSfxEVJHYouruMSWRCfkNcvl35XHceArL8OHLyYtX2cg1rZxxX+smDlcnDx0DHJ+OLnUf2h7Uhyqp1P7KhsDl112WbTYOWwXXnhhtJirBozjeKjrkU5pe2lFHUbJu/bZuoOb2mt3Tz92Mr1PwmWuzkBHqvbGt5sVz5umo3L93/wf6r/mssLDjnPt2QoFepX4CKkjscVVXWJLohPymuXy78rjOPCVl+HDF5OWrzMQa9u44j9WzBwuTh46Bjk/nFzqP7Q9KQ7V046UxoAyoAyEZGDRwBlSa65lptSNCWnZy1btNa83e5L2Ej32ECVzyzm/LHluYETKdKJ6jv4q1XbZqz4qdtn51H/O16hf1015taEWVgaUAWVAGVAGYmegZnaZSmIHWQa++fPn08qVK8twFcTH888/TxMnDs3UqaIK5GHDPOA111yTVqxYUfh0vsi+5hPlcSzhBe0yY8YMmjt3bpB2SR78B/Wf+nmiqdOp9+RzJJC61rHcrPq/E4iwVmmfA6nngINZu7Y8WyAnI09n1XEfIZo/r96J2nTLlM/kxl9TcvH3iFatop5JUyh5xfpEk826MfyZ9WO1ydNSrhbWRg369zkPc07VmkQhdSS2msBkPkhs+eqEvma5/LvyMtXu6m0ZPiQAQ1+DJBiGWifGtimK/xgxox05XJw8dNtzfji5NP45e6HrM1LtjTZHp0yd2tkabz3Up6JR8s1vfjNa5By2E088MVrMVQPGcTzk9RjKrc8HKm+5qb1u91SCw3ldz4tseR/uWnVS+88/WzdhOkxI+IHs2WMf6vnMSURmmmO/GbFK/nkXJX/8LSW/vIiSH36T+k/7AvV/7sN0xtFH1nUH8X8r5k5chdSR2OIwSmxJdEJes1z+XXkcB77yMnz4YtLydQZibRtX/MeKmcPFyUPHIOeHk0v9h7YnxaF6RKOUhGoy8Mgjj0QLnMP24IMPRou5asA4joe6HskLC+sQhmh9FJxbbmrb7EjJmmZ64bPmXKmH/kk0Z4tcemz53ExG2Kaz+AWil82Ituk80TqTmrRqm2xhRue+S5PMtMdn/3UfJcDz3Pz66zNzU3yP3G06WGbUqobpiIOU2jB34CekjsQWB1FiS6IT8prl8u/K4zjwlZfhwxeTlq8zEGvbuOI/VswcLk4eOgY5P5xc6j+0PSkO1dOOVGVjYPbs2dFi57Btttlm0WKuGjCO4yGvhz1Dagg7Upab2pprUm37nSj50w2U3Hoj1ZiOlC3vw12bjh2NMvWujRrdZgpbsK81czb1TFuvaXQsMQcH9x/zIZq9hpkccNefiV69c5tuKEEb5g4Mh9SR2OIgSmxJdEJes1z+XXkcB77yMnz4YtLydQZibRtX/MeKmcPFyUPHIOeHk0v9h7YnxaF65vmprpGqh0HV1kg999xzNGlS85PvWAI6DxumOWHOKdahuaZZxVKH2HHkcSzBLJ2fzfnqv/AsSm66lmpvfw/17PcertigyrPcJP+4k/q/8WWisX3Uc9p5uZ2cbPlOgbXqJHfdSv1nnUy08SbU+4XT28y4eO6//Ef07C8uoklbbEO9nzulTTeUoBVzJ3ZD6khscRgltnx1Ql+zXP5deRwHvvIyfPhiQnnXd0Nir4o6MbZNUfzHiBltz+Hi5KHjhfPDyaXxz9kLXZ+Rak/XSI2Alj/qqKOirSWH7UMf+lC0mKsGjON4qOuRRLBGqombzbchmmA2ZVm6mOiev+bS01Q+t0S7sFWnsWPfxMnthQsktT3eSp/9+6NEZqOO5NHBm/7airkAVpodUkdii8MosSXRCXnNcvl35XEc+MrL8OGLScvXGYi1bVzxHytmDhcnDx2DnB9OLvUf2p4Uh+rp9ucaA8qAMhCSgYHDeGvovESQaj29VNthtxRJJ2dKiSEPTO2rmZ34fFNtHdP5mlAfXU6uu8JXXcsrA8qAMqAMKAPKwBAx0Hu8SUPkOyq3OMG7v78/KkwuMGussQZtsskmriJDlpeHDcPXU6ZMoQ022GDIcA0nx3kcS+qHdunr66MlS5ZI1Nt0kqsuIVq+lHAobW1g97q2QoMsaOOmb0I63RBbk9d22pNqY9ZuQtBWvik3/0OrTnLz9URPPkq1V+9i1mK9sk2piOc1qJ/mPH4/0dwnqLbrmwflDK5WzG0gcwQhdSS2ciClIoktX53Q1yyXf1cex4GvvAwfvphQvui7IbFZNZ0Y26Yo/mPEjHbncHHy0LHC+eHk0vjn7IWuz0i112s2fho7dmxH1Y9y175rrrmGrrjiClq4cCFttNFGhOHlOXPm5FboxhtvpLPPPrspD3Mbf/zjHzfJhtuHUaOibLqUZg4b2kVTGAY4jsNYl1lJ175FMLWvjZsNZxHNMhudPHw/9f/wDOo58itU61l98kNb+Q6q36qTLBw4jFcwtQ/uRq+7IdHszc3ugmZXP3P2VO0/3tsBCr8irZg70Q6pI7HFYZTYkuiEvGa5/LvyOA585WX48MWk5esMxNo2rviPFTOHi5OHjkHODyeX+g9tT4pD9SKc2nfLLbfQBRdcQO985zvp1FNPTTtSJ510Er3wgtlemEljxoyhc845p/F31llnMSWHj/iiiy6KtjIctu99zxxMqikIAxzHQYxLjby4nMjsQpem8UM3ta+VGzzx6/ngp82jyjWJ7rubkt/+sqmGreWbMpkPbTrmjCgk6Sgc7NXeuF9qI/m9OcTX8phKwvxrw9yB2ZA6ElscRIktiU7Ia5bLvyuP48BXXoYPX0xavs5ArG3jiv9YMXO4OHnoGOT8cHKp/9D2pDhUL8KO1JVXXklvfOMbaY899qD111+fDj300HSo9ne/+x3bXrhRWmeddZr+2MKaoQwoA4PDwMD6KFprDGHr8ZhSbfp6VHv3f6eQkssvpOSxh4PBSzAl2G5/PrF+GK/EeG271xFB35xJlfzlDxITqqMMKAPKgDKgDCgDJTIQ1fbnL7/8Mh188MGE3Uh23HHHBg1nnnkmYQ3TMccc05DZN5ja953vfCfdChxTi2bOnEnvec972LU42H4bfzahE4YRrQULFjTJbX6sr/PmzaPp06dHCS8PG3jGGrQeM6VKtz/vvtnyOJZYRbsgjmCv23ZJHriXVv3v54mmzaBRJ58jgRNEh+MG9es/6yRKcF7TjA2o9/99g2pmlIor7wKT1UlMB3LVZ96PxR7U++2fmy3W26fdFvFs7fX/+lLqv+x8og1mUe+XzkjXj7hw+ORZH0OlI/HPYZXY8tUJfc1y+XflcRz4ysvw4YsJ5Yu+GxKbVdOJsW2K4j9GzGh3DhcnDx0rnB9OLo1/zl7o+oxUe5g6OXVqh5tHmZuLaNKzzz6bvOtd70ruv//+JkwXXnhhcuyxxzbJ7AeUNZ2p5N///ndy7733Jl/96leT97///YnpGNkiTa8XX3xx6gN+8Gc6Z035VfnA8REDfg4bJ48Bc9UwxMjl0j/8Nnlsn1cn847+8JDS6eLm5YXPJ08c9OYU53Nnn5ridJXnKpLVWfHAvam9J9/3Fq54odzae3nRwuTxA3ZO7S2/+/ZCPZ8C1sdQ6Uj8c1gltsrSkWCWYOP8cPIyfHC+Ve5mINa2ceFy5blrO7i5HC5OHhoN54eTS/2HtifFoXpJ0v7otGLdz0033ZTwZxPeH3nkkfTb3/6W/uu//suKG68HHHAA7bvvvo3PeBqAVLURqdtvv53mzp3bqEdMb/Kwged77rknyMhHTHUdKix5HEuwSJ+G5fnq//dDqXjlWmOHNDYLuTnkCKIzvkxLrryEls16JRWWz6lsVqf/gfvSEqvMujDuO1nEc9YevXZ3InOo8YKLz6PeKevmeJeJmnx0aCKkjsQWB1Niy1cn9DXL5d+Vx3HgKy/Dhy8mlC/6bkhsVk0nxrYpiv8YMaPdOVycPHSscH44uTT+OXuh6zNS7fmMSEXVkRo/fnw69Qu79WUTPmMNVCcJlcf0Pgx75iXsQpO3E43pVXc9tSnP32DJsH4MmGNMHDbswFg1nmPkF5g4jqV4Q7RLsuCZuvvJ04Y0Nou4qW25Xbo9e3L9FekufutNm+6NN+tj9WG8UwrtcDxn7WHr+MR0pJK7bqX+Z+ZSbWqYKbxZH53GSUgdiS0Op8SWRCfkNcvl35XHceArL8OHL6Zsee67kS0zXN/H2jau+I8VM4eLk4eOKc4PJ7f+feO/yJ61q6+Dz0BUa6RQ3eOOOy7d6tyeqI11NYcffji95S1vof3337+QEZTHGqvtttuODjnkkMLytsD8+fMrtUYK5/6MGzfOwo/qNQ8bnroAL/JwwdDUHQN5HEssol1mzJiRjqR02y6rzj6Z6M5bqfbew6hnj7dJ4ATR6YSb5KUV1H/SZ4ieeoyWbLYtjf+M2RJ9YHS6ExBZH/2X/pCSay+n2l77Uc/AhhatNop4ztqD7qpvfInoH3dRbfd9Uj59sLX6tp9bfVi56zWkjsQWh01iy1cHnIe8Zrn8u/I4DnzlZfjwxYTyRd8Nic2q6cTYNkXxHyNmtDuHi5OHjhXODyeXxj9nL3R9Rqo9DLh0ukZq9WEqkbCFaXfXX389YROJJ554gs4991xasWIF7b777ilCbDyR3fbx0ksvpb/97W/09NNP08MPP0zf+ta3CJ0i7Pw3nNMnPvGJaKvHYTvooIOixVw1YBzHQ1qPZ+sjUjUzIjWUqRNusMlEz6GmI2VGsI/48WWU/OjblKx4sWPYTT4aO/ZN7li/tWCTPZPZYzplSMmNV1P//zuc+n/zC0qWLEpl0n+tPjqxE1JHYovDKLEl0Ql5zXL5d+VxHPjKy/Dhi0nL1xmItW1c8R8rZg4XJw8dg5wfTi71H9qeFIfqmduI2EjYeeedadGiRXTJJZekB/JuvPHG6SiVndqHtUzowduEXvl3v/vdtCxOIZ41axadeOKJ6dQnW0ZflQFloAQGGlP7XlGCs+5d1NafSbUD/5vo1s+aqXTXUPLPu6jnQ5+m2pwtvIyvntrX4Q4/nVjf6tVUe9uBhOmH9PSTlPzsB4Rt22uveT3V3rC3Obz3lU3XwU5MahllQBlQBpQBZUAZCMtA7/EmhTXZvbU5c+bQ2972NnrHO96RjixNnrz6SS9GprJbo7/qVa9qlN1vv/1o1113pYkT/Q8DxfbqmBZYpbT55ptHC7cVGzq/fX19hI6xpjAMtHIssWrbBQ8kuknJsqWUXPGT1ETtHYeYLcBHd2Oua91OuanN3ITo5ZW02UuLicyIWnLL9UQvmpGpTbekWm+vE4f1kVz5U6LlS9NRpNqk/M5UJzxbe3CK8rXNt6HanmZjnCmmY7rw2fpZVU88QsnN16VbuNe23ZFqa63txNiamfXRmsd9DqkjsVUGrjwfts1CXrNc9Xfl5eGTyMrw4YvL8tztNcjXb2zlY2sb2y6u+I8Ns21TDhcnt3qhXjk/eXLLsyT+8+yFqsNIt9Nrfv8xONNJim5qXyegtYw5t1PQWSyLNw5btkNcFpbh6ofjeMjqOzCtj8aNNzf3Y4YMBhz7cjNp6+2o5/j/o9ouZjowNp35zeXUf8KRlDzyL7Ye1kd6GC86OUiT5IfxWnt1Q6v/g8ue3famni9+g3qOO62OcfQaRI//m5K7b1tdsIN3nA+XakgdiS0Om8SWRCfkNcvl35XHceArL8OHLyYtX2cg1rZxxX+smDlcnDx0DHJ+OLnUf2h7UhyqZ6biKwnVZOCHP/xhtMA5bFjfpikMAxzHYawLrDz7dF1piNdHAYQvNyhfW3ss9XzgU9TziS8SjTc7hM59nPq/ejT1/+7qXDIaPhaZHUZXrTJDSOZSOmFSbtlOhA17TGE8tazN3DTFWHv9XvVSCwY4Z3RaxUU+Wsvjc0gdia08TKFxcT4gD3nNctXflefC55NXhg8fPFp2NQOxto0r/mPFzOHi5KtbIcw7zg8nl3oNbU+KQ/W0I6UxoAwoAwEYsFuf1zANrcIJ0+V6/udMqu2wK5m5vpRcatYmoaPEpecX1HMmTCycCsiZ8JZPGdgOfb5fR8rbjyooA8qAMqAMKAPKgJOB6LY/d6IdxMyqbX/++OOP0wYbbDCIjMhN52HDE3Xsvrjmmmvq9udyahuaeRw3Mj3eoF1CbH/ef/G5lFz3K6rtfQD1vPODHgjCF/XlJq88puz1f+o9Zr3Ucur58reotv7GTUCtTvLXW6j/26cQzdqMeo/9WlOZ7Icinq29rA73PjFbzPdjq/mNN6HeL5zOFWuT+/iwyiF1JLYsjtZXiS1fndDXLJd/V15r3aWfy/AhwVb03ZDYrJpOjG1TFP8xYka7c7g4eehY4fxwcmn8c/ZC12ek2qv09ucjtdF8641t32NNHLYLLrggVsiVw8VxPFQVsSNSNHnoR6R8uckrX+sxU/U2nJ3SmTz6YButVsfu2FebKF8fBePWXpujPIEd9VuQf+h4ngpkXj4GjITUkdga6rqEvGa56u/K4zjwlZfhwxeTlq8zEGvbuOI/VswcLk4eOgY5P5xc6j+0PSkO1dOpfZWNAZydFWvisN1+++2xQq4cLo7jIavIwBqp2pShPUMK9fflhitf23hOnc6cjlRDx07t67Ij1bDXSQPajtSSxZQsX9aJRlrGy8eA1ZA6Eltc5SS2JDohr1ku/648jgNfeRk+fDFp+ToDsbaNK/5jxczh4uShY5Dzw8ml/kPbk+JQPe1IVTYGpk0b+htWjjwOG6aQaQrDAMdxGOsCK40zpIY+Ln25Ycs3RqQeaiOkoWMP4+1ixz4Yb9hr89QuqI0xW56b3RHT5LHhhI8P6zWkjsSWxdH6KrEl0Ql5zXL5d+W11l36uQwfUmwjXS/WtnHFf6yYOVycPHTscX44udR/aHtSHKpn9ppKTFIiiKq2RmrlypWEOZwxpjxsmAc8ZcoUwoHKGnLdt1oexxKr0vnZWV/JsiVmPdF7U1HPmZdQbc21stmlv/flhiufzHuS+v/fx4jMduM9/3dx02YSVmfVKccQPXQf9Rx2THpYLlfZIp6tPU6/Vb7qpM8Qme3Zez52LNW236k1O/ezrw8YCakjsZVbkcC4OB+hr1mu+rvyOHy+8jJ8+GJC+aLvhsRm1XRibJui+I8RM9qdw8XJQ8cK54eTS+Ofsxe6PiPVnq6RGgEtf+ihh0ZbSw4bDljWFIYBjuMw1j2t2NGovglD3okCcl9u2PLTzAgqRn9WvmS2Q3+siZSGjh2R6nJqX8Nekxf+Q21qfee+xGOdlK8PeA+pI7HFMSCxJdEJec1y+XflcRz4ysvw4YtJy9cZiLVtXPEfK2YOFycPHYOcH04u9R/anhSH6unUPo0BZUAZ6JYBexhvBGdIdVuVrH7zhhPt0/uS/lVEjcN4p2ZVB/+9XSflMbVv8EGpB2VAGVAGlAFlYGQx0Hu8SSOryvm1XbZsmTk2pj8/M0IpthLfaqutIkRG6TbnrdgwfI2h0jlzBhbwR4m8OqBCtT/apa+vj5YsWSKufHLvHUT33km1OVuY6W27iO2EUvTlxln+yUfTqXu1iZOptvVrGhChs+X661Lym1+Yx1E9VHvHIWaKktnpj0lFPDsx5NhM5psd++6+LV0r1fO63XNKtIt8fcBCSB2JrfZa1CUSW746oa9ZLv+uPI4DX3kZPnwxoXzRd0Nis2o6MbZNUfzHiBntzuHi5KFjhfPDyaXxz9kLXZ+Raq+3t5fGjh3bUfX5X/6O1LXQUDGw0UYbDZXrQr8cttmz69tJFxrQAoUMcBwXKg5GATu1L5IRKV9unOWZDSdSHbtj3zqTqNbT2xWzTgw5lu3UPvIYkfL1AbchdSS2cqqeiiS2JDohr1ku/648jgNfeRk+fDFp+ToDsbaNK/5jxczh4uShY5Dzw8ml/kPbk+JQPZ3aV9kY+M53vhMtdg7baaedFi3mqgHjOB6KeiR2al8EW5+j/r7cuMrXzKG3aXr835SsMlP5BlKqYztSXa6PgkkXBuuz6TUztQ+HB3eSvH0YoyF1JLa4eklsSXRCXrNc/l15HAe+8jJ8+GLS8nUGYm0bV/zHipnDxclDxyDnh5NL/Ye2J8WhetqR0hhQBpSBbhkYGJGqRXAYb7dVadPHpg7MhhOhDuNt89mJYJJZk4VDg19eSfTC851oaBllQBlQBpQBZUAZCMyArpEaILRqa6SwBmnSpEmBwyGMuTxsmAe822670VprDe3W2GFqOPRW8jiWoJLOz7a+sJV98vPz0xv62tsOpJrZuW+oky83rvLgJzHrvwijbjM3pdqGs9LqQWfiv/9J9PD9VNtqe6ptuZ2z2kU8uzDkGcZGGMkt1xMtW0q17Xai2uTizS58fcBvSB2Jrby6h8bF+Qh9zXLV35XH4fOVl+HDFxPKF303JDarphNj2xTFf4yY0e4cLk4eOlY4P5xcGv+cvdD1Gan2dI3UCGj5a6+9Ntpacth++ctfRou5asA4jkuvh7mRp+XL6m4nDf1hvADiy01R+dpGA2v7Hn2wQW+q89yC+ucAU/uKMDQcZ98MTO9LN57Iypn3Eh8hdSS2mKp4tzHsSPyHvGa5/LvyOA585WX48MWk5esMxNo2rviPFTOHi5OHjkHODyeX+g9tT4pD9XRqX2Vj4LbbzI5dkSYO28033xwp4urB4jguvSbPPl13mZ4htWbp7vMc+nJTWH6j+k6TySOrO1LQSQbWSNUCdKQKMeRUdPWGE2YHvw6SxEdIHYktrloSWxKdkNcsl39XHseBr7wMH76YtHydgVjbxhX/sWLmcHHy0DHI+eHkUv+h7UlxqJ52pCobAxMmDP0UKo48DtvEiRM5FZV7MsBx7Gmm++J2xz67+UH3Fru24MtNUfnaQEeKnnikseFEqmMP4500pXTMqUPLeYc79xXVM68SIXUktvIwQSaxJdEJec1y+XflcRz4ysvw4YtJy9cZiLVtXPEfK2YOFycPHYOcH04u9R/anhSH6pnpyWaNQ6JEEM2fP59WrjQLtzUNCgOYBzxjxgyaO3cuacgNCsUio922S/9vf0nJJd+n2g67Us9HjhZhiF0Ju+L1f/q96RTGni9/k2rrz0w7VP0fewdR0k89X/sh1daZ7KxGtzznGe//y02UfM/shGnO7+r93Cl5RVTWBQOD0WZdwBm2qspznE2r7VJOuyjP5fDs6wXnnk6dWrz2GHb1HClfdiMp/6EPfSgSJO0wOGz7779/e2GViBjgOBYZ60bJbn0eyRlSqIovN0XlsbEDtZwn9eFDDkk7UWQO7aPx63TDYKpbhCHPweqpfQPTK/MKZWQSHyF1JLYy8JveSmxJdEJes1z+XXlNFe/iQxk+uoA3olVjbRtX/MeKmcPFyUMHHueHk0v9h7YnxaF62pGqbAz0d3h2zFBUkMPGyYcCY9V9xsJlYqeVRdSR8uWmk/KN6X0D66T6V7xYDyEzEtXtYbww1AmGtpidYrZmR1r4LCUrX6q/d/yX+AipI7HFVUdiqywdCWYJNs4PJy/DB+db5W4GYm0bFy5Xnru2g5vL4eLkodFwfji51H9oe1IcqqcdqcrGwJ577hktdg7bPvvsEy3mqgHjOC69HgMdqVokh/Gi/r7cdFR+YOe+ZGDnvj222bJO9UT3lL5O26MjDK3GxvURrTmmLrVr1VrLZD5LfITUkdjKwG96K7El0Ql5zXL5d+U1VbyLD2X46ALeiFaNtW1c8R8rZg4XJw8deJwfTi71H9qeFIfqkU7tq2oQ4AyBWBOHbbvt3GftxFqfGHFxHJeJNV3r1pja94oyXTt9+XLTSfnGiNTAhhNbTalP5wuxYx8q0wmG1kpjbj1NHeDdjgy2Fsp8lvgIqSOxlYHf9FZiS6IT8prl8u/Ka6p4Fx/K8NEFvBGtGmvbuOI/VswcLk4eOvA4P5xc6j+0PSkO1dOOVGVj4Fvf+la02DlsJ510UrSYqwaM47jUeixbQvTi8rrLDg6ELQubLzcdlZ9qptGNGUuEKXRzH6NvXX5FvToBduyDoY4w5BE4ML0vWVC8BbrER0gdia28Kkv5kvgPec1y+XflcRz4ysvw4YtJy9cZiLVtXPEfK2YOFycPHYOcH04u9R/anhSH6mlHSmNAGVAGpAzY6WRms4XaGnGcISWtSpFefcOJWWmx9DyplwbWJAU4Q6rItyu/ZrdAn1/ckXLZ0TxlQBlQBpQBZUAZ8Geg93iT/NWGn8ayZctkC76HiIo5c+bQtGnThsi7220eNkxD2nHHHWncuHFuZc3tiIE8jjtSbCmEdunr66MlS8zokm96+D5Kbv8j0bobUs+ub/bVHrTyvtx0XP7Jx4geuo8wnW9OsoKmvbTM1Htvqs3YoLAuRTx3jKHFU/LMU0T33GEOVppIPWYLeleS+AipI7HF1Udiy1cn9DXL5d+Vx3HgKy/Dhy8mlC/6bkhsVk0nxrYpiv8YMaPdOVycPHSscH44uTT+OXuh6zNS7fWaHXnHjjWzUDpIZl/f7tJL5smsnr/UHYcS7T/96U8StVJ0OGw33nhjKf5HghOO4zLrngyMSDVGRcp07vDly03H5TMbTvzpwYfrCAKNSHWMoaXejS3Q5xdvgS7xEVJHYquluo2PElsSnZDXLJd/V16j0l2+KcNHlxBHrHqsbeOK/1gxc7g4eeig4/xwcqn/0PakOFRPMLXv3nvvpfPOO4+OPfZYet/73pf+HXzwwfT+978/lSEPZTQNLgM333zz4DrowjqH7YYbbujCqqpmGeA4zpYZ9Pd2o4mIduxDnX256bR8beM5dUof/zfd8sQz9feB1kh1iqHuNPPfTu179unCg64lPkLqSGxlatr0VmJLohPymuXy78prqngXH8rw0QW8Ea0aa9u44j9WzBwuTh468Dg/nFzqP7Q9KQ7VIxrVCQkvv/wyXXfddXTllVfS/Pnz0+lZM2fOpF133TV9j927li5dSs888wz94Q9/oF//+tc0ZcoUevvb30577bUXjRrVkZtOoGiZAQbWWmutaLngsI0ZM7BVc7TIqwOM47jMGiS2IzU5nh37UH9fbjouP3VGfcOJ5UtprV6zY16vua71TQhCeccYWr3Z87uWLyNaupho3PjWEo3PEh8hdSS2GuBb3khsSXRCXrNc/l15LVUXfyzDhxjcCFeMtW1c8R8rZg4XJw8depwfTi71H9qeFIfqmenJphOUFBFx+OGHEzpTb3jDG2innXaiWbPqi645vYcffpgw7HjTTTelnaizzjqLKxqNHB1EnaI4eM2BecAzZsyguXPnFj45HzwUarmVgW7aZdXxnyR68lHq+dTxVNtq+1bTw/LzqtO+QHT/3+t1M52Y3lPO7aie3fBc5GDV0R8wh/I+Rz3HnU61mZsUFdf8DhkYzDbrEMKIKKY8x9nM2i7ltIvyXA7Pvl5Gjx5NU6dO7UitozVSBxxwAKEzdNBBBxV2ouAVHS2Uhc7+++/fERAt5MfARz/6UT+FEktz2N797neXiGJ4u+I4LqvW6fMXu2tfZFP7fLnxKW/Pkzr8TrNGKtC0PrSZD4a2Nh6Y3pcUnCUl8RFSR2Krra4DAoktiU7Ia5bLvyuP48BXXoYPX0xavs5ArG3jiv9YMXO4OHnoGOT8cHKp/9D2pDhUr8M1Um9605sIvTPfhCl90NUUnoEXX3wxvNFAFjlsy5cPnDkUyM9INsNxXBonmEa2YqA9J3X21KYsbL7ceJUfWCf14qp+s3tfuHp7YWghsjZwlhQVnCUl8RFSR2KrpaqNjxJbEp2Q1yyXf1deo9JdvinDR5cQR6x6rG3jiv9YMXO4OHnooOP8cHKp/9D2pDhUr8OOlBIVHwO77LJLfKAGEHHY9txzz2gxVw0Yx3Fp9bDro8y227GdIeXLjU/52sDOfTtP7iOaODkY3T4Y2pxOHVijVnCWlMRHSB2Jrba6DggktiQ6Ia9ZLv+uPI4DX3kZPnwxafk6A7G2jSv+Y8XM4eLkoWOQ88PJpf5D25PiUL0ON5vIErVw4UK65ppr6O6776ann36a8MQCCxKnT59O2267Le299940YUKYBdhZv/q+mQGsVYs1cdh23333WCFXDhfHcWkVsdP67GYHpTkuduTLjVf5gQ0ndkJHKuDUPi8MrRR0OLVP4iOkjsRWa1XtZ4ktiU7Ia5bLvyvP1rnb1zJ8dItxpOrH2jau+I8VM4eLk4eOOc4PJ5f6D21PikP1PEek7rnnHjrqqKPo8ssvp8cff5wmT56cHn6G18cee4wuu+yyNP++++5TbgeZgdNOO22QPcjNc9i+9KUvyY2qZhMDHMdNhQbxQ2K220aK7QwpYPLlxqc8FgbTplvS6Q88RbX1NoK7IMkHQ6vD1VP73GdJSXyE1JHYaq2r/SyxJdEJec1y+Xfl2Tp3+1qGj24xjlT9WNvGFf+xYuZwcfLQMcf54eRS/6HtSXGonseI1KJFi+gb3/gG4bTfI444gl73utel7y2Jq1atSnfqO//88+n000+nr3/969TXZ57aalIGlIHhx0DEI1KDTXbPB46g2u/vNB2qrQbbVWf2p06vlzPTLRNzHa6Za7QmZUAZUAaUAWVAGRh8BnqPN6kTN1dffTX97W9/oxNOOIG23npr6ulp3vAPnzfccEPaZptt0nOk1l57bdp88807MR1FmWXLllF/f38UWDoBAa6xnXiMKQ8bnuRj6qdO+wzTYnkcSyyjXfDAY8mSJV7q/Tf+mujp/8/edcBLUST96nkEySA5KQiCCmJABDGhmPWM4H3mfKeCKGfG48RDUcyK6QynqGdAzChmEEyIIgqCoiIZJEfJ019V75tld99073Rv777ex/Tv997MVHdV/bt6dnZ7uroKV2UO6AFBJDstAXlsrGsb3fa0J2yntrtCs2bNIvcim511MaQprroD8PdeBaBJ1IFHAKteM606uDDRYZPHRFaAPfNoIkuXx/YzS6VfVZfZd9PrQugwwZbts2Eis9h4XBybbPe/i5hp3GW4ZHTb94pMj4xuev/L5Nnuz/YqjxaNatSoEan76bMhBQvtiercubO4SRXNoFWrVrDffvuJSZeqXVyXmwXIzdLVIsP23Xf4Fj8uViwgs7EV4VGElIbaZo4l4yXourbRbW+iI5tJTTAEMhm91ApC0CsCTpjosMljIivoY+bRRJYJj84zi2/cAP6bLwCfNjkTrrhW6VfVhQozIBZChwGsmAUt4OrYqO5/VzHLcMnotm9AmR4Z3VS/bXmmOGI+jT1S8+bNg/bt20eyGbWj9nHJnwU++eST/AnPUbIMG61qxsWOBWQ2tiNdLUXkkAqi9jkYbELXNrrtyTomPCqr5iyvNAS6KpeUiQ6bPCayZDYzkWXCE/WZxdejR8P9g4CPegn8J+8RLpaZ2FX6VXWZckyvC6HDFNv2zufq2Kjuf1cxy3DJ6LbvPZkeGd1Uv215pjhiPo2JFLm+1a5dO5LNyFWI2sclfxbIdK3MnyZ9yTJsMrq+hpijXG25lnJIleYxq28vl5KtUdW1jW57wmnCo+pfrvKSQT8USXlNdNjkMZEls5mJrHzxcMyp5t/zT4BfpyXgrlkFMKOsx4BKv6pOZgNdeiF06GKK2ycs4OrYqHCp6spzXGW4ZHTbWGV6ZHRT/bblmeKI+TDoFr5d5lEMQRmur7jiCjjooIOyNh8/fjw89NBD8PLLL2dt60qDJUuWwObNm12BU+FwkB8w7elauHAhRLzlKpwNXOyQybjwWb+Af9vVAHV2hJK7n3GxW85hMrGzTif8D14H/srTwLocDN7frtVhjdtKLBBlzPjqFeDfi9FI588GqInBlVruAjD9e2AHHwXeuX0lkmNyqgWi2Dm1fXxeGAvE4xLbuTAWcFNL5cqVoWHDaC+KI++Roq7+9ttvMGHChKx/1C6XQnmq+vTpA2eddRYMGDAAfv3110jiPv/8czj99NPhzjvvjNS+mBtdeeWVzsKXYTvvvPOcxVxswGQ2Lkg/Are+YF9OQZRGV6JrG932hMSER9WDXOUFIdBVrn0mOmzymMiS2cxElgmP6pnFly8F/84BiUkUJqb2rrkdvGN7Cch80pfAt2xJg6/Sr6pLE5LDRSF05ABvu2Z1dWxU97+rmGW4ZHTbN55Mj4xuqt+2PFMcMZ9G+HMyFvnLqnxmbRj0iy++gGeffRYuueQS2HXXXeGdd96B2267De6//35lxLfFixfDc889B7vvvrsNGM7LWLUK3UccLTJsK1ascBRx8cGS2bgQPeGloc9dDDRB/de1jW57Ex3ZxsUEQ5rM0qS8oHDtM9Fhk8dEVlofUy5MZJnwyJ5ZHIN6CHc+eqmwY0Pwrh4MrFEz4E2bA9SuC7B6pViZgj07J1Gr9KvqkgJyPCmEjhwhbrfsro6N7P6ngXIVswyXjG77ppPpkdFN9duWZ4oj5tOYSN18880FsdeoUaOgZ8+ecNhhhwl9NKGaNGkSjBkzBk4++eRQDBS2fNiwYWI1avr06bBu3brQdkQk971UFz5avq5WrRrQkf6KpXTp0sVZvGHYyLYHHnigs5iLZdwDnGE2Dup0jsE9Hxwj8aasSGnxRRKeeyNd2+i2J4S6PIGdgmNmL3XlZfJDkEuK9ufg/jW2Q7UyTUx02OQxkVWmE6UEE1m6PDRWYc8sjmH//btuBFi5HKBRUyi5+lZgpUFXWEkl4J0PBD7mHeDfjAev037JLqj0q+qSAnI8KYQOE4jBZyI4msgodh4Xx0Z2/we2dhEzYZPhktGD/tg6yvTI6MF9Hxyj4pDJi8oft7NoAdoj5UrBCQ7HvVgc3QfTIOEkiQ8dOjSNlnqBe7E4uvMJEu7Nytq2d+/ePPi77rrrUkUVzTlOGJ3FKsMmozvbEYeBlactF/+rH59zXGe+ZvRrTlpI1za67anTJjwqY9mQN++vh4tx2fj7L6GqTHTY5DGRFdoRQ/ub6A/jWXrHjcLOCy7rzbcsW1IG4oap34n6ub0O4f6mjcn6MFlBpaouaJPrsRA6csW4vfK7OjYqXKq68hxHGS4Z3TZWmR4Z3VS/bXmmOGI+zivZmpMtXboUVq5cCU2aNIGaNcMTQmbTtXr1apEUt25ddI1IKXS9YMGCFMq2059++kmEIo66L+qUU06BE044ISkgeAtA+FNXqpINHD3p168fDB8+3El0YdjIzjhphccffzwONmFh1MJsbCKWxoU+s4sWLYo0Lnzmz7B18gShanW1WrAGg4e4VnRto9ue+qvLk83OuvLCbO5TBEVckVoybQp4VcsmEjTRYZPHRFZYP03sb8Ije2Zt+TkRkc8/9XxYvBEDFGV8BnhdHId69YGvWAYLPnwHvH26iW6o+q+qk9lAl14IHbqYqH22z4aJzGLjcXFsZPd/YFsXMRM2GS4ZPeiPraNMj4xuev/L5Nnqx/Yup1KlSpGDTUSeSP3yyy8iye5RRx2VFgZ9+fLl8MADDwBNaKhQSMZjjz0Wzj333LyPw/r164VL39///vc0TCrFFImD/jILzqoj/ZDM5CvPa8LsapFhK0Y7F5uNTfBGGRcRoeyR2wFoEz3+OORtcT+io/eg7P6T2Ua3Pckx5ZHxyegyzJl0CjjBZ/0KfKl8UmyiwyaPiazMfgbXJrJMeQI+SroLi0tfHrRoFX4P4MsJ1vkg4B+9CXzieOB7dw0gh7cvrQ10JBvn4aQQOkxhEzaX8Zn2Kyqfq31XjYvLmMPsXii8Mj0yOmGlOlV9efYnTHdM22aBkkFYtl3Kz1588UWYPHkynHTSSWmN7r77bpg2bRrsscce0LVrV9iwYQNMnDgRGjRoAK1bt05rm+2CJjivv/467LPPPtC8OW7aLS3jxo2DkpIS4a8e0Og4f/58ePPNN4ECVIwcOVL8zZ49W4TYfvXVV0Wo9qirY5T3ivZaFUuhVYQWLVo4CTcMG7112W233aB+/fpOYi42UGE2NukDjQvlfVu7dq2SnSKQ+Q/dlohQ1qQFeP3+BaxyFSVPeVXq2ka3PfVLlyebnXXlhdmWz8bopr9OB9a4ObCUIAdBWxMdNnlMZAXYM48msnR5Qp9Zc34DPv4DEVDCO/GMTFjbrmvUTLTD4B+s54nA8O2mSr+qbpvQ3M4KocMEYbbPhonMYuNxcWxC7/8Uw7qImeDJcMnoKV2ycirTI6Ob3v8yeVY6EQsRc44aNcp6doSZJnL4c1qR2nvvvdNkkLvd1KlTxcSHglGcc845MGTIENh5552Fu11a4wgXtJS2yy67CJlBc5rckI527doFpOSxWbNmQBM5cusL/jp37gwdOnQQ1zSZq6iFJoyuFhm2XMPiu9rf8sAls3G+sPBX0Y2UkoxiEAPv8gHAqlXPl6qc5eraRrc9ATThUXXMiryGjYUKjolh+eZNZdSZ6LDJYyKrTCdKCSayTHgyn1l83qwEAlyNUpZWuwJQJEVawZoyUTRV6VfVKfVoVBZChwacuGmKBVwdm8z7PwWy9WdgquxczmW2lNFz0RXGK9Mjo4fJiEKzLS+KzrhNuAUiT6Ro/xNNXFILRdOjcuSRRybJNBmiSEdz585N0nROaP/Sxx9/DGPHjoV58+bBk08+CRs3boQePXoIMZTo94UXXhDnVapUgZ122intj2aQO+ywg6ARlopaRo8e7WzXZNhotTEudiwgs7Ed6elS/AmfCjclonoXXAWsqZsroQFqXdvotic9JjwBvrCjDXlsd3zRhc9EmDMT/GGDQbihpSgz0WGTx0RWCvy0UxNZJjxlnlmlEymWZSJFb5nZfgcJzP7Ez8RRpV9Vl9bxHC4KoSMHeNs1q6tjU+b+TxklVzHLcMnoKV2ycirTI6ObKrUtzxRHzIe/i6IagVzrMl3fgn1R7du3TxNTp04d48AN3bt3FytbI0aMEMEJZs2aJZLyBgEoKCiEKrdBGpD4IrZAbIGcLMDn/Q782WFCBjuuN7B9D8hJXsycPwswDIHuXTkIoCqGPp/+Pfj33wz8T3kqiPwhqbiS+fxZic61yO62zoAcxtsAAEAASURBVLocnGg75RvgG/6suEaJexZbILZAbIHt2AIMN7dFilhw0003Qb169eCaa64R5tq0aRNceuml0LhxY7j9dtyAnlLeeOMN+OCDD+CRRx5Jobp9umTJEuPJX3n0jCIMhgXNKA8smTrDsNEbWnK1pIlwxFsuU2x8nWKBMBunVEc+pXFp2rSp2FeYOS583Rrwb7saAJOPwh774I903BfllUSWXV4NdW2j2576pcujsrOJPJVtKbKi/8AgAJpE7dwWvKsGAatZWxuzKS6ZbWR0VV9kdSaydHkyn1n0+fCvPBNg/Trw/vUAsJbqyZRoP/BygD/mA7voH7AV80vJntm62GR2UdELoUOlX1aX7bMh46tIdBfHJvP+z7S3i5gJowyXjJ7Zr1yvZXpkdNP7XyYvV/wxf8IC9Kxu2BAjsEYokVekKFofBZF44okngII/3HfffSLxbZA4N1XXlClToGXLlqmk+NyyBWhi62qRYevbt6+rkIsOl8zGtjrCcW+i/+S9iUkUJhv1Lrm6KCZR1H9d2+i2N9GRbVxMMMhksl3ag3c1BgbByRNgAAr/7puAIi6a6LDJYyJL1kcTWSY8ac+s5UvFJAp3IeOO9uzurfQDiXVJuPfxbz5T2t8Em8w2MnohdMh0x3S1BVwdm7T7P6MLrmKW4ZLRM7qV86VMj4xuqtC2PFMcMZ+Ga98hhxwCNJn66KOP4OGHHwbaHxXQUg1J+5qCABSp9PjcrgUWL15sV6BFaTJsCzPyrVhUud2JktnYliH4V2MBpn4LgJH5RHAJ+lFeJEXXNrrtyQwmPCrz2ZbHdtoFvGuHANTZUURa9O8cAIvnz1NBCK0zwSXjkdFDFWchmsgy4Ul7ZpXuj6JJFAtJoREGOeneN3USRk1fENZE0EywSYVJKgqhQ6I6JmexgKtjk3b/Z/TBVcwyXDJ6RrdyvpTpkdFNFdqWZ4oj5gOIHI2B3q5ddNFF0KtXL/Ejgpa8gn1LqYakcOPk6pcZmCK1TXyeuwX22muv3IXkSYIM23777ZcnjdufWJmNbViCb9oI/M3nhSj2lzOAfpQXU9G1jW57soUJj8qGtuWRLtZsJ/CuGwL+PQOFe9meS5bB1kfvANZ6V/xrJ9z+GEZhVBUTXDIeGV2lX1ZnIsuEJ/WZRfsFqWQLNJGKmcYAmu8sJrOdGtRLrQKOyZP5tMlYNws6NW+SVpePC5P+5wNHLLOsBVwdm9T7PxO1q5hluGT0zH7lei3TI6Ob6rMtzxRHzAcQOY9UYCyKiEe5gOgYVohOe6mKLWJeseWRohxSFNTDxRKGjSbiHTt2LLr7wkX7EqYwG5tgpXHJzCPFP3gTYNKXADs2AA/3drCSyO9bTCBY59G1jW57AqzLE2bn1I7rykvlVZ2zGrVEgBA+5Vtovmkd1Fm6UASi4F98Avy914B/+7mI8gcYPIFVL5szwwSXjEdGV+GX1ZnI0uXJfGbxMe8ALJgDrFsPYG33kEErS1+7BuDnKdC8QX2o06w58HHvgz/yGeAjnkp8zjD3V/Ml86D2MtyL2Lp93lIL6Pa/bEfyQ8n22ciPVrekujg2mfd/psVcxEwYZbhk9Mx+5Xot0yOjm97/Mnm54o/5ExagAHvW80hRkADV3+rVq+MgAgW8AwcOxLfMjhYZtn79+jmKuPhgyWyca0/4Gvwcj35FiGEnnQ2sStVcRRacX9c2uu2pQyY8KkPYlpeqi9Eet5sfhEEbawLrdT5A5+5ikgwcE5DPny0Sx/JXn0llSZ6b4JLxyOhJZRonJrJMeFKfWUEOKRYhYl9qVwL3vpvf+iCxX230SJy8/pZoQrL27Q43T5sHfOJ48AdeBv47IzAP2OZUEVbOTfpvRXEsJKsFXB2b1Ps/sxOuYpbhktEz+5XrtUyPjG6qz7Y8Uxwxn4ZrX58+fbLaq2rVqsLl5Ywzzohd+7JaK25g2wJ8C/74wDfvgPchNGwKUL9h0QRIsG0LU3n83RG4oR5DNdMKRbdDTcXEfI5ZQOzpqVkLvKNPTSLjK5cDp9Dczz4EfPIEESo9bFUqybAdn5C7K/xRusepRSstS7DGmH+x/Z4A3/wKULsuMIyACR32Bsr7xeok3P3YWHxutUUXWlyd4m88D/zzj8D7v0uAdeqipStuHFsgtkBsgdgChbVAZNe+YJLUqVMnCPujXFLkIjR58mQYM2YM7L///uK6sN0x11Zsrn3kPtmqVSvzDueRMwwbLV8TXgqXn6/CP30P+H/vBwqUwD9+G1dWXk2c40Zv+H0GhlYpAcq1UxFKmI1N+pXqVsAXLwT+9ANAKxXeRf2BNcIfgEVYdG2j255MosuTaucwk+rKC5ORjZapQ+yPwv1v/Bt071u1AqBRU2A7t0kTk8mTVim5kPHI6BIxSrKJLF2e1GcWnztTuORRJER20plAdTqFYejzei1aQusrbgQPc7HRqlbq/rR6jRpDqzMvwjHAzxyGr4flS4B/PQ44Prdon1Uw4dLRmdlWt/+Z/Pm6zvbZyJdel+S6ODap93+YrVzETDhluGT0sL7lQpPpkdFN73+ZvFywx7zbLKDj2hd588OJJ564TYPijNz/rr/+ehg5ciSoloUVIuKqCBZwOSmxDNuyZcsi9CyHJr/+lGCmCHOUAHPLFrHJnvK4ULI0mmh59z2f9gMmB23lyiqzcS6g6E04bEWb4Rtz8dY8F2HlyKtrG9321DUTHpVJbMsL0xWmg77EWffDgb86HGjfFBx8VBprGE9ag5ALGY+MHiIiK8lElglP8MwK3PoAV6PIZrqFVd0BVnJPykvYxFh06wF87/2Bj3oZ+Edvi8iZPkbPpIkYO+ksYE1b6KpOtjfpf5I5PsmrBVwdm+D+D+u8q5hluGT0sL7lQpPpkdFNddmWZ4oj5tMIfx7VWJR0tWfPniIEelSeuJ2+BSjpsatFhu3FF1/MK+QgqpZ34VXgPfwKeHc8Bd4/BgM7B5Ni1sLAHOT6RytTFaDIbGzaNT5zhtijgb/mwKN9NEVcdG2j255MY8KjMqlteWG6ZDooeAL6wKJb2TSgVcnUIuNJbZN5LuOR0TP5o1ybyDLhST6zSkOf6+6PSu2LSn9qHduhOn4GLwDvloeA7X8Ijg0TQUH8m/uCTyvulCDboKTqMGCPWfJoAVfHJnn/h/TdVcwyXDJ6SNdyIsn0yOimymzLM8UR8+VhIkVGbdSoEaxduza2b2yBgllAbM5eNC+hrzm+NSY3Ptojtfte4B1yjNiPQJX8l2kFw1QsijjnsHXkfwVc1u0wYC1bFwv0GKcFC7C69QHwc0KFfznGgsSKJyJ1RapQvaO9Vd4l14D3L3S33bsrDo6P4/MJBqS4HPz/PZaXgBSF6lusJ7ZAbIHYAhXFAgx/RJHXk9VCbzFon9Tjjz9uVW4+hS1ZsgQ25yFSUr4w00SVcna5WMKwkdsK4aW6PNxywOfMBH/wVQDVa4J3///KuND4Y98Fjj8+6AdjCa5SFXsJs7FJn2hc6s6eAUsHX51Ivnvro8B2bGgiyhkeXdvotqeO6vKQnZs2bQqU4DLs/teVZ2JslQ5/wqfAn7wHA7RghL8hj+OLCFyhMuinikelXyjT+GciS5cneGatWbMGtl51FsC6NeD9874y+8iiwlbpV9UF8mm/lE/ut5R7Cgs7+Wzwjj89qM56jKIjq5A8NMj22ciDSudEujg2wf1P2MrrmWUyUDJbyugmOlQ8Mj0yuun9L5OnwhbXRbdAZUy6Tvlyo5TEt2WUlhHb0B6pjz76CDp06BCRI25mYoE77rjDhK0gPDJsAwYMyJv+1DfG9GDKLMm8L7iRm2/dmllddNcyG+t2hGyx8ulhgo0d8Zein0RRR3Rto9veRIcwsOKfCQaFuNAqlQ62dzcASs67bLFw8QsEqHiCNplHGY+Mnskf5dpElgmPeGZhdEOaRAFNLpu1jAIvtI1Kv6ouEEZJlEv6/xvYXzEoBRb+zWdBVaRjFB2RBMWNrFvA1bFRfWe7ilmGS0a3PZgyPTK6qX7b8kxxxHwa4c9HjRqltNemTZtgwYIF8O23GMYVS+/evZXt48rcLDBvXqkbW25i8sItwzZ79uy86BNC5/0uDlK3NIx8BdUw4ej6dQC03yEjOln+gOVHsszGutoozPJWsgeGxmbH9NJld7K9rm1021OnTXhUxrItL0yXSgfDlAEU0IDuBwo6wdp1FCJUPGE6iCbjkdFlclR0E1kmPPTMCvZeQuPmwCpXUcFS1qn0q+oyhZL7LX/lafEc44sXRI6uqaMjU2d8nV8LuDo2qu9sVzHLcMnotkdWpkdGN9VvW54pjphPYyL13HPPZbVXlSpV4jxSWa1kpwGFm3e1yLB17Jj4cZYP3MkVqeY7h4oXrkptdhNRsDhuqs8M8xzK5DBRZmNdyD7uuaDi4SSqouQQ0rWNbnuylwkP8cmKbXlherLpENH7aCL17efAz/g70OQqG4+OHhNZYfKJZiLLhEc8s+hFAxammT9KMKX8U+lX1aWIEKeMopJSXqrp3+NYfQns2NMym4Re6+gIFRAT82YBV8dG9Z3tKmYZLhnd9qDK9MjopvptyzPFEfPhdwP6vkbaI0V7iFSF/Alr166N3g/WvQVVaq3VFdseqUWLFkGTJm7mRArDRu52dKsFR2sDVypo6z/OAVizCrwB9wBrvWuoeP+dESLZJb159y69PrRNsRDDbKyLnaO7kt8f7Yab2EuGPgVQ5Hujgv7r2ka3PenR5cnmB68rL+irzjGbDu774N/0d4ClfwC7+Grwuh6q3U+VbbLpt9mXMFm6+oNnlf/E3SKnEzvlHPCOM/e0UOlX1YX1xR87Gvd8PgrQalcouQn3tkUoujoiiLTSJNtnw4oSx4W4ODbB/R8cM03oImbCKMMlo2f2K9drmR4Z3fT+l8nLFX/Mn7BAXvZI0aYr1V/dunWLdhJVjDfODTfc4CxsGbZLL700L5j5akwmipMoChMM5MInKWzXPUQN/3V66OZZCZuTZJmNdcBySlSMk6hKO++CEQ4b6bA63VbXNrrtqfMmPCqj2ZYXpiubDlq1JbcxKiKnFB6z8YjGGf9kPDJ6BnukSxNZJjz0zApWu6Vuw5EQq22pi43tg3va6Hk36xfgy9QvOQN4ujoCvviYfwu4Ojaq72xXMctwyei2R1emR0Y31W9bnimOmC9P4c9jw8YWKKgF5s5KqGvUTLgjSXXj21soqQSwCjeP41v37b5M+UaYoNp+B233pogNkLAAOyAxkRJuYyuWxWbBVTpISavgikFYnXoAbXcXcPh3X7gCK8YRWyC2QGyB7c4CJYOwZOt1//79oVq1atCiRYvIq04USnzcuHHw4IMPwjHHHJNNRbnX//nnn+DTl2aRlOrVq0ObNm2cRBuGLVi+btasmXXM/LuvREhgtlsnYIpJAcNJFKfJA/1A3LltUedLCrOxjmG5vxX4c48AbN4Edc/vC+sxbHxFKbq20W1PdtLlofu/Vq1a0vx6uvJMxiqKDlajFnDcewPLMXpf7bpQo9N+2s8ZmZ5UOl+zGqPOjQf/rReAv/SEWF1hbRITgyh9S5UVpT210eWhMWvAfGj+E67c4ueDnXJ2mbQKUXVn06+LTehd/yfAj4ht40bwDjoiKxQjHVml5t4g22cjdw3uS3BxbLJ9Z7uImUZahktGt313yPTI6Kb3v0ye7f5sr/JKSkqgRg0MUBah4Ov57KVHjx7w7LPPwjPPPAOdO3eGTp06QevWrUXi3aq4IZnKhg0bYPHixTBz5kz44YcfRPS+SpUqwYknnphdQdxC2wJbtmzR5ikUgwxb3vJ0lW4GhwibwSkMOscQ6IABJyB4+14ow1jUI7NxZBVkAwrpjD8Qq+yOG9cXR3MPiiy/HBvq2ka3PXXNhEdlEtvywnRF1UGrUhSQhdz7Nnc9LkyUkibTsxlfYPgfvQXixQclxka30qBQFDr/z3XATjor0mRFpiOQF3Y04dkwf25CFCapph88uRSVflWdTCfb9wDgLz8J8Bu6Kq9aAWKVStYY6SY6FOLiKosWcHVsVN/ZrmKW4ZLRLQ6jECXTI6Ob6rctzxRHzBfRte+kk06Chx56CHr16gUUDvPhhx+Ga665Bs4991w488wzxd95550H1157LTz66KMwZ84cOP3002HYsGFAvHGxb4ERI0bYF2pJogwbTcTzUZJ7GKJMpHYtdYehH3JFXGQ2jtol/kPCrY913Bdopa4iFV3b6LYnW5nwqGxsW16Yrqg6xKouhfleOBdeGf5MmCglLVMPBZnxn34ARtwxOPHDf8bUxCSKJicnngmsNKksp2AwI56KtH8xU4cSUGmlCc9zb74luHON2EdCVPpVdaXwyxxE4mzMLYUGw8npl2XqMwkmOjJlxNf5sYCrY6P6znYVswyXjG57RGV6ZHRT/bblmeKI+TTCn5Nr3/HHHy/+aOVpxowZMH/+fKCs71TIbaV58+bQrl07sVIVGze2QCEswLdsFj/4hK4IEykI3IfwRyJfuxpEKOFCAHVMh3BxRExsz/0cQxbDKW8LUBh8tndX4BPHA1+xNGc4tLLFv/gY5eCKDuanYvt0RfndgDVonJTt454f/sJ/gOOKFWzcAHD2ZcC8kmR9eZ34f65F1TsASNIqlBeuQK9Ylfp9BvBJOJHqob96GMiJj7EFYgvEFogtYGaByOHPzcQXD1exhT9fvnw57Ljjjk4aOAwbucVQOElyFYgYcT9S32g1yr+lHybbrQ7eAy9Gcr/ZOvBysYHc6/tPYHvtH0mPa43CbBwVI1++BPzrLxL7UkrufQ6atdsNFi5caHVcomLJRztd2+i2J8y6PMF+A5mddeWZ2E1HB5/yLfgP3gLLK1WFBvc/rw7ikgEmVQ9fie58N/cFQLe9FUedBg16n5fRetul//nHwIcPE6tVbP9DgV1wJTB0Dw8rqTrC6sNoJjzLrjgD6m5Yp0yrEKYrjKbSr6oLkxXQ+OKFiZD1GHHRu+dZ5YshUx2Brnwds3028qXXJbkujk2272wXMdOYynDJ6LbvA5keGd30/pfJs92f7VVeXsKfb6/GdLXf5F7papFhGzp0qHXIgVsfNG8VaRJFAFgQ7QrDoBdrkdk4Sn/oR7Iou7QHVqtOFJaiaqNrG932ZAwTHpURbcsL06WlY4+9ATAk/qNTfgNemrQ5TGYYLdAjXPqex1xHOImifEePTJ8d1jxJ8w7sCd7frsHImiWYt+lT8P8zFDi+eAkrgY6wOhlNm2f1Snj4O9xLyDA3oiKtgkxfJl2lX1WXKSf1mjVqCtCiNWCkJOCTJ6RWlTk31VFGUEywbgFXx0b1ne0qZhkuGd32YMr0yOim+m3LM8UR80XcIxUbyj0L/Pbbb+6BKkUkw/bzz/ijxHbBFSkqWnsYMOAEFdpQX6xFZuMo/anobn26ttFtTzY24VGNjW15Ybp0dDCczLAjT4Lf1m0A/uGbGBdia5jIUFqgh389DuD7r0XKAe/8fiIQUShDCpH2Z3mXD0Cn88oAODHwH70ddW8LShE0DXQE11GOujx83u+i/9C4qdaKnAyLSr+qTiYvoLPO3cWpcO8LiCHHXHSEiItJFi3g6tiovrNdxSzDJaNbHEYhSqZHRjfVb1ueKY6YL55IFe090KpVK2exy7C1bdvWOmb6sSNKlP1RpdpZacAJkcwSw38XY5HZOFtfOPWXwltjqaj7o3Rto9uebGfCQ3yyYltemB5dHezAI6BVHQyLv3gBTogmhokMpZEeSpLNX3pc1LMTTgeGe4yi6meduoDX718AVTDgBaYr4OPeL6MnqqxURm0efEnTqnpVvZc0qQozzlX6VXUZYspcBhMpmDYZOK3+SUouOiQiY7IlC7g6NqrvbFcxy3DJ6JaGMClGpkdGTzJqntiWp6k+bp5igUh5pFLaV9jTYssjtddee4ncXi4OSBg28gM+/PDDYevW6G+2o/SNjxyOm9PXg3dcb2A7NojCIkJ+80/fA8A8LKwDRq2r3zAan0OtwmwcCd50/LFFG//r1gfW63zhDqnKbxRJpmONdG2j2566q8tD97/KzrryTEyuq4PhqlCnkq2ww+xfRNAJ76AjI6klPVVpEjX7VwCMzOdd0B+94zwtm7GGTTDGQ3WAqeiG+suPwLr1AFZtW04P3b6YjBkfOxr2WrMEqmM4eNauQ6S+qxqpMKvqVDKpjtxz+TefAaArIgXFkK3OZ+oQK30UqOKbz0XOMFYDJ83lULJ9NsoBUsFVZo5NwQGEKMz2ne0iZuqGDJeMHtL1nEgyPTK66f0vk5cT+Jg5aQGdPFLo/B2XYrQAJUl2tciwnX/++VYh8zWrAFYtT8jUiKpFDy5IuvcV5z4pmY2zGTgZ9hwTrQo7ZGMownpd2+i2J5OY8KhMaVtemC4THVe/N1645gHuJ+S//RQmtgyt/4XnAf8Wf5yjeyC59AUBI3T1s8OOBWizGyYpXA8+7rVKDVKjK4tA6vLQ/st//DArsQepTC/1CSr9qroomih6HxU+6Qtpc9LBMQqhj9EY/f/eB/4154F/+7Ui5Lw4Bqv7UglxRb4skOv45wuX6jvbVcwyXDK6bdvJ9MjopvptyzPFEfPFrn3xPVDMFsAfOqLg22u2QzWtnmwLOFG8+6S0OoyN6YdoRd8fpWuTuH0WC2CkTdbtUNHI/+CNLI3xHsOUAnzebNGOHXMasJ3aZOWRNaDw5955V+B+KYzcRy5+tOeqQIXjajUsnCe0sZatCqTVXA3bt3uC+cdJwCl8fGkRn/n5s8F/71WcCE8Hv//ZwB+/CwOIjAGgF1EY7RR2xBV5PPfvGpBIVh4wx8fYArEFYgvEFshqAWPXPnKFe+edd+DVV1+FUaNGQevWrUU47rVr18IHH3wAtWvXhpo1y8dVIGuvQxoUm2sfLTu2b98+pCflTwrDRqsf9erVg5122skaQBGl6sfvANp3BK/LwXpy8UcaH/8B/oDAXFJHn1J0qzNhNs5qAMqd9e4rYiM/O+dysVJg6laQVVc5NtC1jW576pouTzY768ozMa+JDsFzUA/gY98VKQNYVwxLXqOWVD1/7mEomfs7tMNnk3fx1ZjsuSTZ1kR/Mqrkz1MAZqCLH0b2Y1V30LY/gdDRz994HgCD0VRp0BDanXlhsg+5nKj0q+oi6axdF/hXYxOToyYtADD/F+XkErm5Ro8U+yJLMAJiu5qYE6tpS2DdMULiyWcDO+PvwA4+Eji6TwKGUqfcYYyieabk+IqkP4dG2T4bOYguGtacxz8PPc32ne0iZjKDDJeMbtt0Mj0yuun9L5Nnuz/bqzyyb40a29zJVXYwcu1btmwZXH/99fDyyy8Dnc+ePRs2bEi8BaPJ04cffgijR49W6Y3rcrQAJUh2tciwVa+Obz9tltIVKdmeAKUq3LsBVapiaGZMuFn65lnZ3rFKmY1VMIPVKJp40o/Rilp0baPbnuxmwqOyt215YbpMdBAPa44vPyhxM61ofogJcyXFp+h++GO+Gn4BCZc+XM1KLSb6iZ8dcyq617UCoNWul54UIk1kReXh+DzgHyf62eD4XtZesqj0q+pEh7P8ox9jSfc+ctsbNhgnv/gdvGxxIgJix85Q/fDjwBvyOJT8+2Hwel8AbLdOiZcp1WuC1//fALvvJZIh+w/+G/gPE7No1KvmGzfiZG0a8DkYTn/pHyIoRqqrpp60itc61/HPl0VU39muYpbhktFt206mR0Y31W9bnimOmM/Qte+5556D9evXw1133QWDBg0qY8cuXbrAlCn4BjEuebPA88/jG1NHiwzbf/7zH6uIgxxSjPKoaBaxbwPfvFIpxjDoMhurzJDcH7VnF1Wzoq/TtY1uezKQCY/KsLblheky0RHweEedLETyLz4Cjqu4qYV+EPtvvSj22hD9f5vQHbB1u9Qm4jyQVaYiC4GCXggXP8znRPmlOEYQNJEVhUf05eUnAKPiAEUPfOaT8VnQRa9W6VfVRdVASYxFzitiwMA77NBjwOs7ELz7X4CSK2+G//3wM4ggHiEC6cWKd8VA3Km/PwBG9vQfGZIIYBHSVpfEF83DpMx9wL/zBvAH9wf/xkvAv/IM8P9+Cmy96izY8s9LYc3bL6ftgdPVUeztbYx/Pmyg+s52FbMMl4xu224yPTK6qX7b8kxxxHyGE6kffvgBjj32WGjRokXo27rGjRuLlarYwLEF8mUBTtH/FsxJiKe31QaFlQacoI30Fb3QJnNyVaLCMNBEXGILaFmg/Z4AtN9p0ybgn6KbX2kRe3Be+S/wt18UFEbuYo2bB9XWjgwT+lJeKyr+84+IiY414amCaCWG3IVxX5b314tTa5w/ZzvtAt7A+8AbNAy8O54C72x0392rS+QcWKxyFfAuvQHY/ocI+/qP3w3+5x/l1G+Oz1b/jusTK2O48gV1dkyskJFU7gOsW4Muo/Nh5WN3gY9uoXzLlpz0xcyxBWILxBYotAUYfhFyXaVnn302nHfeeXDkkUfCmjVr4OKLL4aBAwdCx44dhai33npL7J0aPny4ruhya79kyRLYjD7kxVIWLFgAzZo1cxJuGDZyPaHQ5+R3anDLleknx/0+/r/6ANCb1AdfEuGVyzTKQuDTvgP/vpsBcD9Aye34FrqISpiNVfD9iZ/hJvM7AXD/RMlg/CFaWmhcmjZtCgsX4v4I/UdBIMapo65tdNtTZ3V5stlZV56JwU10pPL4E3A16Ml7ADDctjf0KRGVj1M0PdpriIX93yXg9fyL1Dapskzwk3uYfwsGn1iyCBbt1R2a971BS0w2/ZRjzb+5r5DPjj0NSk473+ozS6VfVafVSUXjqDoo+XLauJ54JrAT/hr60lShDvh3X4H/xN1ihQtwhZJWvII9b3zTxoRb9bp1GEhkIvivPStcRwHdDcVkrpxCsav6k8+6qGOTTwyZsrN9Z7uImfogwyWjZ/Y712uZHhk923eDDI9Mnqx9TNezQGV0TW/YEAPxRChGe6RoJWr6dPlb/IkTJ0KrVq0iqI+bmFrA5WVdGTaVm4CuHThuaBeF8qZgjhqjQq596C4E5LO/YpmRiPJiktlYigd/rFDZHlajdG2j257saMJDfLJiW16YHhMdqTxsv4OSEd74Z+ji9+S9iUkUfoYYhjmnSRSVVJ5UHDJ6ahvVOataFbxzcaKD5flXXgGOCWh1Sjb9HPd40SQN6u4I7LjThWibzyyVflWdTh9VbaPqoGiJ7Jw+uDftNCGOv/UC8KcfwNWi6C8a/THvgv/oHYlJFCVYvvrW5CSKhDLcn8oolx3uv/OO7QUNBuIEvSru+/3ph0RIdkoCvR2VqGNTaJOo7n9XMctwyei2bSrTI6Ob6rctzxRHzGfo2nfcccfB559/Dm+88QZQtDsqvu/DokWLYNiwYTBjxgw4/vjjY/vm0QLTpk3Lo/TcRMuwff/997kJTuVOBprQ3x8ViGGU8LNlK3EpolYFFUVwlNk4Ezq9XfY//1i8HaY6RkEDKniJapvADLrtic+EJ9AXdrQtz5aOVFwUgY8deaIQzV/8j4jwhkvM4P3tGvAOPCKpMpUnScQTGT21TbZzESAB9/5MW425pXC1gy9bko0lWa/Sz5djlLt3Roi2DFeignQKNp9ZKv2qumQHcjzR0UFvyb3TzgOG7oGAL6r4l5+Af/8g4OvQRVhRaFXbf204Rgt8TLjusYOPAu/yAVmD21TregiU3DBU7O2CP+aDPwTzW/08VaGpYlXpjE0he666/13FLMMlo9u2p0yPjG6q37Y8Uxwxn+FE6pBDDoG//vWvImrflVdeKew4ZMgQoPMvvvgCzjjjDNh///1j++bRAq669VGXZdhatmxpzSJBoAkRzSsHqYwiVVGZ9GXiWCT/ZTYO4NMPGj4ZXWsG9QP+zAMiqSlQpMJgX1jQsAIes9kms8u67YnfhCdTb+q1bXmpsoNzEx2ZPOygIzFkYY2EGxbtqelzE4iVqkAJHjN5gioZPaiPemSnXwTNGjYQUfz8R28H4SYWgVmln7+KbujkboYJgCnEe1BsPrNU+lV1AZZcjyY6PApYQUEoKE8fhqD377gOOK3aZRQRlY9cpf8zFPjoV0UtOwldAmllCyfbUQrD55M3AFemKFAJ7p3y7/sX+GPeiTy+UXS42sZkbArRF9X97ypmGS4Z3bYdZXpkdFP9tuWZ4oj58AU1/uDS3iMVGG7p0qXw1VdfiZUoEkNBJrp27SqOQZtiORbbHimKmuhq+MswbPSGs06dOrBq1Sore3G2Xn8hAL5F9q67A9iuexjfZnz2b+Df2h+AfhTe8ywwSlBZBCXMxgFsPmNqYs/Bbz8lSLjJmx2HYZwPO1641ATt6Gjqn50qw7VzlW3CsOq2Jxm6PNnsrCsvrB/ZaCY6wnh8DKvN8QeudybmIKIgFBkljIeayOgZ7JEu/8Skv1XvGYCTqTVAOZHItZBsrCoy/RSWmyLKoQDwbroX2M4YVAOL7WeWTD/pUtVRvY2Siw4+73fwHxws8lOJPXKX34gGwpUqdMXj09HTAJP9QhAoAlewGLpgpq5SqvBnfjZoYixcCb/5LMGGkzhKOMy69QCRugFdDytayWVs8mWLbPe/i5jJFjJcMrpt+8n0yOiZ939UPDJ5UfnjdmoL5H2PVKC+QYMGcMIJJ4hgE5dccgmceOKJRTmJCvpTTMfLLrvMWbgybP/3f/9nBTOnSE84iRIF90jlVDDSFTTBKGO40Vwk+M1JWOGYw2xM+7y2Yg4Y/y78gUmTqCpVcALVG7zbHwfv6FPLTKIKh7awmsJso0Kg255kmfDYxqCSF1ZngjmMx+txLJTc8lDoJIr0hvGo6GFYs9Eu/+fN4F1ybeLH/Bfouvrp6GwsobiE6yu6KVIhN7RgEhUIs/XMInkyu2SrC7DkelTpzyabUkx4A+7CyI34vFyzCvyhGMqcVqcocTElS6ZJVD0MuX7A4eBdMyTyJCpMr9g/dck1wHrjy7L6jcRqOscx9u8dCP71F4FPUSLnzAxjLVpaLmOTz06r7n9XMctwyei27SfTI6Ob6rctzxRHzIeBSE2MMHPmTPjll1/g6KOPDmV///33oT1mtm/VqlVofUyMLZCTBfBttCj4Jcuqo5tRDoXeBrEuh4jwzfzrcQAHHJaDtPJjFblaKALhctwzQntZ6Efh8RhpCzfOxyW2QEW0ANtjb2CnnQt85DMiUS/HH/us7e6Ru8rnzwF/5NMAFLgGnyMUuj0ucgtQcAjv2tsTkfgoTDyFM99tTyD3aLYbukg3bpZ1VVAuPb2GAggxzF3Gj8A9efhSiBI9c1qhWrkc+AdviD9GL4doHxc+w+MSWyC2QGyB8rJACSbUHaSr/NFHHxV5orp37x7K+uabbwLlmjroIIzyVCSFgmZQwIxiKRRKfI89zF3a8tnPMGz0ZUdZ0nfZBd9o5lj4918DTP0WoF0H8CjnSa4Fc5uQqxJF72P4tp2SU7peUm3Mf/9FvK2FVSvwx0xzdHe8HTxyd6J9DVkKjUutWrVg7Vr1JvIsYpyqTrVNFGC67UmmLk82O+vKi9KvzDYmOmzymMjK7ENwnZSFe5pgwVyA+bOBT50kciDJ7vuAh69chsmDcVUD8xYBRYejFw8YVMEjWSnF5jOLxAb6U1QkT1V1yUY5ntjQQcmRKc8UrTyxU84Wz1+R46tmbeMJjeqzQXWsfsNEPiycVLFWbUHkEMT0F8KdcC0mh+6wr7HuHE1qjd3G2FgDUyoo2/3vImaCLsMlo9u2m0yPjK66/1XYZPJUPHFddAtQqp4aNaK9qDdekTr55ESm+zBYu+++O7z++uthVZFo7733Hrz99tuwcuVK2HnnneHCCy+Etm3bhvJOmDBB6KKIgXRjNWnSBP7yl78ABcSoyKVRI3R5cLTIsFG+osxCYXIpmaf4csaEm4xcObKV+bNEC2aYiDdTPCPXvp3x/pr9K/BvP8fJ1HGZTZy7DmwscmE9cjvAxg2iD96VN6eFGXYOeAEABbaJqkq3Pck14VHhsS0vTJeJDps8JrLC+kG0QBb9CAHcH0V55ShBNwU7EKG28Qd/ZmlUtw74b/5PrGaIwBLUYN8DwDvlXBDPgEwGvA57ZoU0i0QKMIc1VtWFtTeh2dIhbN6wiQmEnHgY5nWBvbtBCf75497HXFeP4AuwdxNBQnBPFoVtL9Zia2xs9191/7uKWYZLRrdtM5keGd1Uv215pjhiPsOofbTJjWZrskIP2iAsuqyNjE5R/5599lno1asXDB06VEykbrvtNhGkIIynZs2acOqpp8Ktt94Kd911Fxx22GHwyCOPwOTJejlGwmS7THvqKUyI6WiRYXvgAYwel1H4dxgtD33u+cdvgz/gb+A/hblp5s3KaEVBwjAKHdL9dzF/DK1IYbE1kRKy9j9YyOQT0L2vCArZmJLsig3gNIlC9xrvmvRcLUXQjbxAlN1/MmW67UmOCY9Mfz7khekywWyTx0RWWD8y7UUrUBRiGyhQzK/Twb/xb7B10BWwdcg1sPWef8LWYYNxgnUnPHnD1cBHvZyMzuddfweUXHajdBJFesKeWTJM2eiq/qvqssmNWl8IHVGx5NrOO+RoYBdelQjNTukdKKdZEOwiV+HlwO/q2Kjuf1cxy3DJ6LaHW6ZHRjfVb1ueKY6Yz3CPFL2loPwCxx57bKgNaRJDEfxMyqhRo6Bnz55iQkT8FMRi0qRJMGbMGAhbBevQoUOaGspx9emnn8JPP/0Ee++9d1pdfOGgBcg1gwq6pFH+EOELj/7wgPmOPPSRh82bgaM/Pv2J/T+iMf7DhI6gsR8iYJMd2X4Hi70W8Os0kZuG3ElcLpySCD9xlwhDTeGn2YX9QbyxdRl0jC22QJ4swHB/jnfR1eA/hquz6Lon/lJ0cTqnhLKNmoJ36nliJUqsrKS0iU+LywJet8OAV66ayCc2cTxwDBjk/e26+DlYXMMYo40tUPQWMAp//u6778Lw4cOBJi20chT4Ea5btw5ewYzzo0ePhnPOOUdE9NOx0BZ8o3T22WfDP/7xj7Q8VA899JBY4bruuuuU4mjVYurUqXDnnXfCtddeC506dSrTfjP+MKe/oNCXKYURp1DuqfSg3tXjrFmzoFWrVk7CC8NGdqb7g+6V1Ij7W667QETgK7kJ84dgOF3/vZHoXoerVDxkvxqGKBcbm/fqgj7zXa0HUthyJ4b0xdDhXq8LwDvmVCdtS6D891+Hmc88Cq1qVMWQ5seBd8bfjN1aaFzIHZZcY1PHxdnORwAWdv+p2HTbkyxdnmx21pWn6o+szkSHTR4TWbp94bRPEPMcidxStFJLuaFKj7PWrofWJ2CAghC3vzA9smdWWNsoNFX/VXVRZEdpUwgdUXBktsn22chsn3nt//AN+I8MERNlhvulPAzNXgz7XFP74eLYZLv/XcRMNpXhktFTx8HGuUyPjG56/8vk2ehDLANXmSpVgoYNI75Qxx9P2gWDMvCHH36Yn3766RwT8/JLL71U/NE50YYNG8apjW5ZtmwZ7927N//555/TWJ977jl+4403ptFSL/AHOscJGMdQnfzMM8/kH3/8cWp12vnLL78sdJAe+sPJWVp9sVwMHjzYWagybGH0uad053OO68w3L5ib7M+m+XP4soeG8Lknd+fzzz1OnP85YTzfun59sk0+Tta8O1JgWdj3jHyItyJzy4plwi7XtGvGVz7/mNHnzAoQh4WE3WcquLrtSZYJj20MKnlhdSaYbfKYyArrB9FMZBWKxwSzCTaZHhm9EDpkuvNNXz/5az731IPE83vBZb352jGjub9lc77VWpPv6tiocKnqrBnGQJAMl4xuoELJItMjoyuFKSpty1OoiquyWMAo2ATNoC+//HIR0IGCPSxevFhMYLt06SIS8ma62+V7drvDDjuI/VEbNmyAKVOmiD1W5FoYhuOUU05JWymjvlApthWpcePGwcKFC/NtWiP5YdjIzl9//XXaygfHN8V8I74xxrJ4/UZgQX8Y3panno+bwNEFB8tG5BWtVuDb5jwW3rajiOC1eeYMWPDt18CatcyjNjPRW2mzPL5ln7wJYN1hf4E/cSUpl2L6NiwXnfnmDbv/VDp125MsXZ5sdtaVp+qPrM5Eh00eE1nl2ZewZ5YMTxS6qv+quiiyo7QphI4oODLbZPtsZLYPvW7UAryrbsE8erfAltkzYfld/4Tl/30QPApgdNCRkSKYhsotENHFscl2/7uImYZLhktGtz3EMj0yuun9L5Nnuz/bqzydFSmjiVRg2I4dOwL92Sq1a9cGD/NHULS+1ELXdevWTSWlnRMPuSdRaYXubvPnz4c33ngjdCJF2YrpL7PghLOoXJsoGTJhdrHIsFGUmVQ78zWl+6NKKgGnkOOS/hSsnzVqAeyxD8AUdBX5+lPwTjrLKfOKiecnGKYdS4O27cXRlm1Sx0UILuJ/svtP1iXd9iTHhIf4ZHY2lUcyoxYTHTZ5TGTJ+mYiy4Qn85klwxOFrtKvqosiO0qbQuiIgkPWRvbZkLUvQ8fw9d5t/wE+djTwT0YBLFsM/ktPALyFUWExEivreTyw2vXKsLlAcHVsVPe/q5hluGR02+Mv0yOjB/p17/9s8gK58TH/FjDaI5VPWAMGDBChzinkORXK7USrX8ccc0xosIkwLBS1j1bJdFJkLVmypKj2SFGod1XkxDC7FIoWho3eutBDmcaFHhhU+JzfwB/cH6BOPSi5e3ih4Cn1+JT4ESMHik3ptz7mVH4SH38c8BcfB8DQw/yWh6AS7hnLtdC4UPAYWt0MxiVXmeXNH3b/qTDptidZujzZ7KwrT9UfWZ2JDps8JrLKsy9hzywZnih0Vf9VdVFkR2lTCB1RcGS2yfbZyGwf5ZpW7fmXYxKh7ilXGBUMUOT1uQkokbNrxcWxyXb/u4iZxlWGS0a3fS/I9Mjopve/TJ7t/myv8mjBJeoeKS+Kkfr06QNXXHEFUDAIKnTdt29f5R+1NyknnHAC4B4nGDt2LMybNw+efPJJ2IjuXz169BDiKPDECy+8kBRN+aoo+e8ff/wh2lP+qfHjx8PBByfCWScbVrCTiy66yNkeybCRW2VaCSL2YTJHVwrbuyt+4eIEZTG6TWJeKVcKJaHkH7wh4DCMZnjxJX9zBZpzOGT3nwyobnuSY8Ij058PeWG6TDDb5DGRFdYPU3uZ6C/zzJIBikBX6VfVRRAdqUkhdEQCUoBGjCZNhx4D3uCHwbvshkSeQJxc+Zhzj8/+rQAI9FS4Ojaq+99VzDJcMrreSGVvLdMjo2eXGN7CtrxwLTE1igUiufbtscce4s08udBRCa6jKNBt0717d1i9ejWMGDFCuPiRqx6tUgWufbSXiWbwQaFJFk22MFAF/v6tAs2bNxeTPpITF7ctkHTtc2kihTlpKCIgp3C6mFOKtdrVCSPySV8IVxVAW7HuPQGeGeEErhhEbIHYArEFXLWASNK7b3fw9uyCOfduAfjpB/AfGATeDUOBNWrmKuwYV2yB2AJFZIFIEylagUotmdepdTbOyY2P/sJKprseRuoD+tveytFHH+1sl2XYTjrppHTM69Ykrmvi3iSHCsPkvGIi9Q1Opnqfbxxa3FaXhO/0e68JcezwE4DetspsbEtnMcvRtY1ue7KNCY/Kprblheky0WGTx0RWWD+IZiLLhKfMM0sGKAJdpV9VF0F0pCaF0BEJSDk0ohx7lLTZvwtTXMz9Hfz7cTJ1PU6m0K3cheLq2Kjuf1cxy3DJ6LbHX6ZHRjfVb1ueKY6YD/OC6xqBVoDuvvtu4T6nyxu3t2eBNm3a2BNmWZIMW/v2iQAJSXWlrn2shjuufQJbh84A1WtgUs/lAL9MS8IttxN8iwq4n4xcDmnTNBWZjcsNo0OKdW2j2z4f9jfBoGtyEx02eUxkyfpoIsuEp8wzSwYoAl2lX1UXQXSkJoXQEQlIOTVi1aqDd+UgsceUco3RyhRf/2c5oUlX6+rYqO5/VzHLcMno6SOR+5VMj4xuqtG2PFMcMZ/BRKpq1aoixDhNqOJSfhaggBquFhk2SpScVhzcI0X46O0lQ3cQKnzCp+JYnv/890tXow7EML61EpNOmY3LE6crunVto9ue+mnCo7KPbXlhukx02OQxkRXWD6KZyDLhKfPMkgGKQFfpV9VFEB2pSSF0RAJSjo1oBcq7ahBArTqJlSlM5Ms3by5HRAnVro6N6v53FbMMl4xue/BlemR0U/225ZniiPkMJlJktN122w1mzJgR2y+2QG4WWFvq2lfLLdc+6hTrcpDoG//hm3KNZsfRDQV+/A4BecAwJ0pcYgvEFogtEFvA3AK0N0qsTFWtJvZMUZRW7m81FxhzxhaILbBdW6AE9xwN0rVAu3btgKLlrVq1SoROrl69uq4I59r/+eefItS6c8AkgCjgR/369SW15UsOw0YBQg466CCoVg2/vEqL/+l7mAn5D2BdewBr2Togu3GssyNGyXsdYP06YN0QH+WYKofCRz4NMG+WmNh5h2zbFxdmYxN4NC61cCK7du1aE3YneXRto9ueOq3Lk83OuvJMDG+iwyaPiSxZP01k6fKEPbNkeKLQVfpVdVFkR2lTCB1RcGS2yfbZyGxv45rV3REokBDthYX5s/FFFQPWfk8boo1kuDg22e5/FzGT8WW4ZHSjAVMwyfTI6Kb3v0yeAlpcpWEBSi9UowZu8YhQtPdIkcxrr71WRMmjyRTleDrzzDPhvPPOK/MXQX/cxNACFCLe1SLD9s47iWSySdzBHimHovYF2CigA7RqJy75z1MDckGPfNkS4F+PEzrZ0emh42U2LihAR5Xp2ka3PXXbhEdlLtvywnSZ6LDJYyIrrB9EM5FlwlPmmSUDFIGu0q+qiyA6UpNC6IgExJFGlE+KnXWpQMPHf1iungeujo3q/ncVswyXjG77dpTpkdFN9duWZ4oj5jN07evatSsceOCBcOihh4o/WmkgWuZfbOD8WWDChAn5E56jZBk2yu+VVgLXPgcnUoSTteuYgPvLj2mwC3XBP3qLMlKjL20nYDu3TVMrs3Fao+30Qtc2uu3JrCY8quGwLS9Ml4kOmzwmssL6QTQTWSY8ZZ5ZMkAR6Cr9qroIoiM1KYSOSEAcakTeBpSoF1YuE3umyguaq2Ojuv9dxSzDJaPbHnOZHhndVL9teaY4Yj6ASOHPMw2V7/Dnmfri67IWIHcsV4sMW+3aGdH51q1OdMGx8OeBXVm7DsDfxYATMwo7kaLNz/zbz4CPf19A8Y4+NYCUPMpsnGywHZ/o2ka3PZnWhEc1JLblheky0WGTx0RWWD+IZiLLhKfMM0sGKAJdpV9VF0F0pCaF0BEJiEONWGVMvo4rUzB5AvAfJgLbaZdyQefq2Kjuf1cxy3DJ6LYHXKZHRjfVb1ueKY6YD1+6Y44aHtUQmzZtgm+++QYWL14svsj23XdfqFfPjTwMUfsga7dkyRLY7ED0Hhm+YqeTH3DTpk1h4cKFwoWCY9RHv29v0S3vwZeAQtO6VviG9eBfeYZYFfLueBJY/UZ5hchXrwA+9j3gn44GWL0yoat1O/BuvCstCbVNEJnjYlN2LGubBWI7b7NFsZzFY1aYkSpvO/vjPwD+7EMA+KwtGXB3YTpdBFrKe1yKwERWIMZ2tmJG60IqY/Tmhg0bRpIbeY8UBZa4+uqr4YEHHoAXX3wRHn/8cejXrx/88APmuIlLwS1w8cUXF1xnVIUybKeemrKyEoQ+L8FF0R22BaCIqqMQ7RjhKnWpy9eqFEWL4rN+Af+p+8C//iLgb7+YmETRZuiTzxaheulBm1lkNs5stz1e69pGtz3Z1IRHNRa25YXpMtFhk8dEVlg/iGYiy4Qn7ZklAxORrtKvqosoPmuzQujICsLBBmxPzBtIBZ/D9DKrPIqrY6O6/13FLMMlo9seb5keGd1Uv215pjhiPg3XvldffRVo1eb444+Hjh07wqJFi4BoTzzxBAwbNiy2ZYEtsGXLlgJrjK5Ohi2NnnTrq5231ZboiOUthXvf7xjqn/ZJHXCYvCHWiMVdaouJfDlG+4M/S//ofN3aUhpGxyN6UI+rXmmlzW7ADj9B5LFileSet2m2TBMQX+jaRrc9WdiERzUytuWF6TLRYZPHRFZYP4hmIqtQPCaYTbDJ9MjohdAh0+0yndXF6Lf0wmz2r8CnTAJ2YM+Cw3V1bFS4VHUFN2CKQhkuGT2F1cqpTI+MbqrUtjxTHDGfxkTq+++/h0MOOQTOPffcpN3q1q0rVqgWLFgAzZo1S9Ljk/xboEePHvlXYqhBhu3oo7eF74ZgRcrR/VFB19muHYG//zpEidzHv/gY+DMPBqzRj7gqx/Y7EFjPE4G13jUSn8zGkZgreCNd2+i2J/OZ8KjMbltemC4THTZ5TGSF9YNoJrJMeNKeWTIwEekq/aq6iOKzNiuEjqwgHG3AOu0HnCZSuE8KymEile+x4Rjinc+ZKdJosEqVI4+C6v7PN+bIIDMaynDJ6BnsOV/K9MjopgptyzPFEfNpTKSWLl0KJ52UnhCUEvNSWblyZTyRKvDdtPfeuEHW0SLDtv/++ycR8zWrE+eORuxLAt11d5FjBBYvAI4rTZR/RFY4+tqL0rQlQIPGuO8LcxBUT/nDa1ajJkAqvRpdVwfV6lOYPpmNw9pubzRd2+i2J3ua8KjGwba8MF0mOmzymMgK6wfRTGSZ8KQ+s2RYotJV+lV1UeVna1cIHdkwuFrPOnVBt+qXRPJzvmUzPo+jTzZs9ClfY0OTJ/+dlwEmfSlg8i8/Ae+yGyPvSVbd//nCnKs9Zbhk9Fz1ZfLL9MjomfxRr23Li6o3blfWApH3SNEyYpUqGOEmpdBmLCo+hWiOS0EtcP/99xdUn44yGbbBgwdvE5MMfe5u9EECy6rjRKdFK4GbK8Kgc5xowW8/IYMH3tW3Qkm/f4F3ydXgYZ4S75RzgCLvUUJd1hlXnih/CSaDZI2aAauFro0KFz6hOOSfzMYhTbc7kq5tdNuTQU14VANhW16YLhMdNnlMZIX1g2gmskx40p5ZMjAR6Sr9qrqI4rM2K4SOrCBcbbBTG4A6GDhrI7paFzhKK5nE9tjQ6trWh24Ff/BViUkU7bOlCIXTvwf/rhuBr4q2F0x1/9vGbOvWkOGS0W3pDeTI9MjoAZ/u0bY8Xf1x+20WkG/C2NYmeUbR+mbOnJm8/vPPP8U5RWKrXr1s1LVddimfUKJJgPGJuxYo3SPFXF+RQgtSPik+9/fEF2yXg0Ntyr/6NEHfYy9g9IUcl9gCsQViC8QWKAoLMM8Dtie6932GiXkpDDqFRC9AIS8H/tqzABEnNtkgicBFb2HAoinfJJriiz2G31nshNMBNmGk3AduEfmy/NuvTQQyatIim8i4PrZAbIEsFigZhCVLG1E9cuRI+PHHH0VGecqoTH/jxo0TdZMmTUqjB/W9e/eOItqJNjQpLKaVtTZt2kDjxo2dsF0miDBsFHluv/32S+Z/4d9+LqIksQ77Atu9U6YIt67xC4h/85n4IvIOO64MNgoywZ/D8LkYUIKdeAawFq3LtLFNCLOxiQ4aF8pHsXYtBsGoIEXXNrrtyUy6PNnsrCvPZKhMdNjkMZEl66eJLF2ezGeWDEtUukq/qi6q/GztCqEjG4aw+myfjTCevNDoOT4Rk8bj/l0R8CckWqpNvXzrVvAfQi+N77+GXfyN0Hi/bug6joEvDIr4Dvr4LeCP3Qnwx3zhGUHJhr2/44Tp0GPQ86EOysZIsPt2x4AaOMla+gf2dRywXTsA27FBqMZs97+r95MMl4we2vkciDI9Mrrp/S+TlwP0mDXFAiUlJVCjBm7NiFAiu/ZddtlloPsXQX/cxNACEyfiplhHiwzb55/j5CkogWufw4mFA6iAXzaiLJgDyb1dyUo8oUh9ixcCVKkKbO9uqTV5O5fZOG/R51+XAABAAElEQVQKi0iwrm1025MpTHhUJrQtL0yXiQ6bPCaywvpBNBNZJjxpzywZmIh0lX5VXUTxWZsVQkdWEC432H0v3DWOTjpLFgEswslIngt/838YDXaa0PLN0lXg/+dO4H/qv9ASCdyHDwP+8lMYOtbHwEUHgXfrI+Bd1B9YxooTa9gEvBtwsoU5swC/g/17/wkcJ3Kyorr/Xb2fZLhkdFnfTekyPTK6bT2m8mI+cwtEnkhRhBDdP3NYMWc2CwSrgdnalUe9DNuHH36YhMOTUftqJ2muntDbPKAAElRC9knxr8aIKrbvASByT4mr/P6T2Ti/WotDuq5tdNuTFUx4VNazLS9Ml4kOmzwmssL6QTQTWSY8qc8sGZaodJV+VV1U+dnaFUJHNgwu14tnd/s9BUQRvS+PYPmUb4GPHik0sHP6wPjVG8UqkY9RX0UajYi6OSZu9+8dCPzzjxKrUKdfBOxv14r9tzIR9H1G+3gBXRlh0ybwHx4CPk7COO7x5Rn73VX3v6v3kwyXjC6zkyldpkdGt63HVF7MZ26ByBMpcxUxZz4skBn4Ix86TGXKsFWtWnWbyNKJFKvh/kSKQLP2HQX2zIATHIOwCHcQatO1h2hTiH8yGxdCt+s6dG2j2576b8KjsptteWG6THTY5DGRFdYPopnIMuFJe2bJwESkq/Sr6iKKz9qsEDqygnC8AUXvo5LPiRRfvhT8/94r9DB0FacgRFUpOiythn33FXB00YtS+LzfwR9yDcCvuKqFkV+9fgPBO/KkSHkZWdUdwOtzE+bMOkKsYvGP3gT/juvAv+4C8J97BPjUSUDRC1X3v6v3kwyXjB7F1jptZHpkdB3ZqW1ty0uVHZ/rWYDh2w+ux1IxW1Oy4c2bN1fMzjnQK/IDbtq0KVBgErrltl53IcCKpeANuAei5k4qz274X48D/sTdADvtAiUDt0VM5N9PTPi5164L3p1PA0O/2mIqmeNSTNiLCWts52IarQTWeMwKM2Yu2ZmjW58/4G8AGHzCu/f5RLoKi2agF2/+PTfh5Gc6fpe0EW52LIh+/Mko4C8+DoDfId51dwDbpb1UM8cJl/8UTsY2bgBo1BS8vgOBNdUPHCF+/k2eIPYAi71T6xMBxIRinJxV73YobNzvYOC0lyrCnjG+eRO6uaNr5BL8nicXyeTxD8pYD95p5+E+rQOk/doeK1y6/7dH+8v6TFHJGzZsKKtOo8crUmnmKJ6LPn36OAtWhu3MM8/chrk0ah84npA3AMzale6Twuh9/M91ARmSbn37H1LQSZTMxklg2/GJrm1025NpTXhUQ2JbXpguEx02eUxkhfWDaCayTHjSnlkyMBHpKv2quojiszYrhI6sIBxvQHuIoNlOlNMF+I+TrKMV+6JoEkUrSH+/DoJJFI0NO+x4kR4DKAgF7ZdatyZNP016OIZm9x8bCv4jQxKTKNzX5Q2422gSRcLpRzzbpxum6rgGJ47PgXflIGCHHJMIBY+TqovufRi23jUA/IGXg/8BJqYP8j8ib3A/8ZXLwB/3fiLc+lVngj+oL7oL3gZ8BLoLjnkXAFe3RAAMTBHiP3o7+JivK9OFMK2jOV4EuDLFyOiZ7XK9lumR0U312ZZniiPm00jIGxvLLQusW7ftx7xbyDB4nQRbEBmOb0R/cPTNFgXzKBVDEdGU8M2fCCpBrhSUwBEnVMFGXYqQVMgis3EhMbiqS9c2uu2p3yY8KnvZlhemy0SHTR4TWWH9IJqJLBOe4Jklw6FDV+lX1enoULUthA6V/mKpE8l5MbAQYBh0wBdktgq5C/L3XhXivPP64T4m/D4pLTQ2YsXn3L7A5/wmAl74/71fuN+hqwzwrz8F/sk7AOjOFxQx8aI9UeQSaKGIJMQdMYou/nHMf8hm/QIbL7scoGo1MRHirzwN/PXnROQ/Cmix9rcZsPXWfwBgzqq0QgnnsW8Mk9JDI5yYNsRznKByWvn6+G3gb70AfN4s8C68CsjF0HaR3ecyerHqL1R/bNunIsqz8wmsiJZxvE/duhUmOpyJGWTYDj300IS4INBECd5+9JAukiLySWF0PnorKL5sv/sSgFwZKBAFJXQsYJHZuIAQnFWlaxvd9tRxEx6VwWzLC9NlosMmj4mssH4QzUSWCU/ymSUDokFX6VfVaahQNi2EDiWAIqkUz3ac8Ih9Qrg6ZMNdmy9fgvuiEi7hIrR65+5p1gjGhlWvAd6l14N/+3ViIucPw/DoM38GCKL5Vaki9uKKSVTL/KXZEHm12uwGR5x/MZScejL4E9C1HVedaNLEyc0d/7ptXp2YRJHLHyWY32t//OsC0LxVqBsg260T+C1aAX/+UUwS/AX4+F3q9cV9WvUbpdki14vAlplyZPTMdrley/TI6Kb6bMszxRHzoTcuppEaFBsCn1NFlkeK4ttH9d8s9PiGYQv8gClxM6fJCD2UaV/R0acUGp6xPuHSN/krsTnXO/go8F/5r4i0xI44ETxM2lvIEmZjE/00LhUtj5SubXTbk511ebLZWVeeyVib6LDJYyJL1k8TWbo8qc8sGQ4dukq/qk5Hh6ptIXSo9Mvqsn02ZHx5o2O+JeGShq51bI998Id+w5xUkUuecMVbOBdg57bgUVS9jL20qWPD6uwIQJFiaUWM0mrQyzpc3WHHnw7eRf8AjxLsFiDpe3D/16iNOah2xv1cGBRDTJQAJ044savRui00PPUs8M65HLwjMMgFur+z2vVCJ1GBARm+cGS77ZkI5rF0EbrGj8W9YO2sTqZSbRnopaOMntrGxrlMj4xuev/L5NnoQyyDtirmIY9UbFi3LDB06FC3AKWgkWG76SbcZEulyPZHJUCjP3lp5D7xVm7RPICfp4gq1rV0pS1oWICjzMYFUO28Cl3b6LYnA5jwqAxnW16YLhMdNnlMZIX1g2gmskx4ks8sGRANukq/qk5DhbJpIXQoARRJJU1yyL2Nio3ofTRZEN8VuJokJlGlwSWEgtJ/mWPDaNJywl8BaP8SBpLwbnsMvKNOweAXtVLZ8n6eef8zmgjixKlkyONw1+zl4B10pJg86QBhbfcA75/3Jrw40DuFwrf7GGSD3ORT9x/ryExtm2nLoE5GD+ptHWV6ZHRTvbblmeKI+eI9UvE9UA4WSG5YrVkc+6MCEwkXhB3x7SS5aVB0JXzTCLvukfAFDxrFx9gCsQViC8QWKG4LUBj0CbgviVaFMNKcaaGAEZw8F7CwE/4vbV+USiatUrCTzlI1Keo6ht+jFJmQD8e8WRPH4/4vjFiIf8Aw/hlGxqVVK0Y5vdrsDuTuGJfYAi5bIHbtKx2dYnPta968OdCfiyUMG30xdOzYEerVqwf8J1zJmfot+lXj2y3ctFpUZc5M3PA7S2wGJtzkbkFv6QpdwmxsgsHUrcBEV6F4dG2j2576ocuTzc668kxsaaLDJo+JLFk/TWTp8qQ+s2Q4dOgq/ao6HR2qtoXQodIvq8v22ZDx5ZVetz5wjFIHmPCWdT8cf8zXNFLHX34ykcQd99GK4ApeSagcF8cm2/2fK2YRJGPf7sBa7iKiGML69QlvlVXLASg5ME1kaa/a2HeBwr3Dz1NFkAq+YhlQZEOGLphhRYZLRg+TkQtNpkdGN73/ZfJywR7zbrNA7Nq3zRYV9uznn3EDqqNFhm3q1KkJxKWufazIVqQE+CAMOl1gtCTW+cBEnwr8X2bjAsNwUp2ubXTbU6dNeFTGsi0vTJeJDps8JrLC+kE0E1kmPMlnlgyIBl2lX1WnoULZtBA6lACKqJLVwIkTBlugQkEnTArHMOdiLzAye2dfhtH1KkvFuDo2qvvfBmaaRIjw6+f0gRJyX6RcjBf1TyQKpqh/VNasSkysvhoD/O0XgWP+LP/W/rhH+elEfcZ/GS4ZPYM950uZHhndVKFteaY4Yj78fMdGKE4LfPTRR84Cl2EbNQqX7qkEUfuKcCLFMDFhsqD7h/jCTRIKdyKzceEQuKtJ1za67annJjwqi9mWF6bLRIdNHhNZYf0gmoksE57kM0sGRIOu0q+q01ChbFoIHUoARVbJOpTukzLIJyUS7z7/iOgxO7AnBmJQByNydWxU938+MLN69cHrdhh45/eDktufAO+BF3E/1X2JnFunnAMM92RB6ctMWjGkCLqZRYZLRs/kz/VapkdGN9VnW54pjpgvnkjF90B5WGBtaaLBIknGm2aixs0A0O2Dite1hzjG/2ILxBaILRBboGJZgHXsnOjQ9B+Ab9ms1Tn+ydsA82djqLhawE67QIs3brzNArQ/iiIGUt4q77je4J13BZRce3tiQoXN/OHDgG/auI0hPostUA4WYBiaE3fMx2XJkiWY907vYRlbLboFaAm/adOmsHDhQthyzz8Bpn8vlvDp7VOxFXoLxuf+DuxwzESP/Srmkjou8aMgfyMZ2zl/ts2X5HjM8mXZdLmu2pn7PvjXni/2SXlX34oBEDqlA5dciZxR/+oDsHEDMPzhT5HtirG4Oi5kS47h1/2b+wKsXA4MU6h4vYp3suqynYvxvrWFuTJG14yaYih27bNl9QLL6d+/f4E1Rlcnw3bBBaUPu1LXvqLcI4VmoHwZXs8TynUSJbNx9FGquC11baPbnixnwqOyuG15YbpMdNjkMZEV1g+imcgy4Uk+s2RANOgq/ao6DRXKpoXQoQRQZJUiKW2HfQRqnX1S/ktPiEkUYJhv1r1npF67Ojaq+788MVPwD+/syxNj88GbwH//JWlnGS4ZPclo6USmR0Y3VWtbnimOmC927Svae2DFihXOYpdhW7YMo+1QSbr2FVf48wR4N/7LbOwGuvJFoWsb3fbUOxMelVVsywvTZaLDJo+JrLB+EM1ElglP8pklA6JBV+lX1WmoUDYthA4lgGKs1NwnRbmQgCLMYS4qEWDCi/au2tWxUd3/5Y2Z7bU/sP0PxeUpXDmkMOql7pcyXDK67dtSpkdGN9VvW54pjpgvnkgV7T3QuXOp/7aDPZBhO+CAAxJog2ATBU4u6KCpjCHJbGwssAIx6tpGtz2ZyoRHZWLb8sJ0meiwyWMiK6wfRDORZcKTfGbJgGjQVfpVdRoqlE0LoUMJoAgr2R64IkXu25jygq8sfREo6Qft1RH5BbGeHXkysOY7S1qWJbs6Nqr73wXM7P8uAahVR+xH4+++IgwrwyWjlx2N3CgyPTK6qTbb8kxxxHz43mQQltgQAMWWR4p8Nyknk4slDBv5Abdt2xYq49sj/vZLAjY7+SxlSFgX++YKpjAbm2CjcalVqxasXbvWhN1JHl3b6LanTuvyZLOzrjwTw5vosMljIkvWTxNZujzBM6tKlSoyGFp0lX5VnZYSReNC6FCol1Zl+2xIGQtQwapWBT4Fcx7SJKrZTsB2aiPVyr8aC/DlJwD1GoB36fX43VZJ2jazwsWxyXb/u4CZxgd2bATw7ecYIn06sL27QcM2u4b+NioUXpkeGd30/pfJy7y3ivVarDCi9xKrukO5dCHOI1UuZi+s0n//+9+FVaihTYbt6quv3hb6nL5kqlbTkBo3TbWAzMapbbbXc13b6LYnu5rwqMbDtrwwXSY6bPKYyArrB9FMZJnwiGeWDIQmXaVfVaepRtq8EDqkyou4gnVMhEEHRT4pCtTDP0mk9xBBiDR//Lk6Nqr73xXMbL8DAXACRUl6/WcehH/fckuZu43G5983/wv4nN+Af/sF+O+/Dv7/HoOtDwyCrRgYZOtdN4rVRH/8B8Bn/ZJTJECZXWT0MmAjEmzLi6i2IM1ovPyHbwP/uguAT/qyIDpzURL9lUkuWmLe2AKBBZJufbXLNVhDACc+xhaILRBbILZAbAGZBSifFHlR8OmTgeOPdYb7n8qU334CmDMToHKVZGjuMm1iQl4sQCs63lmXgj9jCsDsXzGi7grwX35SRPTjq5aLI6xagYmVfwR/sCRI10LcalWak0qEsaa9bY2bJ9wzmzQHaNQMGKU+wT8Wb0nIyzimCaXJU+mLC/+/mEesURNgLVqnNXHpInbtKx2NYnPta9SoEbRs2dKleymJJQwbPezatWsHO25YBxwzlEODRuD1OC7JE5/oWSDMxnoSEq1N3QpMdBWKR9c2uu2pH7o82eysK8/EliY6bPKYyJL100SWLk/wzGrQoIEMhhZdpV9Vp6VE0bgQOhTqpVXZPhtSxkJV1K2Hq03voP//OqBJFduxYRnN/NXhYp8OO6AHeBQAQbO4ODbZ7n+XMLMd0LulNm51mDwBGvEt0GLRLIAFcwCWL8FxQ7d1nAA3qloZWjZGN0Dcu8Z2xYiKFKyi++HgHXY8wO57A2vQGKAKugpu+BOjLmJuKnrpSzJogoUBRPhnHwJ/7zXgY0YBBRWhyIGsadnfYDK7yOim979Mnuat51xzsdcQV6Ng/ToAtDGNB0XNZF0PLaibn45rX7wi5dxtFA3Q/PnzozUsh1YybHPmzIFda5fuN6gZR+zLZWhkNs5FZkXh1bWNbnuykwmPyr625YXpMtFhk8dEVlg/iGYiy4SHnlnt27eXwdCiq/Sr6rSUKBoXQodCfdFWMa8EJ1D7AJ84HviP+IOu7e5pfeGYy4jTHh0s7LAT0uqiXrg6Nqr73zXMNCmCFUthwfsfADv0YACcAEOdHYHhH50v/HgslJxxZuiQYDiRZBH5FHFMYd7vwGki9ccC4ItxyQqPYq8cRR3+dTr4+Md6/gVYr/PT9nrL7CKjJxVrntiWp6k+b835h28CLFuc2Gt4w53g33MTANrff/R28P4xOM3WeQOhKdjTbB83d8QC77yDb8gcLTJsI0eOTO6RKtYcUq6YXGZjV/CVJw5d2+i2p76Z8KhsYltemC4THTZ5TGSF9YNoJrJMeMQzSwZCk67Sr6rTVCNtXggdUuXFXhGEQafAExmF474aWvGANrsB21kejCKDLe3S1bFR3f+uYaaVHe+Ev8K7a7Zigt7zwTviJPC6HCzyPjJ0zXsHJ1hRCslh9eoD23M/8I4+Fbxz+0LJNbdByV1Pg/fQCPD+9QCwo04RovjHb4N/543A6Yd/aZHZRUYP+HSPtuXp6s9He75iGQTRF9lp5+HqLwZu6ftPgGrVAX6ZBvyF/4CY6OZDeYpMSsbN5/6eQlGfxitSavvEtZYtwIM9UjVrWZYci4stEFsgtkBsgdgC9i0gVqRILO3BWb0SWO26QglFFuOfvifOGbmIxaVCW0BEkGvZGhj+8XYdwP/v/QC/zwD/31eBd1F/YJ26VOj+57tz/DV0kcU0AoCrvmz/Q4Q6cp/0LrkG/GGDQby0aNEK2OHpK79icjULP5sTxwGsQ1dOGiOKsLkTHnfASViEQpMnWmnkk75IBCSpjy7d+/4vAieuRCMAsbcuUusCNXrvvffg7bffhpUrV8LOO+8MF154oQidHab+o48+gnHjxsHcuXNF9S677AJnnHGGtH2YDKItWbIENm/eLKt2jr5hwwbYYYfyCQuZzRhh2OgtD4VrX/rQ7ehj/A6w408H7+Szs4mK6yUWCLOxpKmSTOPStGlTWLhwYUHe9CjBWKrUtY1ue4Kpy5PNzrryTExlosMmj4ksWT9NZOnyBM8sSnxp42tSpV9VJ7OBLr0QOnQxUftsnw0Tmfng2frvKwHwLTW76B/gdeshVPjk7vf4Xbg/py54Q58ydjtycWyy3f8uYqZBkeGS0cVAGv7jS/8A/z93AmCkPyrs2NNg49G9oFqNGmUkyvSb3v8yeWUUFwmBY8AW/47r6IEA3k334Opu2zTkFGmRj3was9964F11C7Dd9wK+ZBHwCWNx3/2n6HoZst0FZYkAITuhLJyAAe2lK0FHvBJcQ6KgMXgk+1OgEREdkIKTlJbKKL/J3U8Fl8qjc659X3zxBTz77LPQq1cvGDp0qJhI3XbbbbBq1arQjkybNg0OPPBAuPnmm+HWW2+F+vXri+Py5dsMEspY5ESX03/JsPXv3z/p2gfxHqmc7kCZjXMSWkGYdW2j257MZMKjMq9teWG6THTY5DGRFdYPopnIMuERzywZCE26Sr+qTlONtHkhdEiVV4CKZBh03CcVFBGEAi/YIccYT6JIlqtjo7r/XcUswyWjB2NpcqQAFd71dyRXSPjoV2HQqccBTQoyi239tuVl4i3kNa0G+S89IVSy7j3LTKKogh2FSa67HQZAbR8bCltx0uUP+BvwN19ITKIw3x8jV86//B+Gw+8q9ljhGzCARfOBf/0p0GoXf+Ex4M89AhzD5POn7hMvQWgiTC/3gSZR1WoAO+AwdCccCN7Vt0Y2AU7L3CqjRo2Cnj17wmGHocGwXHLJJTBp0iQYM2YMnHzyyWXA9uvXL4126aWXwoQJE2DKlClw6KGHptVVpItFixY52x0ZNrE5skbDBO7YtS+n8ZPZOCehFYRZ1za67clMJjwq89qWF6bLRIdNHhNZYf0gmoksEx6bG7pV+lV1Mhvo0guhQxdTMbVnHToD/VDmP34Hwg1o3ix0BZom3myzQ4/OqSuujo3q/ncVswyXjJ7TwCEzq1QZ2Bn4gx4jAfrDh8Gixb8mVlb27Q7eKecAo/DpWGzrty1PgCynfyKSM63q4YoRQ5uFFVo5gnP7YOAPDPox82dMwIyTVYZrQbhyJCL67dutjBsfueEC5Q6b/RvAwrnAyets65bEnkY6kjsfHim0Pet8YEIWjicVnYTaTk2ktmzZAjNnzkybMHm4jLfnnnvCjBkzwmxbhrYRw1aSnJo1MWxiSCH3vVQXPhqcatVw8PAoBiqEx0VSx44dncUbho1su88+GPnoj+nCnKxWHWfxuzjemZjCbJzZJsp1cM8Hxyg8rrfRtY1ue+q/Lk9g3+CYaUNdeZn8Ua5NdNjkMZEl65eJLF0eGit6ZsnGTIZNRlfpV9XJ5OnSC6FDFxO1D+wbHE1kFISHovWRa9CaVcDmzgR/7GihltEP5nq5hch3cWyy3f8uYqYBkeGS0W3dO2I1pM3u0LHfZXhTbwLAvTb+5K9wtfJo8P5yhhRXcN8Hx6h48t2fqDhybccpvPlrzwox3vF/Ba8uRlmUFIbh6Vmfm8B/+0WgACK0j4qp2tepB4BBQ8SfRKYNslN7pMgdj1aUyEWPcg4F5fnnnwdy4RsyZEhAkh6ffPJJ+P777+Gee+6BKrjUl1lGjBgBqZFoWrduLVwIM9u5fk1hSXfaaScnYcqwEb3SwMtgK/oVN77/WaiCb3DiYmYBmY3NpFUsLl3b6LYna5nwqKxsW16YLhMdNnlMZIX1g2gmsgrFY4LZBJtMj4xeCB0y3RWFvvTWa2H9l2Og5slnwrp3cXUKN8Y3uvNJqNph75y66OrYqHCp6nIyRo7MMlwyeo7qyrCTnib+Jlj1zEOwYeJnop7yXK085DjY48I+4NWqXYbHhFCo/phgy8Yj9pziggd9fla/9BSsee05qNS0BTR5dAQwTGpdbMWpFalcjffGG2/A559/DuQ7GjaJIvmnnHIKnHDCtogfwVuApUuXpq1U5Yol3/wXX3wxDB8+PN9qjOSHYSM79+3bFx72VgiZSzdsAoYBDuJiZoEwG5tIonFp0qSJcDuwsaHeBINtHl3b6LYnvLo82eysK8/EZiY6bPKYyJL100SWLk/wzHr88cetBJtQ6VfVyWygSy+EDl1M1D7bZ8NEZr54/Lb48g8nUmvffAnQv09EB1tWr1HO32Uujk22+99FzDTuMlwyuu17Jann79dDSY/jYOvIZ4BjZL/+Q4bCf8eOAnbgERia/UThTka6Te//pB7bHbAojyZKfNrkRCQ8Smy8YT3AZlyt24R/9PlJKf5p58OipctSKOV7WqlSJWjYsHQrShYoTk2kateujQE5PBGtLxU3Re+rW7duKqnM+VtvvQU0kRo4cKAIUFGmQSmhcuXKQH+ZhX5EFtsPSZfxhmETfuVb8QOEhddA10v3AkZm3hZOX4fZ2BQwybIpzxSHLT7dvui2J5ymPDI+Gd2WTXLBrItB1hcZXVd+oftiC7dKjqrOxD5hPIXQEaY3Co2wuYxP9AET84pS+iMwCHluA7cNGVHsrNtGNS4uYw7rZ6HwJvW06wjejRjVkRI2T71KhPamwAZbx74LgKHSvSNPAtZ+z8QtZXD/J/WEdbacaHw9uupN+QZdG78EPhXzrm3coEaCL3NFqHO0h4v9UYNP1Jbg6s2gKA0L0YYmURRYgvY4kW86FR83gz399NPQtWtX2G233UJhvPnmm/Daa6/9f3tnAi5FcfX9M3NV1ssqmyAo4K5xixtRI0GjRmPUqFGUuCTuxiQaMZLk0bhr4sIbJL6auEcUiUZxI/pFkyguyRs31OCGOyLK5hVUZPqr00MPM0Of6jnn1vStnjn9PDAzp+uc869f1XTfmq6uhl/84hewwQYbxJZJMi5dujTMlVTOl/09e/YEnJbo4xanDX91GdyzFQY8/wSAGennvnN4aW68j3XwXVMcY4lmbJfW1lZoazPPXmiQjcuGWx4xcX2SOHPjSZpKksOljyQWVU9JLK4PthlOn8Yrti42W37bPhe5MUYaOSRak74bkpj18sl17QbBvx8rrj7btTvkj/ox66Z0SpePbZPU/33UjHwpXZSdahOpvToPcsytMxR6Dh8Jw7+5DwRtn5hV5t4PV5oLZv4NgueegrUGDILPetD3BsVpqc4TV8a1LTD3B+Jz0wp3XAfB/7vXvH+g+M8MDANzz2D4D58Fhd8Rs7hDuLCDeagursSHj7vJ7XUg5PYwq++ZZeJz5n6o3H6HhX8L5rcd5d3fgy1mefRuMcvYxzH16ooUCsRpd1dddRXg86BGjhwJ999/P+ACErvttluof9KkSdCnTx8YO3Zs+BmvQuF9T7h6X//+/UtXs/AZS74+ZykU3s7/lixZ0s4I9XOntC2at3KlQbP0OR5cdJMToBjLIzaOJ5cNtzySkvjYCLuOF5dLksOljyRWXD3QJokl8aEeu0Hpstlt+W37bDE5+9LIwdGT1bK5bXaC4L53IPd1s+R5p05OquFr29j6v6+aKV2U3UkDlgWh8nzyySdmmfRvQAs+/2juu2Ygcg8ET/zN3PD5Bnx0zk/CZ2uGA4u8eb5RDRuVpwZXVpFwJtHLz4UPww2efao4OEqKYFYqxEVY8LsC5sG4jf73nnfPkRo1ahSMGzcuHByNHz8e3nzzTZgwYUJpah/ey4QPSIy2hx56KLyCdfnll8Nxxx1X+odT/Rp5u+uuu7ytHqVtyp0rNXdr9VZ7VoRRjLOiv546uWy45VG7xMdWZ9fx4nJJcrj0kcSKqwfaJLEkPn/6058oCWy7Lb9tHzsR4ZBGDiJ1Q5nxl/TwgaBmVoWrzde2sfV/XzVTuii7qzaM4lB5yu05s7BC/oiTzEOcr1v1DKr7pkLhf841V6xq+5G8PB7mDhZ9DCuM/4qJ50CwZNXfyJEu7mvwyRKzOt5t4bOaCleeDQFOT8Qlw82DcnOHnwD5n/565b9zzav5d9p5xX/nToaW835fXPodyzbBj+beXZHCxt5rr73Cf3ENXz0TEa9e6ZYNAsGXZg1/3PRhvEUO+r8SUAJKQAlkikAO77GO7pXKlHIV6xuBnPlbKD/2eOix7Y6wYOK5AOYZZYXzT4P8iWeZh9KOqFkuPgC48PuLiw+VNV6Fi8ZD/sdnm2dYDak5RnlBXCSi8JuzitPzcIeZ0prbYTfI7bwH5IYOLy+q7w0Br5Y/78gWmT9/fqZW7cPLurg4h49bnDb8VWIFzqG9ZXL44LP8CWf6KD0zmuIYS8RjuwwaNAjmmhUUs3qjZ3W9uWy45TEf1yeJMzdedZ1r+SzJ4dJHEouqlyQW1wfbrGvXroD3z7r4btjy2/ZRDLj2NHJwNWH5pO+GJGbWfHxsm6T+76NmbHdKF2V33VeoPJQ96v/vPz0TVkw2j/iZb26BMEuA5w4/EfJfG0PKi+IV/vlXCP50dfFqkbkXK1wVD2PgPXyn/BJygsfMFG671kw9nG5uOOsNuYOODqfo4TOcmmnDRelqXbXPu6l9zdRQ7anrb3/72/a419WX0nbBjSunyTh6jkJdK+F5cIqx57JTkcdlwy2PlZD42CrvOl5cLkkOlz6SWHH1QJsklsTn7LPPpiSw7bb8tn3sRIRDGjmI1GpOIOBr29j6v6+aKV2UPaFp2LupPJQ9SpBbd33I//Ly4sNjzRLhwQ0ToXDD/wBebQoKK6Jipdff/uZSKJgfpoObJhUHUeZ+JFwhMFwlcP0NAZa2QeHyX0Fh5bOsSo4JbwK8HwoHUWbLH3Uq5Hc0V6KabBCVgGi13V5O7VtNpRpWI4APY/N1o7S9+f5c89yNrgB6j1S7m45i3O7ADRCAy4ZbHhFJfGxoXceLyyXJ4dJHEiuuHmiTxJL4vPHGG5QEtt2W37aPnYhwSCMHkVrNCQR8bRtb//dVM6WLsic0DXs3lYeylyfIrbyKFJj7pYLpUyB4/OHwH06tA7NIRW7TrSG32TbhysdvPWKuRH1gVhQ1V87DVZC/dXDxfiTz8N/86RdA4Q+XATz7JATXmAHXgvmQ+6ZZLc+UtW0BDr6unxgWCRdT2XxbW3Hdt5KADqQy2hWky7ynUV1K2wZ9cCqiuVlR75FqdzNQjNsduAECcNlwyyMiiY8Nret4cbkkOVz6SGLF1QNtklgSn0022YSSwLbb8tv2sRMRDmnkIFKrOYGAr21j6/++aqZ0UfaEpmHvpvJQ9uoEOfMYoNy3D4Vg5CZQMMuLg7lCBEs/Nc+immkWfDD/0MFM/RuZM39LdekG+R+eBjnzDKbyDVeTzJ94JgRTcZny6RBMux7go3kAhx4LObOsN7UFU64FWPgRQL+BkDv4GKqY2qsI6D1SK4Fk7R4p1Fvr/M2qNq/7xzht+EvIxxefBT1fmwW5H5ibKc3lYt3kBOIYS6JF87Mb6R4pLhtueeTM9UnizI0naWtJDpc+klhUPSWxuD7YZvhsQ3yWoYt7pGz5bfsoBlx7Gjm4mrB80ndDEjNrPj62TVL/91Eztjuli7K77itUHsqe1P+DFWZa35uvQvDSsxC8+B+AOa/gA1Zhfq9+MOD0c82CEoOtVSg8dDcE5rlP5iAGYKb85Y82zz4btO5qPjhIK1xtFqzI5SF/5sWQG7HxamWayaD3SDVBa59xxhne1pLSdvo9D4eac911+fP2Nh7FuL1xG8Gfy4ZbHhlJfGxsXceLyyXJ4dJHEiuuHmiTxJL4HHvssZQEtt2W37aPnYhwSCMHkVrNCQR8bRtb//dVM6WLsic0DXs3lYeyJyXAK0g4qMmbq1QtP78U8lfcEi4z/vN5yxMHURg7v8d3IH+8WdzLXL3CQVjh3J9AYcadFfddBYsXmvutrgqlhA/LbfJBVFKbVO/XxSaqiejnuhHQ5c/rhlYDKwEloASUgBJQAg1OAO+jypn7pczl8pprmtt2FOTP+R3A5ub+KvMYmmDaDVC49Cxzj5V5MLC5UlXABSvaPjH3sK8fTiusObAWDAm0mOcynaMszBRUs8QtTuHIyta5c2cYOXKkl3IpbWvdPxVGdjXLeuJNkeZgoJucAMWYGxGnFbS2tkJbWxvX1dvyXDbc8lhxrk8SZ248CXxJDpc+klhUPSWxuD7YZv3794chQ2TPYqnWbstv21cdR/o5jRwSbUnfDUnMrPn42DZJ/d9HzdjulC7K7rqvUHkou7T/U/Go+uS6dDXPgvo6QO+1AWa/EC6zHjz2EMB7bwE882S4gEX4oOlefagQTWVvMVcCu3UzV/Fq2Gof0tYQTIsoAZKAecAbfGlujsRNF5soctD/lYASUAJKQAkoASWQAgEctOV3+aa5OmWuQG26VfjMqeDfj4WZc/uPg9zgYSmoaLwUOpDKaJvedttt3iqP1da2BG5/16wGs4ZZKLJTZ2+1Z0VYLOOsiK+zTi4bbnmUL/GxVdt1vLhckhwufSSx4uqBNkksic9115mbtB1ttvy2fY7Si5i5yq1x7ATSaH+7gvi9tv7vq2ZKF2WPr7ncSuWh7NJM7YmX69sPwqtP404KH9wLW24PuT32k0ppej/zV61uSiAFAmYgFW7mahT+KqKbElACSkAJKAEloASUQPoE8O+w3K57QbDzN4vPotK/y8SNoMufr0SHS1MuX75cDDJtR2opzbR1xOWL0xa89AzMu3gC9BuxAbSc/T9xbmpjEIhjzHAvFcWD6aBBg0CXP+9XYlLLGy7/JM7ceLVorC4jyeHSRxKrug7RZ0ksrg+2mS5/HhGv32vSd6N+mf2JzO2baShP6v8+akYulC7K7pollYeyS/s/Fc91fZo1ni5/3gQtf80113hby1htZkWYa+fMg5zeH+Wk3WIZO4mc/SBcNtzySEjiYyPrOl5cLkkOlz6SWHH1QJsklsTn8ssvpySw7bb8tn3sRIRDGjmI1GpOIOBr29j6v6+aKV2UPaFp2LupPJSdnWClg+t4Uh3qZxZQVAjZJPDqq696KzxWm5na91rbZ2ahCX2GlIuGi2XsInADxOCy4ZZHRBIfG1rX8eJySXK49JHEiqsH2iSxJD4vv/wyJYFtt+W37WMnIhzSyEGkVnMCAV/bxtb/fdVM6aLsCU3D3k3loezsBCsdXMeT6lA/HUhltg8MHTrUW+1x2gIzkBratZOu2Oeo1eIYOwqd+TBcNtzyCEjiYwPrOl5cLkkOlz6SWHH1QJsklsRn+PDhlAS23Zbfto+diHBIIweRWs0JBHxtG1v/91UzpYuyJzQNezeVh7KzE6x0cB1PqkP9zC1m5mFcgYIozqvN0j1SS5YsgR49enjZdHHaCrdeDYv/Oh16HjAW8t853EvdWRIVx1iiXzo/W5IrLR8uG255rAfXJ4kzN56EpSSHSx9JLKqeklhcH2yzrl27hs8YdHGatOW37aMYcO1p5OBqwvJJ3w1JzKz5+Ng2Sf3fR83Y7pQuyu66r1B5KLu0/1PxXNenWePpPVJN0PKnnnqqt7WM1WbukfrJc3P0HilHrRbL2FHsrIfhsuGWRz4SHxtX1/HicklyuPSRxIqrB9oksSQ+48aNoySw7bb8tn3sRIRDGjmI1GpOIOBr29j6v6+aKV2UPaFp2LupPJSdnWClg+t4Uh3qp1P7tA+kRaBs+fO0UmoeJaAElIASUAJKQAkoASVQLwIt55itXsGzFHfp0qVQKBQyIxkvB2+88cZe6o3TVnjobsgtWQQb73MA5PoP8lJ3lkTFMZboxzitra3Q1tYmcffSh8uGWx4rzfVJ4syNJwEvyeHSRxKLqqckFtcHy/fs2ROGDRtGyWDZbflt+1hJLIXTyGFJT+5CXY12DCIrS+zwsW1Qk63/+6gZ8VK6KDvRJGIzlcdml/R/Kp5YuDpWEGhpaYFu3bpV2KgPumofRcZzu6/3RyG2WG1mal+PNVt0ap+jfhXL2FHsrIfhsuGWRz4SHxtX1/HicklyuPSRxIqrB9oksSQ++Iekq82W37YvjfyucmgcGYE02l+izNb/fdVM6aLsEi42HyoPZbfFsu1zHc+WS/fZCehAys7H27033nhjZrSFN2qbqX03vTVflz931Go+t7+jKorDcNlwy6MwiY+tQq7jxeWS5HDpI4kVVw+0SWJJfCZPnkxJYNtt+W372IkIhzRyEKnVnEDA17ax9X9fNVO6KHtC07B3U3koOzvBSgfX8aQ61E/vkdI+kAaBz83zo5Z/UcykD+RNg7jmUAJKQAkoASWgBJSAEqgzAV3+fCXg+fPnQ5aWP3/vvfdg8ODBde4esvDV2gr3TYXgL7fA3DW7wJDJt8uCqlcFgWrGFTsZH3Ce9aBBg2Du3LngYolnRuq6FeWy4ZZH4VyfJM7ceBJ4khwufSSxqHpKYnF9sM3wnIDL4Lr4btjy2/ZRDLj2NHJwNWH5pO+GJGbWfHxsm6T+76NmbHdKF2V33VeoPJRd2v+peK7r06zxdPnzJmj5KVOmeFvLcm3Bu29CMP22UOtdPdYNT5reCs+QsHLGGZKdilQuG255rITEx1Z51/HicklyuPSRxIqrB9oksSQ+f/zjHykJbLstv20fOxHhkEYOIrWaEwj42ja2/u+rZkoXZU9oGvZuKg9lZydY6eA6nlSH+unUvsz2gVmzZnmrPdIWfPklFK6/EmDFl5Dbagd4cVHjrAzX0fAjxh2tw8f8XDbc8lhniY+Nlet4cbkkOVz6SGLF1QNtklgSn2eeeYaSwLbb8tv2sRMRDmnkIFKrOYGAr21j6/++aqZ0UfaEpmHvpvJQdnaClQ6u40l1qJ8OpDLbBwYOHOit9khb8MA0gLffAOjWCvlxJ3s7FdFbkBZhEWNLkabdxWXDLY9gJT62BnEdLy6XJIdLH0msuHqgTRJL4uNy+rQtv20fxYBrTyMHV5OWLxLwtW1s/d9XzZQuyu66D1J5KLs0v+t4Uh3qZ6Ynm7nfgYIAyNo9Up999hl07tzZy6ZDbZ0+fB8KF55urkatgNwPT4eWHXeD3r17w8KFC53cb+BlxVMU5ar9pfOzU6wqOxWXDbc8CuL6JHHmxmNDEWiW1NPm47KOklhcH2wzl8csW37bPklbx/mkkSMub5It6buR5N8I+31sm6T+76Nm7AuULsruuv9QeSi7tP9T8VzXp1nj6T1STdDyJ5xwgre1POH441dO6VsBsM1OkNt+11DrIYcc4q3mrAnzuf07miWXDbc81k/iY+PiOl5cLkkOlz6SWHH1QJsklsTH5THLlt+2j2LAtaeRg6tJyxcJ+No2tv7vq2ZKF2V33QepPJRdmt91PKkO9QNYQyEoAdcEgnnvAay10DwzqgfkDz9RF5hwDVjjKQEloASUgBJQAkpACXQ4gZZzzNbhKjwQsHTpUigUCh4oqU0CLsu72Wab1VY4xVLBW6/BF+beqE1bu0D+6B9Dbv0Nw+x4+RqnIo4YMSJFNY2bylX7Y7u0trZCW1vjLATCZcMtj72K65PEmRtP0rMlOVz6SGJR9ZTE4vq4PmbZ8tv2UQy49jRycDVh+aTvhiRm1nx8bJuk/u+jZmx3Shdld91XqDyUXdr/qXiu69Os8VpaWqBbt241VT9fUykt5B0B202gHSU2MIO7wnVXwuBOa0LuqzuH/8q1DB06tPyjvm8HAR/bvx3VcerKZcMtj2IlPrZKuo4Xl0uSw6WPJFZcPdAmiSXxcXnMsuW37aMYcO1p5OBq0vJFAr62ja3/+6qZ0kXZXfdBKg9ll+Z3HU+qQ/101b7M9oFrrrnGO+3B3x8AeP9tuPadBZAbu/o9XJdffrl3mrMqyMf294Ullw23PNZT4mPj4zpeXC5JDpc+klhx9UCbJJbEx+Uxy5bfto9iwLWnkYOrScsXCfjaNrb+76tmShdld90HqTyUXZrfdTypDvXTgZT2AYcEgmeeKEYbsA7kWns4jKyhlIASUAJKQAkoASWgBJSAXwR0+fOV7ZG15c/feOMNGD58uDe9Kfi0DQqnHQHmRjN484RfwYhtt6vQhvOA8T6c7t276/LnFWRkH1y1P7bLoEGDYO7cuQ3TLlw23PLYYlyfJM7ceJJeI8nh0kcSi6qnJBbXx/Uxy5bfto9iwLWnkYOrCcsnfTckMbPm42PbJPV/HzVju1O6KLvrvkLloezS/k/Fc12fZo2ny583Qcvfd999XtUyeOmZcBAFg9aF+2c+Gatt2jTzgF7dnBDwrf2dVMpREC4bbnmUKfGxVc91vLhckhwufSSx4uqBNkksiY/LY5Ytv20fxYBrTyMHV5OWLxLwtW1s/d9XzZQuyu66D1J5KLs0v+t4Uh3qp1P7MtsH/u///s8v7c//O9ST2+KrQGl74omVU//8Up5JNRTjTFbGsWguG255lCvxsVXTdby4XJIcLn0kseLqgTZJLImPy2OWLb9tH8WAa08jB1eTli8S8LVtbP3fV82ULsruug9SeSi7NL/reFId6qcDqcz2gd69e3ujPTDT+YJZxYFd7itfBUpb3759vdGcdSEU46zXy4V+LhtuedQo8bHVzXW8uFySHC59JLHi6oE2SSyJj8tjli2/bR/FgGtPIwdXk5YvEvC1bWz931fNlC7K7roPUnkouzS/63hSHepnpicHZlMQAFm7R8qnNgvemA2Fi84A6NIN8pffDLk1Vn/Os3QesE/1bEQt2i7ptKpyToezyyzaZi5p0rGUM82mI/dou6RDXzmnw5mbRe+R4hLLYPmjjjrKG9XBCyun9W26VTiIorTtt99+3mjOuhCKcdbr5UI/lw23PGqU+Njq5jpeXC5JDpc+klhx9UCbJJbEx+Uxy5bfto9iwLWnkYOrScsXCfjaNrb+76tmShdld90HqTyUXZrfdTypDvXTqX3aBxwQCFbeHwVmWp9uSkAJKAEloASUgBJQAkqgGQisPgerg2v94IMPwvTp02HRokUwbNgwOOaYY2DkyJGxqt555x24/fbbYc6cOeHUvCOPPBL22Wef2LKNZtx99929qFKwaAHA26+HWnKbbxO+Utr23XdfLzQ3ggiKcSPUrb114LLhlkd9Eh9bvVzHi8slyeHSRxIrrh5ok8SS+Lg8Ztny2/ZRDLj2NHJwNWn5IgFf28bW/33VTOmi7K77IJWHskvzu44n1aF+nl2RmjlzJtx0001w0EEHwSWXXBIOpC644AJYvHhxbFt9/vnnMGDAABg7diz06tUrtkyjGjfaaCMvqhYtMgHrbQC5HsUFMChtm2++uReaG0EExbgR6tbeOnDZcMujPomPrV6u48XlkuRw6SOJFVcPtEliSXxcHrNs+W37KAZcexo5uJq0fJGAr21j6/++aqZ0UXbXfZDKQ9ml+V3Hk+pQP88GUvfeey+MGTMGRo8eDUOGDIFjjz0W1lprLXjkkUdi2wqvVI0bNw6+9rWvAd4Y1kzbVVdd5UV1S/dHmWXPo43SdvHFF0dF9LWdBCjG7QzbEO5cNtzyCEniY4PrOl5cLkkOlz6SWHH1QJsklsTH5THLlt+2j2LAtaeRg6tJyxcJ+No2tv7vq2ZKF2V33QepPJRdmt91PKkO9QPwZmrfl19+GT6Rev/99y+1Sz6fhy222AJeeeWVkq29b5YvXw74L9pwxZQuXbqET1fH91naOlpv8KXh+NKzIbL8ltuFDCN+1dqiz9FrVE5f5QRcsIxiRK9yNX55cuvDLY+15fhEZaPXOFq2fXHlJTZJDpc+klhUPSWxOD5R2eiV0sGx22LZ9nFy2MqmkcOWP25fpCl6jSvTDDbf6h/piV7j2sC2L658WjZKF2V3rYvKE2ePbNErR4vEhxNfy9ZIAJc/92H7+OOPg4MPPjiYPXt2hZybb745OOussypscR9OOumkwFzRittVYTP3VIV5MBf+Gz9+fMX+rHx4/vnnO1zqsmeeCt7+1rbBu2O/GRRWrCjpobRR9pKjvqmZgLKkUXHZcMtjZokPrdh9vLhcEs0ufSSx4uqBNkmstHwkmiXaqDyUPY0cVG612wn42jY2XbZ99trWdy+li7K7VkPloezS/K7jSXWoXxB4c0WqxnFfu4sdcMABUH4DZTSi/+ijjyquVLU7UZ0DTJs2DdZee+06Z7GHX/HojLBAYJY9/2DevFLhOG3I+a9//Sv069cPzBevVFbfyAjEMZZEwnYZOHAgfPDBBw3TLlw23PLImeuTxJkbT9LWkhwufSSxqHpKYnF9XB+zbPlt+ygGXHsaObiasHzSd0MSM2s+PrZNUv/3UTO2O6WLsrvuK1Qeyi7t/1Q81/Vp1nhrmOeh4t+rtWz5WgqlUaZHjx6AU/lwtb7yDT+7XEgC76Xq2rVr6R9O68MN/7jP0r8nnnii4/WuXPY8Z5Y9L2dHafv73/9eUa7cR9/z+h/FWMIxi/3fVk8uG255zC3xsXGWxLMxiNsnyeHSRxIrrh5S/pL8Lo9Ztvy2fRQDrj2NHFxNUXnbdyMq08ivvraNrf/7qpnSRdld9ysqD2XH/JL+b4vnuk7NGC9slBr/82YghaO/4cOHw6xZs0rSC4VC+HnDDTcs2fRNkUC3bt06FEXw4fsA894DaGkB2GSrCi2Utu7du1eU0w9yAhRjecTG8eSy4ZZHUhIfG2HX8eJySXK49JHEiqsH2iSxJD4uj1m2/LZ9FAOuPY0cXE1avkjA17ax9X9fNVO6KLvrPkjloezS/K7jSXWon7mqbkaa3syzwuXPcSUSXK0PV+S7//77w19+r7jiivCq1KRJk6BPnz7hcufYeLhAxbvvvhu240UXXQQ777wz7LLLLtC5c+dwuhKngefPn5+pqX2cutWjbOH/TYfgtmvNOsRbQMvPLkhMgZevBw0aBHPnzg2vSiU6aIFUCGi7pII5nL6k/T8d1q6y6HfDFUl7HOVs59NRe7Vd0iGvnNPhzM2Cs9cyN7UPKzlq1KhwOfOpU6eCWQQC3nzzTZgwYUJpah/ex7Rw4cISjwULFoTlsCza8UG++P7qq68ulWnUN8cdd1yHVi0om9ZXLYTSZhb3qC6qn4UEKMbCcA3lxmXDLY+wJD42yK7jxeWS5HDpI4kVVw+0SWJJfFwes2z5bfsoBlx7Gjm4mrR8kYCvbWPr/75qpnRRdtd9kMpD2aX5XceT6lA/j5Y/jxpjr732AvwXt51zzjkV5v79+wMOuppx++KLLzqs2sFnywBeeSHMnyt7flQkiNKGD1DWzQ0BirGb6NmOwmXDLY90JD42qq7jxeWS5HDpI4kVVw+0SWJJfFwes2z5bfsoBlx7Gjm4mrR8kYCvbWPr/75qpnRRdtd9kMpD2aX5XceT6lA/zx7Iqw1SO4Fdd9219sKuS/73OZxXCbD2AICBQ1aLTmnbY489ViurBhkBirEsWmN5cdlwyyMtiY+Nsut4cbkkOVz6SGLF1QNtklgSH5fHLFt+2z6KAdeeRg6uJi1fJOBr29j6v6+aKV2U3XUfpPJQdml+1/GkOtTPLBVgrvKcoyAAli5dCri4RVY2XJxjwAAzkOmALfjrXwDefh1yO+wGebNiX/UWpw3nAffu3RtaW1uri+tnAYE4xoIw4b072CZtbW0Sdy99uGy45bHSXB/s/zbO3HgS8JIcLn0ksah6SmJxfVwfs2z5bfsoBlx7Gjm4mrB80ndDEjNrPj62TVL/91Eztjuli7K77itUHsou7f9UPNf1adZ4LWYhtVoX9PBm1b5mbSxpvS+77DKpq9gP1yUpPHI/BE8+GsbAZc/jNkqbjtnjaMlsFGNZtMby4rLhlkdaEh8bZdfx4nJJcrj0kcSKqwfaJLEkPi6PWbb8tn0UA649jRxcTVq+SMDXtrH1f181U7oou+s+SOWh7NL8ruNJdaifh/dIaaP4SSBYshAKN/wO4IV/FwV+ZbvVlj33U7mqUgJKQAkoASWgBJSAElAC7gno1L6VTLM2tW+99dZjL/Eu7T7Bc09DYeKvAd6ZY4bea0LukB9A3vzL4TOkYrY4bXj5euuttwZ88LJu7ScQx1gSVTqtQJIrLR8uG255rAfXJ4kzN56EpSSHSx9JLKqeklhcH9fHLFt+2z6KAdeeRg6uJiyf9N2QxMyaj49tk9T/fdSM7U7pouyu+wqVh7JL+z8Vz3V9mjWeTu1rgpZ/9tln617L4PPPoHDzZChMOh/gk8UAQ9aD/C8vh/yYb0MuT88KpbQ9/fTTddfcLAkoxs1Sf1s9uWy45TG3xMelZlssap9Es0sfSayOrovLY5at/rZ9FAOuPY0cXE1avkjA17ax9X9fNVO6KLvrPkjloezS/K7jSXWon67al9k+8OijjzrRHsx7Hwoz7oLCXTdD4darofDHK2CFGTit+M0EKPzyBAj+8WCYJ/fN/SE/4TLIDR6WmJfSNmPGjERfLVAbAYpxbd6NXYrLhlse6Ul8bNRdx4vLJcnh0kcSK64eaJPEkvi4PGbZ8tv2UQy49jRycDVp+SIBX9vG1v991Uzpouyu+yCVh7JL87uORvmC+wAALpZJREFUJ9WhfnqPVGb7AK7Y0p4tWL4cggemmX93FJcyp4L16gv5Y34CuU22pEqsZqe0UfbVAqghkYCypBFx2XDLY2aJD63Yfby4XBLNLn0kseLqgTZJrLR8JJol2qg8lD2NHFRutdsJ+No2Nl22ffba1ncvpYuyu1ZD5aHs0vyu40l1qJ+ZnmxWYgsUBMD8+fNhuRlcNMMWzH4BCrdMBvjgvWJ1N9oCcmbaHnTuAtClm/nXNfyXw/cjN4ZcZ/O5nRvOAx40aBDMnTsXtMu1E6ZDd20XhzAtoZSzBY6nu7TN0mkY5ZwOZ24WbRcuMVl55SzjVm+vNddcE/r161dTGvpGl5rctVBHEfjRj37ETh18sgQK10+Ewm9/URxE9ewNuePGQ/708yF/6LGQ3/8IyO95AOR33RPy2+0Cuc23EQ2iKG1HHHEEW7M6xBOgGMeXbi4rlw23PNKU+NhawXW8uFySHC59JLHi6oE2SSyJj8tjli2/bR/FgGtPIwdXk5YvEvC1bWz931fNlC7K7roPUnkouzS/63hSHeqnU/sy2wc++eQTq/agsAJgiVkgYvECgIUfQzDvPQge/DNAm/EzV4dyX98LcgeMg1zX7tY4kp2UtiVLlkjCqU8MAYpxTNGmM3HZcMsjUImPrSFcx4vLJcnh0kcSK64eaJPEkvi4PGbZ8tv2UQy49jRycDVp+SIBX9vG1v991Uzpouyu+yCVh7JL87uOJ9WhfjqQ6vA+EBQKZsCzCGBpm/n3KcCyTyHA15XvzTw4sySIuXBoBj/FV/PefN6+dzco3H0rwGdLjc9SCMLXZcU4ixcWB1AYu3ozi0Xkx50MuREbV+9x9nmHHXaIjbXLLrvE2tXIJ0Ax5kdqPA8uG255JCbxsZF2HS8ulySHSx9JrLh6oE0SS+Lj8phly2/bRzHg2tPIwdWk5YsEfG0bW//3VTOli7K77oNUHsouze86nlSH+ulAqqIPhFdxPjUDGrxq86m5evKpGdCsaRZ1wHuEVt43FL7v1Dl89kWFcw0fwnuDPv4Q4K3XIJjzKgTmFd56PRw81eBeUWT0J8sguPedCttqH3Jm0NWjF0CvPgC9+0IO74Xa7VuQa+dCFavlqTKMGTOmylL8uM8++8Ta1cgnQDHmR2o8Dy4bbnkkJvGxkXYdLy6XJIdLH0msuHqgTRJL4uPymGXLb9tHMeDa08jB1aTliwR8bRtb//dVM6WLsrvug1Qeyi7N7zqeVIf66WITpT7wwfgfwvIXa3w2Ew5QupmFGHqaAQreZ4SvvXqb930BurcCmOcvwac4GMN/bRBE7983A582M0Cr3jBeVxMv/Gem2uGrWegh18Us/pA3D73FaXoFc2UqMFeYVr4ePeUeuP6HY4uDvHCRCBzsrfQJ9RgtZhBFPTS3WoLLz0cddRTccMMNFSHxhsrjjz8e/vd//1cXm6ggI/sQx1gSqRFvdOWy4ZZHzlyfJM7ceJK2luRw6SOJRdVTEovr4/qYZctv20cx4NrTyMHVhOWTvhuSmFnz8bFtkvq/j5qx3SldlN11X6HyUHZp/6fiua5Ps8bjLDbRvjW0G4nwZ2ZaXLThanU4IML7h1Z8GU6dw+lz4TQ6nC6HAxq8aoX/3nsLWMsethjkQ9aD3LCR5hHcIyG33gYAg9ZlXyXKzXwR8oefGCnWVyWgBJSAElACSkAJKAEloARSJNByjtlSzOdtqmXDNoLCXgdC7sDvQ36fgyE/5tvF1et22xvyu+8H+b2/C7l9vwe5Pc3rN/aF3E7fgNzWOwKY5yvlhm8EOTMYgj5rF6fS4UDJ3IOU2/grkPvKdpDbdhTkdtwN8hgfV8cbbabXbWnsw0aYq1nmihbeA8Xc1llnHRg8eDDTK53icdrwV5dNN90U+vQxV+90azeBOMaSoNgura2t0NZmprQ2yMZlwy2PmLg+SZy58SRNJcnh0kcSi6qnJBbXx/Uxy5bfto9iwLWnkYOrCcsnfTckMbPm42PbJPV/HzVju1O6KLvrvkLloezS/k/Fc12fZo3X0tJiJp6Ziyo1bPy/4GsImski/QZALmEqHHb4XKdOxcEPDpY22xryo8aYQdZBkD/sOGg54efQ8rMLoOWUX0L+6B9D/pAfmEHZIZA39yXlt98VcutvCDmzNr2L7fXXX3cRpi4xKG2zZ8+uS75mDEoxbkYW1XXmsuGWx3wSn2qd5Z9dxyuPHb2X5HDpI4kVaa9+lcSS+Lg8Ztny2/ZV1136OY0cUm3N7udr29j6v6+aKV2U3XXfo/JQdml+1/GkOtTP3IGjELJJYMaMGd4Kp7Tdfffd3mrOmjCKcdbqUQ+9XDbc8qhZ4mOrq+t4cbkkOVz6SGLF1QNtklgSH5fHLFt+2z6KAdeeRg6uJi1fJOBr29j6v6+aKV2U3XUfpPJQdml+1/GkOtRPB1LaB5SAElACSkAJKAEloASUgBJQAmwCObMkN2utBHaGjDjMnz8fli9fnhG1Zg2MFSsA53D6uMVpw2mR/fv3hw8//FBX7XPQaHGMJWGxXQYNGgRz585tmHbhsuGWR85cnyTO3HiStpbkcOkjiUXVUxKL6+P6mGXLb9tHMeDa08jB1YTlk74bkphZ8/GxbZL6v4+asd0pXZTddV+h8lB2af+n4rmuT7PG46zap1P7MtpLzjzzTG+VU9pw+XPd3BCgGLuJnu0oXDbc8khH4mOj6jpeXC5JDpc+klhx9UCbJJbEx+Uxy5bfto9iwLWnkYOrScsXCfjaNrb+76tmShdld90HqTyUXZrfdTypDvXTqX2Z7QMfffSRt9opbXg1Sjc3BCjGbqJnOwqXDbc80pH42Ki6jheXS5LDpY8kVlw90CaJJfFxecyy5bftoxhw7Wnk4GrS8kUCvraNrf/7qpnSRdld90EqD2WX5ncdT6pD/XQgldk+sNVWW3mrndK2/fbbe6s5a8IoxlmrRz30ctlwy6NmiY+trq7jxeWS5HDpI4kVVw+0SWJJfFwes2z5bfsoBlx7Gjm4mrR8kYCvbWPr/75qpnRRdtd9kMpD2aX5XceT6lA/AH2O1MpesHTpUijgw3Yzsg0cOBB69erlpdo4bTgPeOONNwacd6pb+wnEMZZExXZptOdIcdlwyyNnrk8SZ248SVtLcrj0kcSi6imJxfVxfcyy5bftoxhw7Wnk4GrC8knfDUnMrPn42DZJ/d9HzdjulC7K7rqvUHkou7T/U/Fc16dZ4+lzpJqg5X1+jjKl7ac//WkTtEw6VaQYp5Pd7yxcNtzyWHuJj42a63hxuSQ5XPpIYsXVA22SWBIfl8csW37bPooB155GDq4mLV8k4Gvb2Pq/r5opXZTddR+k8lB2aX7X8aQ61E+n9mkfUAJKQAkoASWgBJSAElACSkAJsAno1L6VyLI2ta9v374wbNgwdoOn4RCnDS9fjxgxAvr165eGhIbPEcdYUmnptAJJrrR8uGy45bEeXJ8kztx4EpaSHC59JLGoekpicX1cH7Ns+W37KAZcexo5uJqwfNJ3QxIzaz4+tk1S//dRM7Y7pYuyu+4rVB7KLu3/VDzX9WnWeDq1rwla3raaTkdXn9KGzyrSzQ0BirGb6NmOwmXDLY90JD42qq7jxeWS5HDpI4kVVw+0SWJJfFwes2z5bfsoBlx7Gjm4mrR8kYCvbWPr/75qpnRRdtd9kMpD2aX5XceT6lA/ndqX2T4wffp0b7VT2qZOneqt5qwJoxhnrR710Mtlwy2PmiU+trq6jheXS5LDpY8kVlw90CaJJfFxecyy5bftoxhw7Wnk4GrS8kUCvraNrf/7qpnSRdld90EqD2WX5ncdT6pD/XQgpX1ACSgBJaAElIASUAJKQAkoASXAJpALzMb2akCH+fPnw/LlyzNTs2XLlkGXLl281BunDecB9+zZExYvXgza5drfbHGMJVGxXQYNGgQ4haNR2oXLhlseOXN9kjhz40naWpLDpY8kFlVPSSyuj+tjli2/bR/FgGtPIwdXE5ZP+m5IYmbNx8e2Ser/PmrGdqd0UXbXfYXKQ9ml/Z+K57o+zRoPH9VT6z39+WaFlPV6n3feed5WgdJ2xhlneKs5a8IoxlmrRz30ctlwy6NmiY+trq7jxeWS5HDpI4kVVw+0SWJJfFwes2z5bfsoBlx7Gjm4mrR8kYCvbWPr/75qpnRRdtd9kMpD2aX5XceT6lA/ndqX2T7w/vvve6ud0vbOO+94qzlrwijGWatHPfRy2XDLo2aJj62uruPF5ZLkcOkjiRVXD7RJYkl8XB6zbPlt+ygGXHsaObiatHyRgK9tY+v/vmqmdFF2132QykPZpfldx5PqUD8dSGW2D2y66abeaqe0bbnllt5qzpowinHW6lEPvVw23PKoWeJjq6vreHG5JDlc+khixdUDbZJYEh+Xxyxbfts+igHXnkYOriYtXyTga9vY+r+vmildlN11H6TyUHZpftfxpDrUz0xP1nukit0ga/dI4a8R66yzjpd9OE4bzgNesWIF4Nr8jXIvTkfCj2Ms0SOdny3JlZYPlw23PNaD65PEmRtPwlKSw6WPJBZVT0ksro/rY5Ytv20fxYBrTyMHVxOWT/puSGJmzcfHtknq/z5qxnandFF2132FykPZpf2fiue6Ps0aT++RaoKWnzBhgre1pLSddNJJ3mrOmjCKcdbqUQ+9XDbc8qhZ4mOrq+t4cbkkOVz6SGLF1QNtklgSH5fHLFt+2z6KAdeeRg6uJi1fJOBr29j6v6+aKV2U3XUfpPJQdml+1/GkOtRPp/ZpH1ACSkAJKAEloASUgBJQAkpACbAJtJxjNrZXAzosXboUCoVCZmrWvXt3GD58uJd647Th5evBgweHS217KTpjouIYS6qA7dLa2gptbW0Sdy99uGy45bHSXJ8kztx4EvCSHC59JLGoekpicX1cH7Ns+W37KAZcexo5uJqwfNJ3QxIzaz4+tk1S//dRM7Y7pYuyu+4rVB7KLu3/VDzX9WnWeHgbSrdu3Wqqvi5/XhMm/wrhMwR83ShtOFjVzQ0BirGb6NmOwmXDLY90JD42qq7jxeWS5HDpI4kVVw+0SWJJfFwes2z5bfsoBlx7Gjm4mrR8kYCvbWPr/75qpnRRdtd9kMpD2aX5XceT6lA/ndqX2T7w5z//2VvtlLabb77ZW81ZE0Yxzlo96qGXy4ZbHjVLfGx1dR0vLpckh0sfSay4eqBNEkvi4/KYZctv20cx4NrTyMHVpOWLBHxtG1v/91UzpYuyu+6DVB7KLs3vOp5Uh/oBrOEjhAcffBCmT58OixYtgmHDhsExxxwDI0eOJKU+8cQTcPvttwOuvDdw4EA4/PDDYZtttiHL6w4loASUgBJQAkpACSgBJaAElEB7CHi3/PnMmTNh0qRJcOyxx8IGG2wA9913Hzz55JNw5ZVXQs+ePVer6+zZs+Hss8+GsWPHhoOnxx57DO6++2645JJLYOjQoauVpwxZW/584cKF0Lt3b6o6HWqP04bzgDt16gSff/65Ln/uoHXiGEvCYrsMGjQI5s6d2zDtwmXDLY+cuT5JnLnxJG0tyeHSRxKLqqckFtfH9THLlt+2j2LAtaeRg6sJyyd9NyQxs+bjY9sk9X8fNWO7U7oou+u+QuWh7NL+T8VzXZ9mjZfp5c/vvfdeGDNmDIwePRqGDBkSDqjWWmsteOSRR2Lb8/7774etttoK9ttvv7D8oYceGi7CgFe1GnmbOHGit9WjtJ1//vneas6aMIpx1upRD71cNtzyqFniY6ur63hxuSQ5XPpIYsXVA22SWBIfl8csW37bPooB155GDq4mLV8k4Gvb2Pq/r5opXZTddR+k8lB2aX7X8aQ61M+zqX1ffvklvPHGG7D//vuX2iafz8MWW2wBr7zySslW/gbt++67b7kJ8Gnc//rXvyps0Yfly5cD/os2/DWgS5cu4a9i+D4r25tvvhlq9lFvnDZk+9prr3mr2UeONk1xjG3lqX1Rn49eqXJZsnPZcMsjC65PxDd6rebJjVftX8tnSQ6XPpJYVL0ksbg+2FYuj1m2/LZ9FAOuPY0cXE1YPvpORK+SGFn38bFtkvq/j5qxH1C6KLvrvkPloexRv49ea9VDxavVX8u5I+DVPVJLliwJlyDv1atXRQ3xMz7FOW7D+6iqp/zhZ7THbXfddRdMmzattGv99dcPpwGuvfbaJVsW3uBgEadk+bhR2jbaaKPwHjYfNWdNE8VYWg+8t7BRNi4bbnnkJPFBP4qzNB7GrHWT5HDpI4lF1U0SS+Lj8phly2/bRzHg2tPIwdVUXp76bpSXadT3vraNrf/7qpnSRdld9ykqD2WP8nP7f1K8KK6+1p+AV/dILViwAE444QTAy8kbbrhhqfa33HILvPTSS3DhhReWbNGbww47DE4++WTYeeedIxPMmDEjHCxde+21JVv0hroi9dFHH1VcqYrK+/r68ccfQ9++fb2UF6cNf21ZY401AK86BkHgpe4siYpjLNGP7YIH8A8++KBh2oXLhlseOXN9kjhz40naWpLDpY8kFlVPSSyuj+tjli2/bR/FgGtPIwdXE5ZP+m5IYmbNx8e2Ser/PmrGdqd0UXbXfYXKQ9ml/Z+K57o+zRoP/17t169fTdX36jlSPXr0AJzKV301CT9XX6WKaof2xYsXRx/DV/xMlccbyLp27Vr6h9P6cMM/7rP077TTTvNWL6UNV1/MEmOftVKMJZqz2P9t9eSy4ZbH3BIfG2dJPBuDuH2SHC59JLHi6iHlL8nv8phly2/bRzHg2tPIwdUUlbd9N6Iyjfzqa9vY+r+vmildlN11v6LyUHbML+n/tniu69SM8cJGqfE/rwZSOAIcPnw4zJo1qyS/UCiEn8uvUJV2mjdof+GFF8pN8Pzzz4cr/lUY9YMSUAJKQAkoASWgBJSAElACSsARgZZzzOYolpMweIUInwmF09ZwYIXv8aY6nPLXuXPncGl0vAEYF6DArU+fPmEZXFq7e/fugKv14RLqJ5544mr3TtkE4hO8cdCWlQ1XMsTl4X3c4rTh5Wu8D23dddf1UXLmNMUxllQC26W1tRXa2tok7l76cNlwy2OluT5JnLnxJOAlOVz6SGJR9ZTE4vq4PmbZ8tv2UQy49jRycDVh+aTvhiRm1nx8bJuk/u+jZmx3Shdld91XqDyUXdr/qXiu69Os8VpaWqBbt241Vd+rxSZQ8ahRowAXnZg6dWo4xW+99daDCRMmlKbq4b1M2PGiDW+GPPXUU+G2226DKVOmhAswnHHGGaxnSEWxsvSKg0xfN0obTqvUzQ0BirGb6NmOwmXDLY90JD42qq7jxeWS5HDpI4kVVw+0SWJJfFwes2z5bfsoBlx7Gjm4mrR8kYCvbWPr/75qpnRRdtd9kMpD2aX5XceT6lA/AK+m9kUNstdee8HkyZPh1ltvDReYKL/yghfQcHGJ8m2nnXYKnyuC5S+77LLwwbzl+xvxPdbV143SFrf4h6918F0Xxdh33Wno47Lhlsc6SHxsdXcdLy6XJIdLH0msuHqgTRJL4uPymGXLb9tHMeDa08jB1aTliwR8bRtb//dVM6WLsrvug1Qeyi7N7zqeVIf6eTqQ0oZRAkpACSgBJaAElIASUAJKQAn4TMCr5c87EtT8+fMztfw5LlfNfe5AWnzjtOF0TFz5JXpNS0uj5oljLKkrtgc+j2zu3Llh+0hi+ObDZcMtj/Xl+iRx5saTMJfkcOkjiUXVUxKL6xMdq6JXSkutdlt+275a4yeVSyNHkoa4/UnfjTifRrP52DZRv49eq5n7qBk1Urooe3W92vuZykPZpf2fitde/epfJIDTWjO5/Lk2YO0Err/++toLp1yS0jZp0qSUlTRuOopx49a49ppx2XDLoxKJj60GruPF5ZLkcOkjiRVXD7RJYkl8XB6zbPlt+ygGXHsaObiatHyRgK9tY+v/vmqmdFF2132QykPZpfldx5PqUD+d2pfZPjB79mxvtVPaype191Z8RoRRjDMiv64yuWy45VG8xMdWadfx4nJJcrj0kcSKqwfaJLEkPi6PWbb8tn0UA649jRxcTVq+SMDXtrH1f181U7oou+s+SOWh7NL8ruNJdaifDqQy2weGDBnirXZK27Bhw7zVnDVhFOOs1aMeerlsuOVRs8THVlfX8eJySXK49JHEiqsH2iSxJD4uj1m2/LZ9FAOuPY0cXE1avkjA17ax9X9fNVO6KLvrPkjloezS/K7jSXWon3mEg7lvpfhY5SankbV7pPC5P/jcLB+3OG04Dxj14j7tcu1vtTjGkqjS+dmSXGn5cNlwy2M9uD5JnLnxJCwlOVz6SGJR9ZTE4vq4PmbZ8tv2UQy49jRycDVh+aTvhiRm1nx8bJuk/u+jZmx3Shdld91XqDyUXdr/qXiu69Os8fQeqSZo+VNOOcXbWlLaDj/8cG81Z00YxThr9aiHXi4bbnnULPGx1dV1vLhckhwufSSx4uqBNkksiY/LY5Ytv20fxYBrTyMHV5OWLxLwtW1s/d9XzZQuyu66D1J5KLs0v+t4Uh3qZ55rqBCKBLL2cLORI0eC7WF5HdmulLbhw4eLHqTZkXXxNTfFWKo3a/3fVk8uG255zC3xQT+KszQexqx1k+Rw6SOJRdVNEkvi4/KYZctv20cx4NrTyMHVVF6e+m6Ul2nU9762ja3/+6qZ0kXZXfcpKg9lj/Jz+39SvCiuvsoIcNqj6af2LV++3NsBiaz51UsJKAEloASUgBJQAkpACSiBehPI1zuB7/FxIDVx4kRYtmyZ71IzrQ/5nnnmmcrZs1bUdkmnQZRzOpxdZtE2c0mTjqWcaTYduUfbJR36yjkdzvXM0vQDKYT7+OOP6wII9exlJjYuMDFnzhzlXGfO3PDaLlxisvLKWcatI720zdKhr5zT4czNou3CJSYrr5xl3Hzy0oGUT62hWpSAElACSkAJKAEloASUgBLIBAEdSGWimVSkElACSkAJKAEloASUgBJQAj4RaDnHbD4J6ggt+XweNttsM2hpaemI9E2TUzn72dTaLum0i3JOh7PLLNpmLmnSsZQzzaYj92i7pENfOafDuV5Zmn7VvnqB1bhKQAkoASWgBJSAElACSkAJNC4BndrXuG2rNVMCSkAJKAEloASUgBJQAkqgTgR0IFUnsBpWCSgBJaAElIASUAJKQAkogcYloAOpxm1brZkSUAJKQAkoASWgBJSAElACdSKgA6k6gdWwSkAJKAEloASUgBJQAkpACTQugTXSqtpdd90FTz/9NLz33nuw1lprwYYbbghHHHEErLPOOiUJX3zxBdx0000wc+ZMWL58OWy55Zbwwx/+EHr16hWWefPNN+Evf/kLzJ49G5YsWQL9+/eHPfbYA771rW+VYixcuDCM8cYbb8AHH3wAe++9Nxx11FGl/bY3Dz74IEyfPh0WLVoEw4YNg2OOOQZGjhy5mgs+QO2iiy6CZ599Fn72s5/B9ttvv1qZcsNbb70Ff/zjH+H111+HHj16wF577QXf+c53SkXeeecduP3228MH1s6fPx+OPPJI2GeffUr7OW+alTP2nWuvvRaw3bGPbbPNNjB+/PgKdC+++CL8+te/rrDhh2uuuabUx1bb6cjQCO2CC3y+9NJLFUR23313OO644yps1R+0/1cSSTrOSDj73v8rCVR+aoTvBtbolVdegSlTpsBrr70GuArXeuutB7/4xS/C811ljVd9+uijj8LjFh6bOnfuDF//+tdh7NixpRVk23M+W5Wl+K6ZOV933XXh3w14rh08eDD85je/qcDz4YcfwimnnFJhww/nn39++LfKajscGrLeLhQ7RPTTn/4UdtppJ5KWnhsq0djODVLOWT43VNLx91NqAyn8A2zPPfeEESNGwIoVK8ITDh6kLr/88vAEgohuvPFG+M9//gOnnXYadO3aNRx8XHbZZXDeeeeFBPGP5J49e8KPfvQj6Nu3b3hgxD+C8aSFgxPccACGg5UDDzwQ7rvvvtBWy384eMNB3LHHHgsbbLBB6HvBBRfAlVdeGeYsj4Fxc7lcuYl8v3Tp0vBgvMUWW4Sx3377bfj9738P3bp1A/wjFLfPP/8cBgwYEB5wkEF7tmblXCgUwj9YcOD81FNPWRFim2L/ijbsL/XeGqVdxowZA9/73vdKuPBHEdum/b+STq3HGS5n3/t/JYXKT43w3cBBFJ4vDjjggPAHOHyUBv7wZztPYJvhD3L4QyGeC3HQNGnSpHAQhYMp3KTns0rCxU/NyjliMXr06HCQi3+8U9uvfvUrWHfddUu7u3fvXnpfrzdZb5e11147/DGynM/DDz8M99xzD2y99dbl5or3em6owBFeQLD9DSrlnOVzQyUhjz+Zqysdsi1evDg4+OCDA/NLXJj/008/DQ499NDgiSeeKOl59913wzLmClTJVv3GXIUIzC+41ebw89lnnx1cf/31sfuqjWeddVbwhz/8oWQ2g73A/NIemF+LSjZ8M2fOnOD4448PzEkv1Gb+aK/YX/1hxowZgbkiFpgTYmnXLbfcEvz4xz8ufS5/c9JJJwX33ntvuald75uFczkk88dIcMkll5SbwvezZs0K26ytrW21fWkbstgunO9TxFP7f0Si+FrLcUbCuTxLFvp/ud7q91n8bkyYMCEwV6Oqq2L9bH40DA455JDwXBIVxO/L97///YrzRbSvvf0iihO9NgvnqL74amZ+BGYWSbkpfD9v3rzw3IDn947estgu1czOOOOMYPLkydXmis96bqjAEdRybqj0CIJaOJf7ZP3cUF4Xn9532D1S+GsEbtEvPni1Ca9U4ZWbaMNL8DgKx1/7qA3jRDGoMkn2L7/8MpwSVp4br3Lh5/LceOVo4sSJ8IMf/KDmqWDov8kmm8Aaa6y6+IdTFt9//30wf9AnSWv3/mbhzAGFU/5wOhpe6fzvf//LcXVWNovtgpX/5z//Gfb/008/HW699dbwaqoNivb/VXRqPc5IOK/KkvzOh/5vU5m174b5wxdeffXVcObCL3/5y3DmgRn0JB5b8LsxdOjQinPJVlttBcuWLQOcglbvrVk4cziaH+DC2wnwytS///1vjquzsllrl+qK499yeDX2G9/4RvWuis96bliFg3NuiLxq5RyVr+XV93NDLXXoiDIdMpDCS4033HADbLTRRuGJBCuO9yXhYAOnvJVvOJUP98VteK+UuYJVmiIXV6YWG95vhZqie7EiH/xcnhun3aHm7bbbLiqS+Ir+cXHRsTx2YiBBgWbiXAue3r17h3/k4CAA/+H0ULxnCg9IaW5ZbZedd945nFaLfyTuv//+8I9//AN+97vfWdFp/1+Fp9bjjITzqiz0O1/6P60QwuNw1s4N5mpGWKU77rgDcEqmuToF66+/Ppx77rkwd+5csrpx3w083+Gm54YitvJzsJRzMZL9f7w/zVwJDG8r+PnPfw4bb7xxeB9V2oOprJ4byun+7W9/C+9Dw7+VbFtc/4/+VtL+XyRX3v+rWdbKudov7nMWzg1xun2xrbpMkqIiXHgBf3HDE410w3uNLr30UjjooIPCRSlqjfPyyy/DhRdeWCqOVyY222yz0mfqDR5QzdSwMCdVBu/twsUicMOrUHhC7chNOVfSx4VNyhc3wQM9npzxnje87y6tLYvtgmyie/rwPf6Sjgdf/A7joi4DBw4M/wjR/o90AKTHGfStF2df+j/Wkdqy+N0wU0zC6mC74X04uOFACs8XjzzySLh4BJ5zsE/g1q9fv/De4PBDB/2nnCvB432y++67b8mIi0zhPWt4n89Xv/rVkr3eb7LYLuVMcGGDxx57DL773e+Wm/XcUEajPeeGKIxrzlk4N0R19/E19YEUHihwQQm8EoBXBKINR954edPcK1VxVQqnTUS/UkRlzb1T4bQsPHFVf2GjMtQrLnZRvmIP/gK45pprhgtWVP8KUv6LCZ4U8Y/u6hUAcTEMHDSZ+7TAzHENpydi7ugm/LhfFKI81fWiNEvszcZZwgh98ISZ5vS+rLZLHN9oRctoIKX9fxUl6XFmVYRV72rhvKo0713a/d+mLqvfDfxBAbchQ4ZUVA+npuOqfLidcMIJgH/84IYLUeCGx39c4a98w/MdbnpuKFIpPwdLORcj8f/H78bzzz/PdxR6ZLX/l1f3ySefDKd74+qT5ZueG1bRcHFu4HBelZn3zqdzA095+qVTG0jhr3a4BCkugY6DDly6vHwbPnx4eIJ54YUXYMcddwx34X1EeCLCpdKjLbqShV/Uww47LDLX/IoDHPz1vHrD/DhYipYyx0vs+DlaDRCnMlXP+cWlz3Gp8ugXK/ylsXpD7bgkLg4So/uk8OCMvwC0996u6lz4uVk5x7GoxYZzuaMTdC3lpWWy3i5x9UZ2uEX8tP+HOML/pMeZVRFWvauF86rSvHdp9X+bqqx/N7Df43cAz1flG07rw3uecOvTp0/5rvA9nhvuvPNOwMFTNKUPzw1dunRZbVC2mrPA0KycBahCl7S+G1lvl3K+ON0M/x6qXglXzw2rKLk4N3A4r8rMe5dW/+ep8rN0agMp/LUFL/nizWx4ooiuyuAy1Nix8BUHKrj8Iw4w8DMOvPBkEw2kcDofTiXCxRrwMnwUAxeGKP/iRn94fPbZZ+HzpvAzDmKqfzEsbxKMd9VVVwEOqHAkfv/994e/rOy2225hMfyFMO5XQlwMo3pQWB4X73fAufNXX311+OwoHAg+8MAD4QAsKoeDLLzKhhu+X7BgAaBmnLcdN+iL/OJem5UzskCGyA8X8cC2R4a44fNccMMpfNhWuLwt/jqMByMcLOMN4vXest4ueNUJv7/4fC78fuJ3Ee8ZxKux+Mw1atP+X0km6Tgj5YxZfO7/lRQqP2X9u4FLnO+3334wderU8FiDx5tHH300fJ4dTvemNjyP4TkJlzw//PDDw/PZbbfdFj4mBGdJRFt0HOOczyLf8tdm5YwM8HuF/PBvBjz2R0yRP/5tgO2FrzglEzd8hAZOy8QrifXest4uER9kjNPW8OpTLZueGyopJZ0botJczuiX1XNDVGffX3Pm15DiBO86KzXLvMZmMMt9QzRYwQMcDqQef/zx8A/i6gfy4olq2rRpq8XBXztwEBRtcbmqy0Rly1/xYWg4JxoPtngyPProo8NnSpWXKX+PebgP5G1tbQ2vcuEVrmijHrS26aabwjnm6h1ni6s7+jcD55NPPrl0j1o5M+w3uN19992Az7fAgWqnTp3CAQBODd18883Li9flfdbbBa8M48IS+EMArl6J03Lx6i0+r638mVxx8Mofuqj9H8B2nGkPZ5/7f1y/iGxZ/25E9cCHxZslncMfcvDHBXzgPC5aYNvwnkLz2A3AB/LiMQlnWuCgKpr+h75xfGo5n1XnjYuDZbJ2bpBwxvMoPq+pesNBLP64hgMpPD/g9w9/mMVpmTg4jmbHVPu5/Nwo7YKruOKqrvi3GDKsZdNzQyUl27khKinhnNVzQ1Rn319TG0j5DkL1KQEloASUgBJQAkpACSgBJaAEaiVQ288GtUbTckpACSgBJaAElIASUAJKQAkogSYgoAOpJmhkraISUAJKQAkoASWgBJSAElACbgnoQMotT42mBJSAElACSkAJKAEloASUQBMQ0IFUEzSyVlEJKAEloASUgBJQAkpACSgBtwR0IOWWp0ZTAkpACSgBJaAElIASUAJKoAkI6ECqCRpZq6gElIASUAJKQAkoASWgBJSAWwI6kHLLU6MpASWgBJSAElACSkAJKAEl0AQEdCDVBI2sVVQCSkAJKAEloASUgBJQAkrALQEdSLnlqdGUgBJQAkpACSgBJaAElIASaAICazRBHbWKSkAJKAEl0OAEHn30UZg8eXKplmuuuSZ0794dhg4dCltvvTWMHj0aunTpUtpf65vZs2fDc889B/vssw9069atVjctpwSUgBJQAk1AQAdSTdDIWkUloASUQLMQOOSQQ6B///6wYsUKWLRoEbz00ktw4403wn333Qfjx4+HYcOGsVDgQGratGmw22676UCKRU4LKwEloAQan4AOpBq/jbWGSkAJKIGmIYBXn0aMGFGq7wEHHACzZs2Ciy++GC699FK44oorYK211irt1zdKQAkoASWgBKQEdCAlJad+SkAJKAElkAkCm2++OXz3u9+FKVOmwD/+8Q/Yfffd4a233oJ7770XXn75ZVi4cCF07do1nAI4btw4aG1tDes1derU8GoUfjjllFNKdZ00aVJ41QsNGA+vdr377rvhAG3LLbeEI444AtZee+1SeX2jBJSAElACjUlAB1KN2a5aKyWgBJSAEigjsOuuu4YDqeeffz4cSOHrhx9+GE7Z69WrVzgQevjhh8PXCy64AHK5HOywww4wd+5cePzxx+HII48sDbB69OgRRr7zzjvh9ttvh5122gnGjBkDS5YsgQceeADOPvvs8OqX3lNV1gD6VgkoASXQgAR0INWAjapVUgJKQAkogUoCffv2Da86zZs3L9yx5557wre//e2KQhtssAFMnDgR/vvf/8Imm2wS3k+1/vrrhwOp7bbbrnQVCp3mz58PeMXqe9/7Hhx44IGlONtvvz2ceeaZMGPGjAp7qYC+UQJKQAkogYYhoMufN0xTakWUgBJQAkrARqBz586wbNmysEj5fVJffPFFeDUJB1K4zZkzJ3y1/ffUU09BEAQwatSo0BevRuE/vLo1cOBAePHFF23uuk8JKAEloAQagIBekWqARtQqKAEloASUQDKBzz77DHr27BkWbGtrgzvuuANmzpwJixcvrnBeunRpxee4Dx988EE4kDr11FPjdsMaa+jpNRaMGpWAElACDURAj/QN1JhaFSWgBJSAEogn8PHHHwMOkAYMGBAWwNX7cGnz/fbbD9Zbbz3Aq1WFQgEuvPDC8DU+yiorlsX7qM466yzI51ef3IHxdFMCSkAJKIHGJqADqcZuX62dElACSkAJGAK4uh5uW221FeDVqBdeeAHwmVMHHXRQaMf/cGGJ6g0HS3EbTt/DqX34zKp11lknrojalIASUAJKoMEJrP4zWoNXWKunBJSAElACzUUAnyP15z//ORz07LzzzqUrSDgQKt9wGfPqrVOnTqGperofLiqBV6LwYb3VcfDzJ598Uh1KPysBJaAElECDEdArUg3WoFodJaAElEAzE3jmmWfgvffeC6fnLVq0KFz0AZc6x+c6jR8/PnzWEy40gavy3XPPPbBixQro06cPPPfcc+Fy6NXshg8fHprwGVRf+9rXoKWlBbbddttwQYlDDz0Ubr311nAFP1zVD6fz4ZLq//rXv8Ll0HHaoG5KQAkoASXQuARy5pezyp/kGreuWjMloASUgBJoUAKPPvooTJ48uVQ7XOyhe/fuMHToUNhmm21g9OjR0KVLl9L+BQsWwHXXXRcOtPA0+JWvfAWOPvpoOP7448PpfjjtL9rwatZDDz0UPrgXy5Y/kBdX78MrWdFKfzhgwwcA77333jrlLwKor0pACSiBBiWgA6kGbVitlhJQAkpACSgBJaAElIASUAL1I6D3SNWPrUZWAkpACSgBJaAElIASUAJKoEEJ6ECqQRtWq6UElIASUAJKQAkoASWgBJRA/QjoQKp+bDWyElACSkAJKAEloASUgBJQAg1KQAdSDdqwWi0loASUgBJQAkpACSgBJaAE6kdAB1L1Y6uRlYASUAJKQAkoASWgBJSAEmhQAjqQatCG1WopASWgBJSAElACSkAJKAElUD8COpCqH1uNrASUgBJQAkpACSgBJaAElECDEtCBVIM2rFZLCSgBJaAElIASUAJKQAkogfoR0IFU/dhqZCWgBJSAElACSkAJKAEloAQalIAOpBq0YbVaSkAJKAEloASUgBJQAkpACdSPgA6k6sdWIysBJaAElIASUAJKQAkoASXQoAR0INWgDavVUgJKQAkoASWgBJSAElACSqB+BP4/Ic7KmVdvgegAAAAASUVORK5CYII=)"
      ],
      "metadata": {
        "id": "a-iHhWzj3N7M"
      }
    },
    {
      "cell_type": "code",
      "source": [
        "# Do exercise here\n"
      ],
      "metadata": {
        "id": "lA9BsTcH4ZQb"
      },
      "execution_count": 46,
      "outputs": []
    },
    {
      "cell_type": "markdown",
      "source": [
        "As the final part of our analysis, let's look at what Musk actually said about DOGEcoin on these dates:"
      ],
      "metadata": {
        "id": "1HDi4_X73_P0"
      }
    },
    {
      "cell_type": "code",
      "source": [
        "min_date = pd.Timestamp(\"2021-04-01\")\n",
        "max_date = pd.Timestamp(\"2021-07-31\")\n",
        "mask = tweets[\"Datetime\"].between(min_date, max_date) & tweets[\"Text\"].str.contains(\"doge\", case=False)\n",
        "\n",
        "selected_tweets = tweets[mask]\n",
        "selected_tweets = selected_tweets[[\"Datetime\", \"Text\"]]\n",
        "table = tabulate(selected_tweets, headers=[\"Datetime\", \"Tweet\"], showindex=False)\n",
        "print(table)"
      ],
      "metadata": {
        "collapsed": true,
        "id": "K81Ni1_lE6UT"
      },
      "execution_count": null,
      "outputs": []
    },
    {
      "cell_type": "markdown",
      "source": [
        "Funny enough, we see that he had a tweet on April 28th, and the price of DOGEcoin sparked following this. The tweet was simply him calling himself the \"The Dogefather\" while teasing for a SNL appearance. This incident was actually mentioned in [some news medias](https://www.marketwatch.com/story/elon-musk-dubs-himself-the-dogefather-in-snl-promo-tweet-prompting-real-people-to-invest-actual-money-in-joke-crypto-11619633399)."
      ],
      "metadata": {
        "id": "nu63XiYN413m"
      }
    },
    {
      "cell_type": "markdown",
      "source": [
        "Feel free to play around with the datasets after the workshop. What other questions can you think of that you would like to investigate?"
      ],
      "metadata": {
        "id": "3HmGPLTz0fyG"
      }
    },
    {
      "cell_type": "markdown",
      "source": [
        "## Let's make an AI 🤖"
      ],
      "metadata": {
        "id": "jcLRPOfOQhTA"
      }
    },
    {
      "cell_type": "markdown",
      "source": [
        "Our analysis has shown that there are indeed cases where Musk tweets about DOGEcoin and so affects the price of it.\n",
        "\n",
        "This is encouraging to us, because it suggests that perhaps an AI could learn to predict the change in DOGEcoin price somewhat well, based on what Musk is tweeting.\n",
        "\n",
        "Naturally, what Musk tweets isn't the only factor in determining the price of DOGEcoin, so we do not expect our AI to be able to predict anywhere near perfect, but we have reason to expect that it should be able to predict rough trends."
      ],
      "metadata": {
        "id": "EYcQQ6Pr53sq"
      }
    },
    {
      "cell_type": "markdown",
      "source": [
        "Before we get started, let us talk about which libraries that we will be using.\n",
        "\n",
        "Our main library is PyTorch, which is a very popular deep learning framework to help us create, train, and use neural networks. Whenever you see a news article about \"Big company released new Large Language Model (LLM)\", then there is a high probability that they used PyTorch to make the LLM.\n",
        "\n",
        "See the PyTorch documentation [here](https://pytorch.org/docs/stable/index.html).\n",
        "\n",
        "Let's import PyTorch:"
      ],
      "metadata": {
        "id": "x7eF2nrD4kTO"
      }
    },
    {
      "cell_type": "code",
      "source": [
        "import torch"
      ],
      "metadata": {
        "id": "9_p69bgN5XTr"
      },
      "execution_count": 48,
      "outputs": []
    },
    {
      "cell_type": "markdown",
      "source": [
        "Our second library will be Hugging Face transformers.\n",
        "\n",
        "A Transformer is a kind of neural network that is ubiquitous nowadays. I dare say that every single LLM (including ChatGPT) that you hear about, is some kind of Transformer.\n",
        "\n",
        "Hugging Face transformers (🤗 transformers) is all about Transformers. It provides a large variety of different Transformers that researchers have made available for us to use free of charge. You can think of it as a free app store for neural networks.\n",
        "\n",
        "You can go to [this page](https://huggingface.co/models) to search amongst more than 300,000 different Transformer models for a large range of different tasks.\n",
        "\n",
        "You can also go to [this page](https://huggingface.co/docs/transformers/main_classes/model) to see all of the different kinds of Transformer models that they support.\n",
        "\n",
        "🤗 transformers is not yet installed in our notebook, so we will need to install it ourself:"
      ],
      "metadata": {
        "id": "uoGRbCmg5ZaR"
      }
    },
    {
      "cell_type": "code",
      "source": [
        "!pip install transformers"
      ],
      "metadata": {
        "id": "Fl-pJMj9Qk89"
      },
      "execution_count": null,
      "outputs": []
    },
    {
      "cell_type": "markdown",
      "source": [
        "Let's now import what we will be needing from 🤗 transformers:"
      ],
      "metadata": {
        "id": "kza2loX4y1q2"
      }
    },
    {
      "cell_type": "code",
      "source": [
        "from transformers import BertTokenizer\n",
        "from transformers import BertForSequenceClassification"
      ],
      "metadata": {
        "id": "-6n4Fu0Ey31E"
      },
      "execution_count": 50,
      "outputs": []
    },
    {
      "cell_type": "markdown",
      "source": [
        "Now that we got the tooling in place, then our first step on the journey of creating an AI, is to designate a part of our dataset for training the AI and another part for testing it.\n",
        "\n",
        "We make this distinction because the AI will have seen the training part of the dataset and can therefore not be used to reliably measure how well it is performing.\n",
        "\n",
        "We designate the first half of 2021 for training and the latter half for testing:"
      ],
      "metadata": {
        "id": "XV0autX1vWzu"
      }
    },
    {
      "cell_type": "code",
      "source": [
        "plt.figure()\n",
        "\n",
        "mid_index = len(mean_day_price) // 2\n",
        "training_prices = mean_day_price.iloc[:mid_index]\n",
        "test_prices = mean_day_price.iloc[mid_index:]\n",
        "\n",
        "plt.plot(training_prices.index, training_prices, label=\"Training set\")\n",
        "plt.plot(test_prices.index, test_prices, label=\"Test set\")\n",
        "\n",
        "plt.xlabel(\"Date\")\n",
        "plt.ylabel(\"Price (USD)\")\n",
        "plt.title(\"Split into training and test set\")\n",
        "plt.legend()\n",
        "\n",
        "plt.show()"
      ],
      "metadata": {
        "id": "aovNjjH4vn0J"
      },
      "execution_count": null,
      "outputs": []
    },
    {
      "cell_type": "markdown",
      "source": [
        "We can see that the training and test sets have very different characteristics, so it will be difficult for the AI to learn to predict the test set based on the training set. Nevertheless, we will give it a try!"
      ],
      "metadata": {
        "id": "0GB1EAuNxmyw"
      }
    },
    {
      "cell_type": "markdown",
      "source": [
        "Our next step is to figure out what exactly we want the AI to learn.\n",
        "\n",
        "A simple idea could be to predict the price of DOGEcoin the following day that a tweet is made. However, this may cause some trouble because it usually takes more than a day from the time a tweet is made, to the time that we can see a change in the price.\n",
        "\n",
        "We could instead try to predict the price 3 days in the future of when a tweet is made. This guess seems reasonable, so we are going to try it.\n",
        "\n",
        "We are also going to make an additional change to what the AI will learn: We know from our analysis that the price can change rapidly from day to day. This may make it difficult to predict the exact price of a given day. We will try to mitigate this by learning to predict the average price of 2, 3, and 4 days into the future. Hopefully, this should provide a useful learning goal for the AI.\n",
        "\n",
        "Finally, we are not only going to be looking at a single tweet, but at all of the tweets made within a given day.\n",
        "\n",
        "Let's create the inputs and targets for this learning goal:"
      ],
      "metadata": {
        "id": "JpXwoyDPy8fz"
      }
    },
    {
      "cell_type": "code",
      "source": [
        "price_days_offset = 3  # Predict 3 days into the future\n",
        "price_days_interval = 1  # Average price from 2, 3, and 4 days in the future\n",
        "\n",
        "# Join all tweets per day\n",
        "\n",
        "def join_tweets(tweets):\n",
        "  return \"\\n\".join(tweets)\n",
        "\n",
        "\n",
        "group_tweets_by_day = pd.Grouper(key=\"Datetime\", freq=\"D\")\n",
        "tweets_per_day = tweets.groupby(group_tweets_by_day)[\"Text\"].apply(join_tweets)\n",
        "\n",
        "# Find the daily price\n",
        "\n",
        "group_price_per_day = pd.Grouper(key=\"open_time\", freq=\"D\")\n",
        "price_per_day = dogecoin.groupby(group_price_per_day)[\"price\"].mean()\n",
        "\n",
        "dates = []\n",
        "inputs = []\n",
        "targets = []\n",
        "\n",
        "end_index = len(tweets_per_day) - price_days_offset\n",
        "for day_index in range(end_index):\n",
        "  date = tweets_per_day.index[day_index]\n",
        "  dates.append(date)\n",
        "\n",
        "  text = tweets_per_day.iloc[day_index]\n",
        "  inputs.append(text)\n",
        "\n",
        "  # Find the average price of DOGEcoin 2, 3, and 4 days into the future\n",
        "  future_index = day_index + price_days_offset\n",
        "  interval_start = future_index - price_days_interval\n",
        "  interval_end = future_index + price_days_interval\n",
        "  future_price = price_per_day.iloc[interval_start:interval_end + 1].mean()\n",
        "\n",
        "  # Use the difference between the average from above and the current price as the target\n",
        "  current_price = price_per_day.iloc[day_index]\n",
        "  price_change = future_price - current_price\n",
        "  targets.append(price_change)\n",
        "\n",
        "# Split inputs and targets into training and test parts\n",
        "training_inputs = inputs[:mid_index]\n",
        "training_targets = targets[:mid_index]\n",
        "\n",
        "test_inputs = inputs[mid_index:]\n",
        "test_targets = targets[mid_index:]"
      ],
      "metadata": {
        "id": "vnQHCsuBy_ic"
      },
      "execution_count": 52,
      "outputs": []
    },
    {
      "cell_type": "markdown",
      "source": [
        "Let's inspect our inputs and targets:"
      ],
      "metadata": {
        "id": "rWqJazYCy6cL"
      }
    },
    {
      "cell_type": "code",
      "source": [
        "print(inputs[100])"
      ],
      "metadata": {
        "id": "Ac63FHhs27jp"
      },
      "execution_count": null,
      "outputs": []
    },
    {
      "cell_type": "code",
      "source": [
        "print(targets[100])"
      ],
      "metadata": {
        "id": "nnP7XoF13ABW"
      },
      "execution_count": null,
      "outputs": []
    },
    {
      "cell_type": "markdown",
      "source": [
        "It is now time to specify the Transformer that we will be using from Hugging Face. We are going to use something called BERT (short for Bidirectional Encoder Representations from Transformers). It is a very common Transformer model when working with text in English.\n",
        "\n",
        "The Hugging Face ID is *bert-base-cased* and you can see a description of BERT on [its Hugging Face page](https://huggingface.co/bert-base-cased)."
      ],
      "metadata": {
        "id": "h_xyolwQEjfK"
      }
    },
    {
      "cell_type": "code",
      "source": [
        "model_id = \"bert-base-cased\""
      ],
      "metadata": {
        "id": "7zcW198I8fr4"
      },
      "execution_count": 55,
      "outputs": []
    },
    {
      "cell_type": "markdown",
      "source": [
        "Fun fact: This model has 109 million parameters. While that is about a 1000 times smaller than the enormous 175 billion parameter size of ChatGPT, then this is still a fairly large model."
      ],
      "metadata": {
        "id": "bS_7jVVdLIJt"
      }
    },
    {
      "cell_type": "markdown",
      "source": [
        "The first thing from the model that we will get is the tokenizer. The tokenizer is the algorithm that will divide words into what we call tokens.\n",
        "\n",
        "But wait, what is a token in the first place?\n",
        "\n",
        "A token is a word or a part of a word. For example, we might want to divide the word \"being\" into two tokens: \"be\" and \"ing\". This way we can separate the standard form of the verb and its suffix that indicates the tense.\n",
        "\n",
        "Let's see this happening with an example. First we will need to load the tokenizer from Hugging Face:"
      ],
      "metadata": {
        "id": "2gxS11FzF_w8"
      }
    },
    {
      "cell_type": "code",
      "source": [
        "tokenizer = BertTokenizer.from_pretrained(model_id)"
      ],
      "metadata": {
        "id": "r8-rX0wo8a8_"
      },
      "execution_count": null,
      "outputs": []
    },
    {
      "cell_type": "markdown",
      "source": [
        "Now, see what happens when we tokenize the sentence \"Tokenization is used in AI.\", using the tokenizer that we downloaded:"
      ],
      "metadata": {
        "id": "CrpRG19uIQey"
      }
    },
    {
      "cell_type": "code",
      "source": [
        "sentence = \"Tokenization is used in AI.\"\n",
        "tokens = tokenizer(sentence, add_special_tokens=False)\n",
        "tokenizer.convert_ids_to_tokens(tokens[\"input_ids\"])"
      ],
      "metadata": {
        "id": "oYSm7cpgIOK-"
      },
      "execution_count": null,
      "outputs": []
    },
    {
      "cell_type": "markdown",
      "source": [
        "We see that the tokenizer decided to split the word \"Tokenization\" into three tokens: \"To\", \"ken\", and \"ization\". Notice especially the last token (\"ization\"). This is the ending of [so many words](https://www.thefreedictionary.com/words-that-end-in-ization) (e.g. familiarization, civilization, etc.), so it is useful to have a token for all of those endings."
      ],
      "metadata": {
        "id": "WmfrvlePJjMa"
      }
    },
    {
      "cell_type": "markdown",
      "source": [
        "Transformers have what is called a context window. A context window is the maximum number of tokens that it can look at per example. There are technical reasons (mostly because of speed and memory usage) for why a context window is there in the first place.\n",
        "\n",
        "Ideally, we would like to not be limited by a context window, but that is unfortunately infeasible. We have to make sure that most of our inputs are within the context window of the Transformer that we will be using, which has a context window of 512 tokens.\n",
        "\n",
        "\n",
        "\n",
        "Let's make a histogram of the number of tokens in our inputs:"
      ],
      "metadata": {
        "id": "pWZPUpGZy_1U"
      }
    },
    {
      "cell_type": "code",
      "source": [
        "plt.figure()\n",
        "num_words = [len(text.split()) for text in inputs]\n",
        "tokens = [tokenizer(text)[\"input_ids\"] for text in inputs]\n",
        "num_tokens = [len(t) for t in tokens]\n",
        "plt.hist(num_tokens, bins=30, edgecolor=\"black\")\n",
        "plt.xlabel(\"Number of tokens (input length)\")\n",
        "plt.ylabel(\"Number of inputs\")\n",
        "plt.title(\"Histogram of input lengths\")\n",
        "plt.show()"
      ],
      "metadata": {
        "id": "SfuUn7S25ZJT"
      },
      "execution_count": null,
      "outputs": []
    },
    {
      "cell_type": "markdown",
      "source": [
        "Fortunately, most of our inputs can fit within our Transformer's context window 🥳"
      ],
      "metadata": {
        "id": "-_RDqcrF0c_C"
      }
    },
    {
      "cell_type": "markdown",
      "source": [
        "Neural networks (including Transformers) are very slow on CPUs, but blazingly fast on GPUs. We can tell PyTorch to use the GPU by specyfing which device to use. We will check whether a GPU is available and use that if it is:"
      ],
      "metadata": {
        "id": "l4eJGqtiFOMy"
      }
    },
    {
      "cell_type": "code",
      "source": [
        "device = torch.device(\"cuda\" if torch.cuda.is_available() else \"cpu\")"
      ],
      "metadata": {
        "id": "E2-TjyfD5wKC"
      },
      "execution_count": 59,
      "outputs": []
    },
    {
      "cell_type": "markdown",
      "source": [
        "It is now time to setup our inputs and targets in a format that PyTorch knows how to work with."
      ],
      "metadata": {
        "id": "MB7E_G3GGL-M"
      }
    },
    {
      "cell_type": "code",
      "source": [
        "# PyTorch uses Dataset to allow accessing any part of our inputs/targets in an easy manner.\n",
        "# We could also do some preprocessing here, if we desired to do so, but that is not needed in this case.\n",
        "\n",
        "class Dataset(torch.utils.data.Dataset):\n",
        "  def __init__(self, inputs, targets):\n",
        "    super().__init__()\n",
        "    self.inputs = inputs\n",
        "    self.targets = targets\n",
        "\n",
        "  def __len__(self):\n",
        "    return len(self.inputs)\n",
        "\n",
        "  def __getitem__(self, index):\n",
        "    return self.inputs[index], self.targets[index]\n",
        "\n",
        "# PyTorch uses collator to combine several outputs of Dataset into a batch.\n",
        "# A batch contains all of the values that the model needs in a format that is highly efficient to work with.\n",
        "\n",
        "def collator(batch):\n",
        "  inputs, targets = zip(*batch)\n",
        "\n",
        "  tokenized_inputs = tokenizer(inputs, return_tensors=\"pt\", padding=True, truncation=True)\n",
        "  for key, value in tokenized_inputs.items():\n",
        "    tokenized_inputs[key] = value.to(device)\n",
        "  targets = torch.tensor(targets).to(device)\n",
        "\n",
        "  return tokenized_inputs, targets\n",
        "\n",
        "# Data loaders are the glue that combines Dataset and collator.\n",
        "# We create separate data loaders for the training and test sets.\n",
        "\n",
        "batch_size = 9  # Use 9 inputs and targets in every training step\n",
        "\n",
        "training_dataset = Dataset(training_inputs, training_targets)\n",
        "training_dataloader = torch.utils.data.DataLoader(\n",
        "    training_dataset,\n",
        "    batch_size=batch_size,\n",
        "    shuffle=True,\n",
        "    collate_fn=collator,\n",
        ")\n",
        "\n",
        "test_dataset = Dataset(test_inputs, test_targets)\n",
        "test_dataloader = torch.utils.data.DataLoader(\n",
        "    test_dataset,\n",
        "    batch_size=1,\n",
        "    shuffle=False,\n",
        "    collate_fn=collator,\n",
        ")"
      ],
      "metadata": {
        "id": "8ULoTzzC9Nqc"
      },
      "execution_count": 60,
      "outputs": []
    },
    {
      "cell_type": "markdown",
      "source": [
        "Training a neural network requires that you define what it needs to learn. You define that through what is called a loss function. When we train a neural network, what we are actually doing is to find some network parameters that make the loss function as small as possible.\n",
        "\n",
        "It is okay if this part is hard to understand. I recommend to use some of the ressources towards the bottom if you want to learn more about machine learning and AI more generally.\n",
        "\n",
        "In our particular case, we will be using a loss function called the *mean squared error*. This is often a good choice of loss function when you want to learn to predict a number, like we are doing here."
      ],
      "metadata": {
        "id": "H1Nwc3XcH7BO"
      }
    },
    {
      "cell_type": "code",
      "source": [
        "def loss(predictions, labels):\n",
        "  error = predictions - labels\n",
        "  squared_error = error * error\n",
        "  mean_squared_error = squared_error.mean()\n",
        "  return mean_squared_error"
      ],
      "metadata": {
        "id": "jCan_TU0-ZLO"
      },
      "execution_count": null,
      "outputs": []
    },
    {
      "cell_type": "markdown",
      "source": [
        "Now we get to the really exciting part.\n",
        "\n",
        "We are going to train our very own AI!\n",
        "\n"
      ],
      "metadata": {
        "id": "W8Ycyte9IYBg"
      }
    },
    {
      "cell_type": "code",
      "source": [
        "# We train the model by letting it learn from the training set 10 times (epochs).\n",
        "\n",
        "epochs = 5\n",
        "\n",
        "# The learning rate defines how fast the model learns.\n",
        "# Higher learning rate gives faster learning, but there is a catch:\n",
        "# Learning may become unstable, and perhaps not even learn it all, if we set it too high.\n",
        "# There is no way of knowing what a good learning rate is in advance.\n",
        "# You just have to try and see what works, but you get good a guessing a fitting learning rate\n",
        "# as you get more experience with training neural networks.\n",
        "# A learning rate of 10^-4 works well enough in this case.\n",
        "learning_rate = 1e-4\n",
        "\n",
        "# There is a lot of randomness involved in training a neural network.\n",
        "# We can ensure that a training always does the same by setting a seed.\n",
        "torch.manual_seed(1)\n",
        "\n",
        "# This is our Transformer (BERT).\n",
        "# We load it from Hugging Face using the from_pretrained method.\n",
        "model = BertForSequenceClassification.from_pretrained(model_id, num_labels=1)\n",
        "_ = model.to(device)\n",
        "\n",
        "# The optimizer is what will do the actual learning.\n",
        "# It is going to update the network parameters at every training step.\n",
        "# Explaining how this works is difficult without getting mathmatical:\n",
        "# In brief, it does so by following the gradient, which is found based on the loss function.\n",
        "optimizer = torch.optim.Adam(\n",
        "    model.parameters(),\n",
        "    lr=learning_rate,\n",
        ")\n",
        "\n",
        "# Here we do the \"training loop\".\n",
        "# It goes through the training set a number of times (specified by the epochs variable).\n",
        "# Every time it does so, we ask the optimizer to try and make the loss smaller.\n",
        "\n",
        "model.train()\n",
        "training_step = 0\n",
        "losses = []\n",
        "for epoch in range(epochs):\n",
        "  for batch_index, batch in enumerate(training_dataloader):\n",
        "\n",
        "    batch_inputs, batch_targets = batch\n",
        "\n",
        "    # Use model to predict the targets\n",
        "    predictions = model(**batch_inputs).logits\n",
        "\n",
        "    # Use predictions and targets to calculate the loss\n",
        "    loss_value = loss(predictions, batch_targets)\n",
        "\n",
        "    # Try and minimise the loss using the optimizer\n",
        "    loss_value.backward()\n",
        "    optimizer.step()\n",
        "    optimizer.zero_grad()\n",
        "\n",
        "    losses.append(loss_value.cpu().item())\n",
        "\n",
        "    if training_step % 10 == 0:\n",
        "      # Log our progress so we can see whether the model is actually learning\n",
        "      average_loss = sum(losses[-10:]) / 10\n",
        "      print(f\"Epoch {epoch}, batch {batch_index}: {average_loss:.4f}\")\n",
        "\n",
        "    training_step += 1"
      ],
      "metadata": {
        "colab": {
          "base_uri": "https://localhost:8080/",
          "height": 288,
          "referenced_widgets": [
            "ff98e3027e334f86bb51f4e90f978713",
            "f87339eb2fa64a5397fcad2f34d08c3c",
            "da5e22685c03430a92b9ade0771b25aa",
            "bdc37d7e9d144bccb8906c4dc575f282",
            "c23cb556e9bc40e1aa285f3f10844b9b",
            "1d634abac58547c9b2239203b05618bf",
            "3f632980878b4767842db122579ecba2",
            "aae4a908c2074f12a40258a493877cf2",
            "b64fdcdb9ae34622a0170b6d644eb55c",
            "5806b1181fe640dfb389258ab2d87c85",
            "14c5cbf3a3ea4048bb9d32488b618cce"
          ]
        },
        "id": "jcwdfk849x6e",
        "outputId": "cc2ede2d-f9f8-4859-cd88-ba2cfe48789d"
      },
      "execution_count": null,
      "outputs": [
        {
          "output_type": "display_data",
          "data": {
            "text/plain": [
              "Downloading model.safetensors:   0%|          | 0.00/436M [00:00<?, ?B/s]"
            ],
            "application/vnd.jupyter.widget-view+json": {
              "version_major": 2,
              "version_minor": 0,
              "model_id": "ff98e3027e334f86bb51f4e90f978713"
            }
          },
          "metadata": {}
        },
        {
          "output_type": "stream",
          "name": "stderr",
          "text": [
            "Some weights of BertForSequenceClassification were not initialized from the model checkpoint at bert-base-cased and are newly initialized: ['classifier.bias', 'classifier.weight']\n",
            "You should probably TRAIN this model on a down-stream task to be able to use it for predictions and inference.\n"
          ]
        },
        {
          "output_type": "stream",
          "name": "stdout",
          "text": [
            "Epoch 0, batch 0: 0.0029\n",
            "Epoch 0, batch 10: 0.0728\n",
            "Epoch 0, batch 20: 0.0130\n",
            "Epoch 1, batch 9: 0.0137\n",
            "Epoch 1, batch 19: 0.0060\n",
            "Epoch 2, batch 8: 0.0081\n",
            "Epoch 2, batch 18: 0.0066\n",
            "Epoch 3, batch 7: 0.0086\n",
            "Epoch 3, batch 17: 0.0074\n",
            "Epoch 4, batch 6: 0.0086\n",
            "Epoch 4, batch 16: 0.0049\n"
          ]
        }
      ]
    },
    {
      "cell_type": "markdown",
      "source": [
        "We can plot the value of the loss throughout the training to get an idea of how well it learned. This is what we call a learning curve:"
      ],
      "metadata": {
        "id": "S6RVv-ApMBVF"
      }
    },
    {
      "cell_type": "code",
      "source": [
        "plt.figure()\n",
        "x_values = range(len(losses))\n",
        "plt.plot(x_values, losses)\n",
        "plt.xlabel(\"Training step\")\n",
        "plt.ylabel(\"Loss\")\n",
        "plt.title(\"Learning curve\")\n",
        "plt.show()"
      ],
      "metadata": {
        "colab": {
          "base_uri": "https://localhost:8080/",
          "height": 477
        },
        "id": "sG2p4UFgMJf2",
        "outputId": "0c57f1a8-96cb-4e25-ad10-da8ae0887321"
      },
      "execution_count": null,
      "outputs": [
        {
          "output_type": "display_data",
          "data": {
            "text/plain": [
              "<Figure size 640x480 with 1 Axes>"
            ],
            "image/png": "[encoded data removed]"
          },
          "metadata": {}
        }
      ]
    },
    {
      "cell_type": "markdown",
      "source": [
        "The moment of truth is upon us. It is time to test how well (and whether) our AI can actually predict the price of DOGEcoin.\n",
        "\n",
        "Recall, that we designated the latter half of 2021 for testing. We will now use our AI to predict the price on every day in the test set, and compare the predictions to the actual price during that time."
      ],
      "metadata": {
        "id": "whs9aLD3Nupx"
      }
    },
    {
      "cell_type": "code",
      "source": [
        "# We loop over all inputs in the testset.\n",
        "model.eval()\n",
        "predictions = []\n",
        "for batch in test_dataloader:\n",
        "    batch_inputs, _ = batch\n",
        "\n",
        "    # This is where the model makes the predictions.\n",
        "    with torch.no_grad():\n",
        "      prediction = model(**batch_inputs).logits\n",
        "\n",
        "    # Save the prediction in our \"predictions\" list.\n",
        "    prediction = prediction.cpu().item()\n",
        "    predictions.append(prediction)\n",
        "\n",
        "# Compare the predicted and actual price in a plot:\n",
        "\n",
        "offset = pd.Timedelta(days=price_days_offset)\n",
        "test_start_date = dates[mid_index] + offset\n",
        "\n",
        "mask = price_per_day.index >= test_start_date\n",
        "test_price_per_day = price_per_day[mask]\n",
        "\n",
        "mask = price_per_day.index >= dates[mid_index]\n",
        "price_offsets = price_per_day[mask]\n",
        "price_offsets = price_offsets.iloc[:-price_days_offset]\n",
        "predicted_prices = price_offsets + pd.Series(predictions, index=price_offsets.index)\n",
        "\n",
        "plt.figure(figsize=(15, 5))\n",
        "plt.plot(test_price_per_day.index, test_price_per_day, label=\"Actual\")\n",
        "plt.plot(test_price_per_day.index, predicted_prices, label=\"Predicted\")\n",
        "plt.xlabel(\"Date\")\n",
        "plt.ylabel(\"Price (USD)\")\n",
        "plt.title(\"Actual vs predicted DOGEcoin price\")\n",
        "plt.legend()\n",
        "plt.show()"
      ],
      "metadata": {
        "id": "_LogkWGuA3qn",
        "colab": {
          "base_uri": "https://localhost:8080/",
          "height": 492
        },
        "outputId": "beb39993-b7df-4b55-f97b-960a6308b15d"
      },
      "execution_count": null,
      "outputs": [
        {
          "output_type": "display_data",
          "data": {
            "text/plain": [
              "<Figure size 1500x500 with 1 Axes>"
            ],
            "image/png": "[encoded data removed]"
          },
          "metadata": {}
        }
      ]
    },
    {
      "cell_type": "markdown",
      "source": [
        "Our AI is doing reasonably well. It is far from perfect, but that is in line with what we expected."
      ],
      "metadata": {
        "id": "oRxNZhG6X0gR"
      }
    },
    {
      "cell_type": "markdown",
      "source": [
        "# Want to know or do more?\n",
        "\n",
        "There are a ton of free and high quality material on the internet, when it comes to learn about data science. It can be daunting to know where to begin though.\n",
        "\n",
        "When I started learning about machine learning, then I found the free online class by Andrew Ng to be a great start.\n",
        "\n",
        "You can find his introductory class on machine learning [here](https://www.coursera.org/specializations/machine-learning-introduction).\n",
        "\n",
        "He also a has class about [deep learning](https://www.coursera.org/specializations/deep-learning) (and even more specialised topics within AI) if you really want to deep into the topic.\n",
        "\n",
        "Coursera (the platform that hosts his classes) also has classes on a huge variety of other topics. You could, for example, take a class on Python programming, if you are new to the language.\n",
        "\n",
        "I would also recommend to try out [Kaggle](https://www.kaggle.com/) to get some fun experience. Kaggle let's you explore and work with a lot of datasets. In fact, the datasets we worked with today were found from Kaggle. What is more, other users will show their analysis and solutions, which can be a fun way to get inspired by what other people are doing."
      ],
      "metadata": {
        "id": "2DpSjCvVx05z"
      }
    }
  ]
}